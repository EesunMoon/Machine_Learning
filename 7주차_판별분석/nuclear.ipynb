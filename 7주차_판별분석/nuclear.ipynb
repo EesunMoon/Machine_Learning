{
 "cells": [
  {
   "cell_type": "code",
   "execution_count": 1,
   "id": "current-respect",
   "metadata": {
    "_cell_guid": "b1076dfc-b9ad-4769-8c92-a6c4dae69d19",
    "_uuid": "8f2839f25d086af736a60e9eeb907d3b93b6e0e5",
    "execution": {
     "iopub.execute_input": "2021-04-18T06:28:41.444186Z",
     "iopub.status.busy": "2021-04-18T06:28:41.443115Z",
     "iopub.status.idle": "2021-04-18T06:28:41.451149Z",
     "shell.execute_reply": "2021-04-18T06:28:41.450455Z"
    },
    "papermill": {
     "duration": 0.024152,
     "end_time": "2021-04-18T06:28:41.451317",
     "exception": false,
     "start_time": "2021-04-18T06:28:41.427165",
     "status": "completed"
    },
    "tags": []
   },
   "outputs": [
    {
     "name": "stdout",
     "output_type": "stream",
     "text": [
      "/kaggle/input/2021-ml-p5/sample_submission.csv\n",
      "/kaggle/input/2021-ml-p5/pca_test.csv\n",
      "/kaggle/input/2021-ml-p5/pca_train.csv\n",
      "/kaggle/input/2021-ml-p5/train_label.csv\n"
     ]
    }
   ],
   "source": [
    "# This Python 3 environment comes with many helpful analytics libraries installed\n",
    "# It is defined by the kaggle/python Docker image: https://github.com/kaggle/docker-python\n",
    "# For example, here's several helpful packages to load\n",
    "\n",
    "import numpy as np # linear algebra\n",
    "import pandas as pd # data processing, CSV file I/O (e.g. pd.read_csv)\n",
    "\n",
    "# Input data files are available in the read-only \"../input/\" directory\n",
    "# For example, running this (by clicking run or pressing Shift+Enter) will list all files under the input directory\n",
    "\n",
    "import os\n",
    "for dirname, _, filenames in os.walk('/kaggle/input'):\n",
    "    for filename in filenames:\n",
    "        print(os.path.join(dirname, filename))\n",
    "\n",
    "# You can write up to 20GB to the current directory (/kaggle/working/) that gets preserved as output when you create a version using \"Save & Run All\" \n",
    "# You can also write temporary files to /kaggle/temp/, but they won't be saved outside of the current session"
   ]
  },
  {
   "cell_type": "code",
   "execution_count": 2,
   "id": "inappropriate-behavior",
   "metadata": {
    "execution": {
     "iopub.execute_input": "2021-04-18T06:28:41.475081Z",
     "iopub.status.busy": "2021-04-18T06:28:41.474418Z",
     "iopub.status.idle": "2021-04-18T06:28:47.197400Z",
     "shell.execute_reply": "2021-04-18T06:28:47.196642Z"
    },
    "papermill": {
     "duration": 5.737247,
     "end_time": "2021-04-18T06:28:47.197607",
     "exception": false,
     "start_time": "2021-04-18T06:28:41.460360",
     "status": "completed"
    },
    "tags": []
   },
   "outputs": [],
   "source": [
    "x_data = pd.read_csv('/kaggle/input/2021-ml-p5/pca_train.csv')\n",
    "y_data = pd.read_csv('/kaggle/input/2021-ml-p5/train_label.csv')\n",
    "test_data = pd.read_csv('/kaggle/input/2021-ml-p5/pca_test.csv')\n",
    "submit = pd.read_csv('/kaggle/input/2021-ml-p5/sample_submission.csv')"
   ]
  },
  {
   "cell_type": "code",
   "execution_count": 3,
   "id": "described-sympathy",
   "metadata": {
    "execution": {
     "iopub.execute_input": "2021-04-18T06:28:47.244215Z",
     "iopub.status.busy": "2021-04-18T06:28:47.238056Z",
     "iopub.status.idle": "2021-04-18T06:28:47.290110Z",
     "shell.execute_reply": "2021-04-18T06:28:47.289152Z"
    },
    "papermill": {
     "duration": 0.08297,
     "end_time": "2021-04-18T06:28:47.290321",
     "exception": false,
     "start_time": "2021-04-18T06:28:47.207351",
     "status": "completed"
    },
    "tags": []
   },
   "outputs": [
    {
     "name": "stdout",
     "output_type": "stream",
     "text": [
      "<class 'pandas.core.frame.DataFrame'>\n",
      "RangeIndex: 27671 entries, 0 to 27670\n",
      "Columns: 256 entries, 0 to 255\n",
      "dtypes: float64(256)\n",
      "memory usage: 54.0 MB\n",
      "None\n",
      "<class 'pandas.core.frame.DataFrame'>\n",
      "RangeIndex: 27671 entries, 0 to 27670\n",
      "Data columns (total 2 columns):\n",
      " #   Column  Non-Null Count  Dtype\n",
      "---  ------  --------------  -----\n",
      " 0   id      27671 non-null  int64\n",
      " 1   label   27671 non-null  int64\n",
      "dtypes: int64(2)\n",
      "memory usage: 432.5 KB\n",
      "None\n",
      "<class 'pandas.core.frame.DataFrame'>\n",
      "RangeIndex: 13629 entries, 0 to 13628\n",
      "Columns: 256 entries, 0 to 255\n",
      "dtypes: float64(256)\n",
      "memory usage: 26.6 MB\n",
      "None\n"
     ]
    }
   ],
   "source": [
    "print(x_data.info())\n",
    "print(y_data.info())\n",
    "print(test_data.info())"
   ]
  },
  {
   "cell_type": "code",
   "execution_count": 4,
   "id": "animal-separation",
   "metadata": {
    "execution": {
     "iopub.execute_input": "2021-04-18T06:28:47.350811Z",
     "iopub.status.busy": "2021-04-18T06:28:47.349817Z",
     "iopub.status.idle": "2021-04-18T06:28:47.353682Z",
     "shell.execute_reply": "2021-04-18T06:28:47.353032Z"
    },
    "papermill": {
     "duration": 0.053929,
     "end_time": "2021-04-18T06:28:47.353842",
     "exception": false,
     "start_time": "2021-04-18T06:28:47.299913",
     "status": "completed"
    },
    "tags": []
   },
   "outputs": [],
   "source": [
    "y_data = y_data['label']\n",
    "x_data = x_data.drop('0', axis=1)\n",
    "test_data = test_data.drop('0', axis=1)"
   ]
  },
  {
   "cell_type": "code",
   "execution_count": 5,
   "id": "juvenile-sunglasses",
   "metadata": {
    "execution": {
     "iopub.execute_input": "2021-04-18T06:28:47.378196Z",
     "iopub.status.busy": "2021-04-18T06:28:47.377363Z",
     "iopub.status.idle": "2021-04-18T06:28:48.569078Z",
     "shell.execute_reply": "2021-04-18T06:28:48.568483Z"
    },
    "papermill": {
     "duration": 1.206152,
     "end_time": "2021-04-18T06:28:48.569222",
     "exception": false,
     "start_time": "2021-04-18T06:28:47.363070",
     "status": "completed"
    },
    "tags": []
   },
   "outputs": [],
   "source": [
    "from sklearn.model_selection import train_test_split\n",
    "x_train, x_val, y_train, y_val = train_test_split(x_data, y_data, test_size=0.15,random_state=42)"
   ]
  },
  {
   "cell_type": "code",
   "execution_count": 6,
   "id": "miniature-monster",
   "metadata": {
    "execution": {
     "iopub.execute_input": "2021-04-18T06:28:48.593801Z",
     "iopub.status.busy": "2021-04-18T06:28:48.592892Z",
     "iopub.status.idle": "2021-04-18T06:28:50.361447Z",
     "shell.execute_reply": "2021-04-18T06:28:50.362432Z"
    },
    "papermill": {
     "duration": 1.784322,
     "end_time": "2021-04-18T06:28:50.362762",
     "exception": false,
     "start_time": "2021-04-18T06:28:48.578440",
     "status": "completed"
    },
    "tags": []
   },
   "outputs": [
    {
     "name": "stdout",
     "output_type": "stream",
     "text": [
      "0.5832329559142375\n"
     ]
    }
   ],
   "source": [
    "from sklearn.discriminant_analysis import LinearDiscriminantAnalysis\n",
    "lda = LinearDiscriminantAnalysis()\n",
    "lda.fit(x_train, y_train)\n",
    "print(lda.score(x_val, y_val))"
   ]
  },
  {
   "cell_type": "code",
   "execution_count": 7,
   "id": "instructional-saint",
   "metadata": {
    "execution": {
     "iopub.execute_input": "2021-04-18T06:28:50.416231Z",
     "iopub.status.busy": "2021-04-18T06:28:50.415169Z",
     "iopub.status.idle": "2021-04-18T06:28:50.417530Z",
     "shell.execute_reply": "2021-04-18T06:28:50.418519Z"
    },
    "papermill": {
     "duration": 0.032398,
     "end_time": "2021-04-18T06:28:50.418847",
     "exception": false,
     "start_time": "2021-04-18T06:28:50.386449",
     "status": "completed"
    },
    "tags": []
   },
   "outputs": [],
   "source": [
    "# from sklearn.discriminant_analysis import QuadraticDiscriminantAnalysis\n",
    "# qda = QuadraticDiscriminantAnalysis()\n",
    "# qda.fit(x_train, y_train)\n",
    "# print(qda.score(x_val, y_val))"
   ]
  },
  {
   "cell_type": "code",
   "execution_count": 8,
   "id": "buried-thirty",
   "metadata": {
    "execution": {
     "iopub.execute_input": "2021-04-18T06:28:50.462535Z",
     "iopub.status.busy": "2021-04-18T06:28:50.461809Z",
     "iopub.status.idle": "2021-04-18T06:28:52.244795Z",
     "shell.execute_reply": "2021-04-18T06:28:52.246010Z"
    },
    "papermill": {
     "duration": 1.80968,
     "end_time": "2021-04-18T06:28:52.246333",
     "exception": false,
     "start_time": "2021-04-18T06:28:50.436653",
     "status": "completed"
    },
    "tags": []
   },
   "outputs": [],
   "source": [
    "lda.fit(x_data, y_data)\n",
    "pred = lda.predict(test_data)"
   ]
  },
  {
   "cell_type": "code",
   "execution_count": 9,
   "id": "conceptual-pavilion",
   "metadata": {
    "execution": {
     "iopub.execute_input": "2021-04-18T06:28:52.291501Z",
     "iopub.status.busy": "2021-04-18T06:28:52.290334Z",
     "iopub.status.idle": "2021-04-18T06:28:52.344757Z",
     "shell.execute_reply": "2021-04-18T06:28:52.345384Z"
    },
    "papermill": {
     "duration": 0.080085,
     "end_time": "2021-04-18T06:28:52.345628",
     "exception": false,
     "start_time": "2021-04-18T06:28:52.265543",
     "status": "completed"
    },
    "tags": []
   },
   "outputs": [],
   "source": [
    "submit['label'] = pred\n",
    "submit.to_csv('predict.csv', header=True, index = False)"
   ]
  },
  {
   "cell_type": "code",
   "execution_count": null,
   "id": "grateful-bible",
   "metadata": {
    "papermill": {
     "duration": 0.010168,
     "end_time": "2021-04-18T06:28:52.366713",
     "exception": false,
     "start_time": "2021-04-18T06:28:52.356545",
     "status": "completed"
    },
    "tags": []
   },
   "outputs": [],
   "source": []
  }
 ],
 "metadata": {
  "kernelspec": {
   "display_name": "Python 3",
   "language": "python",
   "name": "python3"
  },
  "language_info": {
   "codemirror_mode": {
    "name": "ipython",
    "version": 3
   },
   "file_extension": ".py",
   "mimetype": "text/x-python",
   "name": "python",
   "nbconvert_exporter": "python",
   "pygments_lexer": "ipython3",
   "version": "3.7.9"
  },
  "papermill": {
   "default_parameters": {},
   "duration": 18.531493,
   "end_time": "2021-04-18T06:28:53.088359",
   "environment_variables": {},
   "exception": null,
   "input_path": "__notebook__.ipynb",
   "output_path": "__notebook__.ipynb",
   "parameters": {},
   "start_time": "2021-04-18T06:28:34.556866",
   "version": "2.3.2"
  }
 },
 "nbformat": 4,
 "nbformat_minor": 5
}
