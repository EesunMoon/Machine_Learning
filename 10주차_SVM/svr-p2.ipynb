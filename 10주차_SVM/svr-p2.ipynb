{
 "cells": [
  {
   "cell_type": "code",
   "execution_count": 1,
   "id": "spanish-weight",
   "metadata": {
    "_cell_guid": "b1076dfc-b9ad-4769-8c92-a6c4dae69d19",
    "_uuid": "8f2839f25d086af736a60e9eeb907d3b93b6e0e5",
    "execution": {
     "iopub.execute_input": "2021-05-04T12:45:25.159520Z",
     "iopub.status.busy": "2021-05-04T12:45:25.158250Z",
     "iopub.status.idle": "2021-05-04T12:45:25.173052Z",
     "shell.execute_reply": "2021-05-04T12:45:25.172217Z"
    },
    "papermill": {
     "duration": 0.02833,
     "end_time": "2021-05-04T12:45:25.173244",
     "exception": false,
     "start_time": "2021-05-04T12:45:25.144914",
     "status": "completed"
    },
    "tags": []
   },
   "outputs": [
    {
     "name": "stdout",
     "output_type": "stream",
     "text": [
      "/kaggle/input/2021-ml-p2/sample_submission.csv\n",
      "/kaggle/input/2021-ml-p2/x_test.csv\n",
      "/kaggle/input/2021-ml-p2/y_train.csv\n",
      "/kaggle/input/2021-ml-p2/x_train.csv\n"
     ]
    }
   ],
   "source": [
    "# This Python 3 environment comes with many helpful analytics libraries installed\n",
    "# It is defined by the kaggle/python Docker image: https://github.com/kaggle/docker-python\n",
    "# For example, here's several helpful packages to load\n",
    "\n",
    "import numpy as np # linear algebra\n",
    "import pandas as pd # data processing, CSV file I/O (e.g. pd.read_csv)\n",
    "\n",
    "# Input data files are available in the read-only \"../input/\" directory\n",
    "# For example, running this (by clicking run or pressing Shift+Enter) will list all files under the input directory\n",
    "\n",
    "import os\n",
    "for dirname, _, filenames in os.walk('/kaggle/input'):\n",
    "    for filename in filenames:\n",
    "        print(os.path.join(dirname, filename))\n",
    "\n",
    "# You can write up to 20GB to the current directory (/kaggle/working/) that gets preserved as output when you create a version using \"Save & Run All\" \n",
    "# You can also write temporary files to /kaggle/temp/, but they won't be saved outside of the current session"
   ]
  },
  {
   "cell_type": "code",
   "execution_count": 2,
   "id": "precise-saturn",
   "metadata": {
    "execution": {
     "iopub.execute_input": "2021-05-04T12:45:25.199077Z",
     "iopub.status.busy": "2021-05-04T12:45:25.198381Z",
     "iopub.status.idle": "2021-05-04T12:45:26.006889Z",
     "shell.execute_reply": "2021-05-04T12:45:26.006269Z"
    },
    "papermill": {
     "duration": 0.824394,
     "end_time": "2021-05-04T12:45:26.007058",
     "exception": false,
     "start_time": "2021-05-04T12:45:25.182664",
     "status": "completed"
    },
    "tags": []
   },
   "outputs": [],
   "source": [
    "# data load\n",
    "x_data = pd.DataFrame(pd.read_csv('/kaggle/input/2021-ml-p2/x_train.csv',engine='python',encoding='CP949'))\n",
    "y_data = pd.DataFrame(pd.read_csv('/kaggle/input/2021-ml-p2/y_train.csv',engine='python',encoding='CP949'))\n",
    "test_data = pd.DataFrame(pd.read_csv('/kaggle/input/2021-ml-p2/x_test.csv',engine='python',encoding='CP949'))\n",
    "submit = pd.read_csv('/kaggle/input/2021-ml-p2/sample_submission.csv')"
   ]
  },
  {
   "cell_type": "code",
   "execution_count": 3,
   "id": "noticed-longer",
   "metadata": {
    "execution": {
     "iopub.execute_input": "2021-05-04T12:45:26.037375Z",
     "iopub.status.busy": "2021-05-04T12:45:26.035661Z",
     "iopub.status.idle": "2021-05-04T12:45:26.055777Z",
     "shell.execute_reply": "2021-05-04T12:45:26.056283Z"
    },
    "papermill": {
     "duration": 0.040716,
     "end_time": "2021-05-04T12:45:26.056535",
     "exception": false,
     "start_time": "2021-05-04T12:45:26.015819",
     "status": "completed"
    },
    "tags": []
   },
   "outputs": [
    {
     "data": {
      "text/html": [
       "<div>\n",
       "<style scoped>\n",
       "    .dataframe tbody tr th:only-of-type {\n",
       "        vertical-align: middle;\n",
       "    }\n",
       "\n",
       "    .dataframe tbody tr th {\n",
       "        vertical-align: top;\n",
       "    }\n",
       "\n",
       "    .dataframe thead th {\n",
       "        text-align: right;\n",
       "    }\n",
       "</style>\n",
       "<table border=\"1\" class=\"dataframe\">\n",
       "  <thead>\n",
       "    <tr style=\"text-align: right;\">\n",
       "      <th></th>\n",
       "      <th>교통량</th>\n",
       "    </tr>\n",
       "  </thead>\n",
       "  <tbody>\n",
       "    <tr>\n",
       "      <th>0</th>\n",
       "      <td>0.000</td>\n",
       "    </tr>\n",
       "    <tr>\n",
       "      <th>1</th>\n",
       "      <td>1532.989</td>\n",
       "    </tr>\n",
       "    <tr>\n",
       "      <th>2</th>\n",
       "      <td>710.107</td>\n",
       "    </tr>\n",
       "    <tr>\n",
       "      <th>3</th>\n",
       "      <td>374.200</td>\n",
       "    </tr>\n",
       "    <tr>\n",
       "      <th>4</th>\n",
       "      <td>535.882</td>\n",
       "    </tr>\n",
       "  </tbody>\n",
       "</table>\n",
       "</div>"
      ],
      "text/plain": [
       "        교통량\n",
       "0     0.000\n",
       "1  1532.989\n",
       "2   710.107\n",
       "3   374.200\n",
       "4   535.882"
      ]
     },
     "execution_count": 3,
     "metadata": {},
     "output_type": "execute_result"
    }
   ],
   "source": [
    "# y data가 연속형이므로 회귀\n",
    "y_data.head()"
   ]
  },
  {
   "cell_type": "code",
   "execution_count": 4,
   "id": "signed-morgan",
   "metadata": {
    "execution": {
     "iopub.execute_input": "2021-05-04T12:45:26.096719Z",
     "iopub.status.busy": "2021-05-04T12:45:26.095288Z",
     "iopub.status.idle": "2021-05-04T12:45:26.115144Z",
     "shell.execute_reply": "2021-05-04T12:45:26.114511Z"
    },
    "papermill": {
     "duration": 0.049046,
     "end_time": "2021-05-04T12:45:26.115351",
     "exception": false,
     "start_time": "2021-05-04T12:45:26.066305",
     "status": "completed"
    },
    "tags": []
   },
   "outputs": [
    {
     "data": {
      "text/html": [
       "<div>\n",
       "<style scoped>\n",
       "    .dataframe tbody tr th:only-of-type {\n",
       "        vertical-align: middle;\n",
       "    }\n",
       "\n",
       "    .dataframe tbody tr th {\n",
       "        vertical-align: top;\n",
       "    }\n",
       "\n",
       "    .dataframe thead th {\n",
       "        text-align: right;\n",
       "    }\n",
       "</style>\n",
       "<table border=\"1\" class=\"dataframe\">\n",
       "  <thead>\n",
       "    <tr style=\"text-align: right;\">\n",
       "      <th></th>\n",
       "      <th>거주인구</th>\n",
       "      <th>근무인구</th>\n",
       "      <th>방문인구</th>\n",
       "      <th>총 유동인구</th>\n",
       "      <th>평균 속도</th>\n",
       "      <th>평균 소요 시간</th>\n",
       "      <th>평균 기온</th>\n",
       "      <th>일강수량</th>\n",
       "      <th>평균 풍속</th>\n",
       "    </tr>\n",
       "  </thead>\n",
       "  <tbody>\n",
       "    <tr>\n",
       "      <th>0</th>\n",
       "      <td>45737.828</td>\n",
       "      <td>8703.034</td>\n",
       "      <td>91775.025</td>\n",
       "      <td>146215.887</td>\n",
       "      <td>57.286</td>\n",
       "      <td>35.000</td>\n",
       "      <td>6.500</td>\n",
       "      <td>0.0</td>\n",
       "      <td>2.9</td>\n",
       "    </tr>\n",
       "    <tr>\n",
       "      <th>1</th>\n",
       "      <td>289284.270</td>\n",
       "      <td>48392.749</td>\n",
       "      <td>179649.272</td>\n",
       "      <td>517326.291</td>\n",
       "      <td>50.500</td>\n",
       "      <td>58.912</td>\n",
       "      <td>18.833</td>\n",
       "      <td>0.0</td>\n",
       "      <td>2.3</td>\n",
       "    </tr>\n",
       "    <tr>\n",
       "      <th>2</th>\n",
       "      <td>72684.218</td>\n",
       "      <td>45632.065</td>\n",
       "      <td>120931.098</td>\n",
       "      <td>239247.380</td>\n",
       "      <td>34.727</td>\n",
       "      <td>60.000</td>\n",
       "      <td>13.200</td>\n",
       "      <td>0.0</td>\n",
       "      <td>1.8</td>\n",
       "    </tr>\n",
       "    <tr>\n",
       "      <th>3</th>\n",
       "      <td>235752.513</td>\n",
       "      <td>34212.805</td>\n",
       "      <td>186910.679</td>\n",
       "      <td>456875.997</td>\n",
       "      <td>37.167</td>\n",
       "      <td>26.500</td>\n",
       "      <td>11.700</td>\n",
       "      <td>0.0</td>\n",
       "      <td>4.8</td>\n",
       "    </tr>\n",
       "    <tr>\n",
       "      <th>4</th>\n",
       "      <td>544250.956</td>\n",
       "      <td>64188.293</td>\n",
       "      <td>205182.677</td>\n",
       "      <td>813621.925</td>\n",
       "      <td>31.462</td>\n",
       "      <td>37.769</td>\n",
       "      <td>22.233</td>\n",
       "      <td>0.0</td>\n",
       "      <td>2.3</td>\n",
       "    </tr>\n",
       "    <tr>\n",
       "      <th>...</th>\n",
       "      <td>...</td>\n",
       "      <td>...</td>\n",
       "      <td>...</td>\n",
       "      <td>...</td>\n",
       "      <td>...</td>\n",
       "      <td>...</td>\n",
       "      <td>...</td>\n",
       "      <td>...</td>\n",
       "      <td>...</td>\n",
       "    </tr>\n",
       "    <tr>\n",
       "      <th>10578</th>\n",
       "      <td>30949.221</td>\n",
       "      <td>7243.292</td>\n",
       "      <td>73243.733</td>\n",
       "      <td>111436.245</td>\n",
       "      <td>27.500</td>\n",
       "      <td>26.000</td>\n",
       "      <td>0.100</td>\n",
       "      <td>1.0</td>\n",
       "      <td>2.7</td>\n",
       "    </tr>\n",
       "    <tr>\n",
       "      <th>10579</th>\n",
       "      <td>287544.537</td>\n",
       "      <td>19901.138</td>\n",
       "      <td>230494.219</td>\n",
       "      <td>537939.894</td>\n",
       "      <td>49.130</td>\n",
       "      <td>55.130</td>\n",
       "      <td>20.600</td>\n",
       "      <td>9.0</td>\n",
       "      <td>4.3</td>\n",
       "    </tr>\n",
       "    <tr>\n",
       "      <th>10580</th>\n",
       "      <td>217597.813</td>\n",
       "      <td>18838.618</td>\n",
       "      <td>150540.187</td>\n",
       "      <td>386976.617</td>\n",
       "      <td>27.500</td>\n",
       "      <td>30.750</td>\n",
       "      <td>0.000</td>\n",
       "      <td>0.0</td>\n",
       "      <td>5.8</td>\n",
       "    </tr>\n",
       "    <tr>\n",
       "      <th>10581</th>\n",
       "      <td>80350.674</td>\n",
       "      <td>26339.878</td>\n",
       "      <td>101347.505</td>\n",
       "      <td>208038.057</td>\n",
       "      <td>41.000</td>\n",
       "      <td>19.968</td>\n",
       "      <td>18.800</td>\n",
       "      <td>1.0</td>\n",
       "      <td>2.4</td>\n",
       "    </tr>\n",
       "    <tr>\n",
       "      <th>10582</th>\n",
       "      <td>1042638.731</td>\n",
       "      <td>141129.724</td>\n",
       "      <td>556050.197</td>\n",
       "      <td>1739818.652</td>\n",
       "      <td>38.157</td>\n",
       "      <td>31.549</td>\n",
       "      <td>21.600</td>\n",
       "      <td>0.0</td>\n",
       "      <td>0.8</td>\n",
       "    </tr>\n",
       "  </tbody>\n",
       "</table>\n",
       "<p>10583 rows × 9 columns</p>\n",
       "</div>"
      ],
      "text/plain": [
       "              거주인구        근무인구        방문인구       총 유동인구   평균 속도  평균 소요 시간  \\\n",
       "0        45737.828    8703.034   91775.025   146215.887  57.286    35.000   \n",
       "1       289284.270   48392.749  179649.272   517326.291  50.500    58.912   \n",
       "2        72684.218   45632.065  120931.098   239247.380  34.727    60.000   \n",
       "3       235752.513   34212.805  186910.679   456875.997  37.167    26.500   \n",
       "4       544250.956   64188.293  205182.677   813621.925  31.462    37.769   \n",
       "...            ...         ...         ...          ...     ...       ...   \n",
       "10578    30949.221    7243.292   73243.733   111436.245  27.500    26.000   \n",
       "10579   287544.537   19901.138  230494.219   537939.894  49.130    55.130   \n",
       "10580   217597.813   18838.618  150540.187   386976.617  27.500    30.750   \n",
       "10581    80350.674   26339.878  101347.505   208038.057  41.000    19.968   \n",
       "10582  1042638.731  141129.724  556050.197  1739818.652  38.157    31.549   \n",
       "\n",
       "        평균 기온  일강수량  평균 풍속  \n",
       "0       6.500   0.0    2.9  \n",
       "1      18.833   0.0    2.3  \n",
       "2      13.200   0.0    1.8  \n",
       "3      11.700   0.0    4.8  \n",
       "4      22.233   0.0    2.3  \n",
       "...       ...   ...    ...  \n",
       "10578   0.100   1.0    2.7  \n",
       "10579  20.600   9.0    4.3  \n",
       "10580   0.000   0.0    5.8  \n",
       "10581  18.800   1.0    2.4  \n",
       "10582  21.600   0.0    0.8  \n",
       "\n",
       "[10583 rows x 9 columns]"
      ]
     },
     "execution_count": 4,
     "metadata": {},
     "output_type": "execute_result"
    }
   ],
   "source": [
    "x_data.drop(['시도명', '읍면동명', '월', '일', '년'], axis = 1)\n",
    "test_data.drop(['시도명', '읍면동명', '월', '일', '년'], axis = 1)"
   ]
  },
  {
   "cell_type": "code",
   "execution_count": 5,
   "id": "usual-newman",
   "metadata": {
    "execution": {
     "iopub.execute_input": "2021-05-04T12:45:26.143515Z",
     "iopub.status.busy": "2021-05-04T12:45:26.142590Z",
     "iopub.status.idle": "2021-05-04T12:49:24.116123Z",
     "shell.execute_reply": "2021-05-04T12:49:24.116939Z"
    },
    "papermill": {
     "duration": 237.991122,
     "end_time": "2021-05-04T12:49:24.117253",
     "exception": false,
     "start_time": "2021-05-04T12:45:26.126131",
     "status": "completed"
    },
    "tags": []
   },
   "outputs": [
    {
     "name": "stdout",
     "output_type": "stream",
     "text": [
      "0.9603934489305163\n"
     ]
    }
   ],
   "source": [
    "# model training\n",
    "\n",
    "from sklearn.svm import SVR\n",
    "svc = SVR(C = 1000, gamma = 0.1)\n",
    "svc.fit(x_data, y_data.values.ravel())\n",
    "print(svc.score(x_data, y_data))"
   ]
  },
  {
   "cell_type": "code",
   "execution_count": 6,
   "id": "hairy-ceramic",
   "metadata": {
    "execution": {
     "iopub.execute_input": "2021-05-04T12:49:24.149714Z",
     "iopub.status.busy": "2021-05-04T12:49:24.148824Z",
     "iopub.status.idle": "2021-05-04T12:50:32.650476Z",
     "shell.execute_reply": "2021-05-04T12:50:32.651135Z"
    },
    "papermill": {
     "duration": 68.522005,
     "end_time": "2021-05-04T12:50:32.651338",
     "exception": false,
     "start_time": "2021-05-04T12:49:24.129333",
     "status": "completed"
    },
    "tags": []
   },
   "outputs": [
    {
     "name": "stdout",
     "output_type": "stream",
     "text": [
      "0.4790199836812914\n"
     ]
    }
   ],
   "source": [
    "# preprocessing - minmax\n",
    "from sklearn.preprocessing import MinMaxScaler\n",
    "scaler1 = MinMaxScaler()\n",
    "x_data_mn = scaler1.fit_transform(x_data)\n",
    "test_data_mn = scaler1.transform(test_data)\n",
    "\n",
    "svc.fit(x_data_mn, y_data.values.ravel())\n",
    "print(svc.score(x_data_mn, y_data))"
   ]
  },
  {
   "cell_type": "code",
   "execution_count": 7,
   "id": "proper-asthma",
   "metadata": {
    "execution": {
     "iopub.execute_input": "2021-05-04T12:50:32.684207Z",
     "iopub.status.busy": "2021-05-04T12:50:32.682421Z",
     "iopub.status.idle": "2021-05-04T12:57:46.095900Z",
     "shell.execute_reply": "2021-05-04T12:57:46.096407Z"
    },
    "papermill": {
     "duration": 433.434317,
     "end_time": "2021-05-04T12:57:46.096623",
     "exception": false,
     "start_time": "2021-05-04T12:50:32.662306",
     "status": "completed"
    },
    "tags": []
   },
   "outputs": [
    {
     "name": "stdout",
     "output_type": "stream",
     "text": [
      "0.9485995471147636\n"
     ]
    }
   ],
   "source": [
    "# preprocessing - std\n",
    "from sklearn.preprocessing import StandardScaler\n",
    "scaler2 = StandardScaler()\n",
    "x_data_std = scaler2.fit_transform(x_data)\n",
    "test_data_std = scaler2.transform(test_data)\n",
    "\n",
    "svc.fit(x_data_std, y_data.values.ravel())\n",
    "print(svc.score(x_data_std, y_data))"
   ]
  },
  {
   "cell_type": "code",
   "execution_count": 8,
   "id": "small-fellowship",
   "metadata": {
    "execution": {
     "iopub.execute_input": "2021-05-04T12:57:46.123073Z",
     "iopub.status.busy": "2021-05-04T12:57:46.122092Z",
     "iopub.status.idle": "2021-05-04T12:58:02.490032Z",
     "shell.execute_reply": "2021-05-04T12:58:02.490507Z"
    },
    "papermill": {
     "duration": 16.382844,
     "end_time": "2021-05-04T12:58:02.490721",
     "exception": false,
     "start_time": "2021-05-04T12:57:46.107877",
     "status": "completed"
    },
    "tags": []
   },
   "outputs": [
    {
     "data": {
      "text/plain": [
       "array([ 3.45916759e+00,  1.29800213e+00, -6.86307532e+00, ...,\n",
       "        2.10646035e+02, -2.20756631e-01,  7.47102498e+02])"
      ]
     },
     "execution_count": 8,
     "metadata": {},
     "output_type": "execute_result"
    }
   ],
   "source": [
    "pred = svc.predict(test_data_std)\n",
    "pred"
   ]
  },
  {
   "cell_type": "code",
   "execution_count": 9,
   "id": "ranging-twenty",
   "metadata": {
    "execution": {
     "iopub.execute_input": "2021-05-04T12:58:02.519137Z",
     "iopub.status.busy": "2021-05-04T12:58:02.518152Z",
     "iopub.status.idle": "2021-05-04T12:58:02.567778Z",
     "shell.execute_reply": "2021-05-04T12:58:02.568291Z"
    },
    "papermill": {
     "duration": 0.065915,
     "end_time": "2021-05-04T12:58:02.568575",
     "exception": false,
     "start_time": "2021-05-04T12:58:02.502660",
     "status": "completed"
    },
    "tags": []
   },
   "outputs": [],
   "source": [
    "# submit\n",
    "submit['predict'] = pred\n",
    "submit.to_csv('submit.csv', index = False)"
   ]
  },
  {
   "cell_type": "code",
   "execution_count": null,
   "id": "bigger-independence",
   "metadata": {
    "papermill": {
     "duration": 0.012055,
     "end_time": "2021-05-04T12:58:02.592981",
     "exception": false,
     "start_time": "2021-05-04T12:58:02.580926",
     "status": "completed"
    },
    "tags": []
   },
   "outputs": [],
   "source": []
  }
 ],
 "metadata": {
  "kernelspec": {
   "display_name": "Python 3",
   "language": "python",
   "name": "python3"
  },
  "language_info": {
   "codemirror_mode": {
    "name": "ipython",
    "version": 3
   },
   "file_extension": ".py",
   "mimetype": "text/x-python",
   "name": "python",
   "nbconvert_exporter": "python",
   "pygments_lexer": "ipython3",
   "version": "3.7.10"
  },
  "papermill": {
   "default_parameters": {},
   "duration": 768.283946,
   "end_time": "2021-05-04T12:58:04.039118",
   "environment_variables": {},
   "exception": null,
   "input_path": "__notebook__.ipynb",
   "output_path": "__notebook__.ipynb",
   "parameters": {},
   "start_time": "2021-05-04T12:45:15.755172",
   "version": "2.3.3"
  }
 },
 "nbformat": 4,
 "nbformat_minor": 5
}
