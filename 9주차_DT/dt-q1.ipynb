{
 "cells": [
  {
   "cell_type": "code",
   "execution_count": 1,
   "id": "contained-technology",
   "metadata": {
    "_cell_guid": "b1076dfc-b9ad-4769-8c92-a6c4dae69d19",
    "_uuid": "8f2839f25d086af736a60e9eeb907d3b93b6e0e5",
    "execution": {
     "iopub.execute_input": "2021-04-27T06:45:08.524161Z",
     "iopub.status.busy": "2021-04-27T06:45:08.523438Z",
     "iopub.status.idle": "2021-04-27T06:45:08.529188Z",
     "shell.execute_reply": "2021-04-27T06:45:08.529753Z"
    },
    "papermill": {
     "duration": 0.026236,
     "end_time": "2021-04-27T06:45:08.530072",
     "exception": false,
     "start_time": "2021-04-27T06:45:08.503836",
     "status": "completed"
    },
    "tags": []
   },
   "outputs": [
    {
     "name": "stdout",
     "output_type": "stream",
     "text": [
      "/kaggle/input/2021-ml-p1/sample_submission.csv\n",
      "/kaggle/input/2021-ml-p1/X_test.csv\n",
      "/kaggle/input/2021-ml-p1/data.csv\n"
     ]
    }
   ],
   "source": [
    "# This Python 3 environment comes with many helpful analytics libraries installed\n",
    "# It is defined by the kaggle/python Docker image: https://github.com/kaggle/docker-python\n",
    "# For example, here's several helpful packages to load\n",
    "\n",
    "import numpy as np # linear algebra\n",
    "import pandas as pd # data processing, CSV file I/O (e.g. pd.read_csv)\n",
    "\n",
    "# Input data files are available in the read-only \"../input/\" directory\n",
    "# For example, running this (by clicking run or pressing Shift+Enter) will list all files under the input directory\n",
    "\n",
    "import os\n",
    "for dirname, _, filenames in os.walk('/kaggle/input'):\n",
    "    for filename in filenames:\n",
    "        print(os.path.join(dirname, filename))\n",
    "\n",
    "# You can write up to 20GB to the current directory (/kaggle/working/) that gets preserved as output when you create a version using \"Save & Run All\" \n",
    "# You can also write temporary files to /kaggle/temp/, but they won't be saved outside of the current session"
   ]
  },
  {
   "cell_type": "code",
   "execution_count": 2,
   "id": "center-covering",
   "metadata": {
    "execution": {
     "iopub.execute_input": "2021-04-27T06:45:08.550173Z",
     "iopub.status.busy": "2021-04-27T06:45:08.549509Z",
     "iopub.status.idle": "2021-04-27T06:45:08.601675Z",
     "shell.execute_reply": "2021-04-27T06:45:08.600962Z"
    },
    "papermill": {
     "duration": 0.0639,
     "end_time": "2021-04-27T06:45:08.601834",
     "exception": false,
     "start_time": "2021-04-27T06:45:08.537934",
     "status": "completed"
    },
    "tags": []
   },
   "outputs": [],
   "source": [
    "# data load\n",
    "train_data = pd.read_csv('/kaggle/input/2021-ml-p1/data.csv')\n",
    "test_data = pd.read_csv('/kaggle/input/2021-ml-p1/X_test.csv')\n",
    "submit = pd.read_csv('/kaggle/input/2021-ml-p1/sample_submission.csv')"
   ]
  },
  {
   "cell_type": "code",
   "execution_count": 3,
   "id": "painful-novel",
   "metadata": {
    "execution": {
     "iopub.execute_input": "2021-04-27T06:45:08.621991Z",
     "iopub.status.busy": "2021-04-27T06:45:08.621143Z",
     "iopub.status.idle": "2021-04-27T06:45:08.646151Z",
     "shell.execute_reply": "2021-04-27T06:45:08.646695Z"
    },
    "papermill": {
     "duration": 0.037586,
     "end_time": "2021-04-27T06:45:08.646917",
     "exception": false,
     "start_time": "2021-04-27T06:45:08.609331",
     "status": "completed"
    },
    "tags": []
   },
   "outputs": [
    {
     "name": "stdout",
     "output_type": "stream",
     "text": [
      "   Day  Hour  Minute  DHI  DNI   WS     RH   T     TARGET\n",
      "0  102     0       0    0    0  1.4  57.76   0   0.000000\n",
      "1   99    15       0  222   18  1.3  26.82  13  21.957266\n",
      "2   31     4       0    0    0  2.6  84.94  -6   0.000000\n",
      "3   40    18      30    0    0  1.5  89.18   2   0.000000\n",
      "4  191     1      30    0    0  2.4  84.35  12   0.000000\n",
      "   Day  Hour  Minute  DHI  DNI   WS     RH   T\n",
      "0  130     6       0   54  548  1.2  72.29   0\n",
      "1   97    14       0  297   27  8.0  19.07  17\n",
      "2   36     1      30    0    0  2.9  66.29   1\n",
      "3   98    19       0    0    0  1.8  63.38   2\n",
      "4   94     4      30    0    0  1.7  55.61   0\n"
     ]
    }
   ],
   "source": [
    "# data 형태 보기 위해 출력\n",
    "print(train_data.head())\n",
    "print(test_data.head())"
   ]
  },
  {
   "cell_type": "code",
   "execution_count": 4,
   "id": "concrete-count",
   "metadata": {
    "execution": {
     "iopub.execute_input": "2021-04-27T06:45:08.670651Z",
     "iopub.status.busy": "2021-04-27T06:45:08.669929Z",
     "iopub.status.idle": "2021-04-27T06:45:08.672928Z",
     "shell.execute_reply": "2021-04-27T06:45:08.673481Z"
    },
    "papermill": {
     "duration": 0.018885,
     "end_time": "2021-04-27T06:45:08.673669",
     "exception": false,
     "start_time": "2021-04-27T06:45:08.654784",
     "status": "completed"
    },
    "tags": []
   },
   "outputs": [],
   "source": [
    "# train data에 x, y data 구분\n",
    "x_data = train_data.drop('TARGET', axis=1)\n",
    "y_data = train_data['TARGET']"
   ]
  },
  {
   "cell_type": "code",
   "execution_count": 5,
   "id": "photographic-governor",
   "metadata": {
    "execution": {
     "iopub.execute_input": "2021-04-27T06:45:08.695664Z",
     "iopub.status.busy": "2021-04-27T06:45:08.694936Z",
     "iopub.status.idle": "2021-04-27T06:45:08.701837Z",
     "shell.execute_reply": "2021-04-27T06:45:08.702404Z"
    },
    "papermill": {
     "duration": 0.020877,
     "end_time": "2021-04-27T06:45:08.702572",
     "exception": false,
     "start_time": "2021-04-27T06:45:08.681695",
     "status": "completed"
    },
    "tags": []
   },
   "outputs": [
    {
     "data": {
      "text/plain": [
       "array([ 0.        , 21.95726589, 18.20228641, ..., 23.83133559,\n",
       "       26.3680656 , 46.44142557])"
      ]
     },
     "execution_count": 5,
     "metadata": {},
     "output_type": "execute_result"
    }
   ],
   "source": [
    "# y data가 연속형 변수이기 때문에 회귀 방법 사용\n",
    "y_data.unique()"
   ]
  },
  {
   "cell_type": "code",
   "execution_count": 6,
   "id": "caroline-parks",
   "metadata": {
    "execution": {
     "iopub.execute_input": "2021-04-27T06:45:08.722451Z",
     "iopub.status.busy": "2021-04-27T06:45:08.721788Z",
     "iopub.status.idle": "2021-04-27T06:45:10.085521Z",
     "shell.execute_reply": "2021-04-27T06:45:10.086267Z"
    },
    "papermill": {
     "duration": 1.37564,
     "end_time": "2021-04-27T06:45:10.086515",
     "exception": false,
     "start_time": "2021-04-27T06:45:08.710875",
     "status": "completed"
    },
    "tags": []
   },
   "outputs": [],
   "source": [
    "# train\n",
    "from sklearn.tree import DecisionTreeRegressor\n",
    "dt = DecisionTreeRegressor()\n",
    "dt.fit(x_data, y_data)\n",
    "pred = dt.predict(test_data)"
   ]
  },
  {
   "cell_type": "code",
   "execution_count": 7,
   "id": "western-patrick",
   "metadata": {
    "execution": {
     "iopub.execute_input": "2021-04-27T06:45:10.116814Z",
     "iopub.status.busy": "2021-04-27T06:45:10.115575Z",
     "iopub.status.idle": "2021-04-27T06:45:10.124591Z",
     "shell.execute_reply": "2021-04-27T06:45:10.125172Z"
    },
    "papermill": {
     "duration": 0.02903,
     "end_time": "2021-04-27T06:45:10.125370",
     "exception": false,
     "start_time": "2021-04-27T06:45:10.096340",
     "status": "completed"
    },
    "tags": []
   },
   "outputs": [],
   "source": [
    "# submit\n",
    "submit['TARGET'] = pred\n",
    "submit.to_csv('submit_q1.csv', index = False)"
   ]
  },
  {
   "cell_type": "code",
   "execution_count": null,
   "id": "orange-doctrine",
   "metadata": {
    "papermill": {
     "duration": 0.008395,
     "end_time": "2021-04-27T06:45:10.143194",
     "exception": false,
     "start_time": "2021-04-27T06:45:10.134799",
     "status": "completed"
    },
    "tags": []
   },
   "outputs": [],
   "source": []
  }
 ],
 "metadata": {
  "kernelspec": {
   "display_name": "Python 3",
   "language": "python",
   "name": "python3"
  },
  "language_info": {
   "codemirror_mode": {
    "name": "ipython",
    "version": 3
   },
   "file_extension": ".py",
   "mimetype": "text/x-python",
   "name": "python",
   "nbconvert_exporter": "python",
   "pygments_lexer": "ipython3",
   "version": "3.7.10"
  },
  "papermill": {
   "default_parameters": {},
   "duration": 10.81983,
   "end_time": "2021-04-27T06:45:10.862426",
   "environment_variables": {},
   "exception": null,
   "input_path": "__notebook__.ipynb",
   "output_path": "__notebook__.ipynb",
   "parameters": {},
   "start_time": "2021-04-27T06:45:00.042596",
   "version": "2.3.3"
  }
 },
 "nbformat": 4,
 "nbformat_minor": 5
}
