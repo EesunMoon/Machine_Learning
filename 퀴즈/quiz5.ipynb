{
 "cells": [
  {
   "cell_type": "code",
   "execution_count": 1,
   "id": "animal-intranet",
   "metadata": {
    "_cell_guid": "b1076dfc-b9ad-4769-8c92-a6c4dae69d19",
    "_uuid": "8f2839f25d086af736a60e9eeb907d3b93b6e0e5",
    "execution": {
     "iopub.execute_input": "2021-04-12T11:04:44.208139Z",
     "iopub.status.busy": "2021-04-12T11:04:44.207560Z",
     "iopub.status.idle": "2021-04-12T11:04:44.216667Z",
     "shell.execute_reply": "2021-04-12T11:04:44.215999Z"
    },
    "papermill": {
     "duration": 0.022331,
     "end_time": "2021-04-12T11:04:44.216809",
     "exception": false,
     "start_time": "2021-04-12T11:04:44.194478",
     "status": "completed"
    },
    "tags": []
   },
   "outputs": [
    {
     "name": "stdout",
     "output_type": "stream",
     "text": [
      "/kaggle/input/2021-ml-quiz1-p5/train.csv\n",
      "/kaggle/input/2021-ml-quiz1-p5/test.csv\n",
      "/kaggle/input/2021-ml-quiz1-p5/sample_submit.csv\n"
     ]
    }
   ],
   "source": [
    "# This Python 3 environment comes with many helpful analytics libraries installed\n",
    "# It is defined by the kaggle/python Docker image: https://github.com/kaggle/docker-python\n",
    "# For example, here's several helpful packages to load\n",
    "\n",
    "import numpy as np # linear algebra\n",
    "import pandas as pd # data processing, CSV file I/O (e.g. pd.read_csv)\n",
    "\n",
    "# Input data files are available in the read-only \"../input/\" directory\n",
    "# For example, running this (by clicking run or pressing Shift+Enter) will list all files under the input directory\n",
    "\n",
    "import os\n",
    "for dirname, _, filenames in os.walk('/kaggle/input'):\n",
    "    for filename in filenames:\n",
    "        print(os.path.join(dirname, filename))\n",
    "\n",
    "# You can write up to 20GB to the current directory (/kaggle/working/) that gets preserved as output when you create a version using \"Save & Run All\" \n",
    "# You can also write temporary files to /kaggle/temp/, but they won't be saved outside of the current session"
   ]
  },
  {
   "cell_type": "code",
   "execution_count": 2,
   "id": "regular-commerce",
   "metadata": {
    "execution": {
     "iopub.execute_input": "2021-04-12T11:04:44.240464Z",
     "iopub.status.busy": "2021-04-12T11:04:44.239801Z",
     "iopub.status.idle": "2021-04-12T11:04:44.295008Z",
     "shell.execute_reply": "2021-04-12T11:04:44.294360Z"
    },
    "papermill": {
     "duration": 0.068817,
     "end_time": "2021-04-12T11:04:44.295153",
     "exception": false,
     "start_time": "2021-04-12T11:04:44.226336",
     "status": "completed"
    },
    "tags": []
   },
   "outputs": [
    {
     "name": "stdout",
     "output_type": "stream",
     "text": [
      "   id  hour  hour_bef_temperature  hour_bef_precipitation  hour_bef_windspeed  \\\n",
      "0   3    20                  16.3                     1.0                 1.5   \n",
      "1   6    13                  20.1                     0.0                 1.4   \n",
      "2   7     6                  13.9                     0.0                 0.7   \n",
      "3   8    23                   8.1                     0.0                 2.7   \n",
      "4   9    18                  29.5                     0.0                 4.8   \n",
      "\n",
      "   hour_bef_humidity  hour_bef_visibility  hour_bef_ozone  hour_bef_pm10  \\\n",
      "0               89.0                576.0           0.027           76.0   \n",
      "1               48.0                916.0           0.042           73.0   \n",
      "2               79.0               1382.0           0.033           32.0   \n",
      "3               54.0                946.0           0.040           75.0   \n",
      "4                7.0               2000.0           0.057           27.0   \n",
      "\n",
      "   hour_bef_pm2.5  count  \n",
      "0            33.0   49.0  \n",
      "1            40.0  159.0  \n",
      "2            19.0   26.0  \n",
      "3            64.0   57.0  \n",
      "4            11.0  431.0  \n",
      "     id  hour  hour_bef_temperature  hour_bef_precipitation  \\\n",
      "0  1655     4                  14.6                     0.0   \n",
      "1  1657    20                  21.8                     0.0   \n",
      "2  1660    22                  18.3                     0.0   \n",
      "3  1662     7                  13.2                     0.0   \n",
      "4  1663     8                   8.9                     0.0   \n",
      "\n",
      "   hour_bef_windspeed  hour_bef_humidity  hour_bef_visibility  hour_bef_ozone  \\\n",
      "0                 0.6               49.0               2000.0           0.014   \n",
      "1                 4.4               40.0               2000.0           0.048   \n",
      "2                 1.0               37.0                970.0           0.032   \n",
      "3                 0.6               85.0                431.0           0.023   \n",
      "4                 0.9               77.0                613.0           0.005   \n",
      "\n",
      "   hour_bef_pm10  hour_bef_pm2.5  \n",
      "0           41.0            27.0  \n",
      "1           35.0            19.0  \n",
      "2          169.0            38.0  \n",
      "3           50.0            39.0  \n",
      "4           82.0            40.0  \n"
     ]
    }
   ],
   "source": [
    "train_data = pd.read_csv('/kaggle/input/2021-ml-quiz1-p5/train.csv')\n",
    "test_data = pd.read_csv('/kaggle/input/2021-ml-quiz1-p5/test.csv')\n",
    "sample = pd.read_csv('/kaggle/input/2021-ml-quiz1-p5/sample_submit.csv')\n",
    "\n",
    "print(train_data.head())\n",
    "print(test_data.head())"
   ]
  },
  {
   "cell_type": "code",
   "execution_count": 3,
   "id": "moved-terry",
   "metadata": {
    "execution": {
     "iopub.execute_input": "2021-04-12T11:04:44.334705Z",
     "iopub.status.busy": "2021-04-12T11:04:44.333846Z",
     "iopub.status.idle": "2021-04-12T11:04:44.336960Z",
     "shell.execute_reply": "2021-04-12T11:04:44.337646Z"
    },
    "papermill": {
     "duration": 0.033363,
     "end_time": "2021-04-12T11:04:44.337869",
     "exception": false,
     "start_time": "2021-04-12T11:04:44.304506",
     "status": "completed"
    },
    "tags": []
   },
   "outputs": [
    {
     "name": "stdout",
     "output_type": "stream",
     "text": [
      "   hour  hour_bef_temperature  hour_bef_precipitation  hour_bef_windspeed  \\\n",
      "0    20                  16.3                     1.0                 1.5   \n",
      "1    13                  20.1                     0.0                 1.4   \n",
      "2     6                  13.9                     0.0                 0.7   \n",
      "3    23                   8.1                     0.0                 2.7   \n",
      "4    18                  29.5                     0.0                 4.8   \n",
      "\n",
      "   hour_bef_humidity  hour_bef_visibility  hour_bef_ozone  hour_bef_pm10  \\\n",
      "0               89.0                576.0           0.027           76.0   \n",
      "1               48.0                916.0           0.042           73.0   \n",
      "2               79.0               1382.0           0.033           32.0   \n",
      "3               54.0                946.0           0.040           75.0   \n",
      "4                7.0               2000.0           0.057           27.0   \n",
      "\n",
      "   hour_bef_pm2.5  \n",
      "0            33.0  \n",
      "1            40.0  \n",
      "2            19.0  \n",
      "3            64.0  \n",
      "4            11.0  \n",
      "   hour  hour_bef_temperature  hour_bef_precipitation  hour_bef_windspeed  \\\n",
      "0     4                  14.6                     0.0                 0.6   \n",
      "1    20                  21.8                     0.0                 4.4   \n",
      "2    22                  18.3                     0.0                 1.0   \n",
      "3     7                  13.2                     0.0                 0.6   \n",
      "4     8                   8.9                     0.0                 0.9   \n",
      "\n",
      "   hour_bef_humidity  hour_bef_visibility  hour_bef_ozone  hour_bef_pm10  \\\n",
      "0               49.0               2000.0           0.014           41.0   \n",
      "1               40.0               2000.0           0.048           35.0   \n",
      "2               37.0                970.0           0.032          169.0   \n",
      "3               85.0                431.0           0.023           50.0   \n",
      "4               77.0                613.0           0.005           82.0   \n",
      "\n",
      "   hour_bef_pm2.5  \n",
      "0            27.0  \n",
      "1            19.0  \n",
      "2            38.0  \n",
      "3            39.0  \n",
      "4            40.0  \n",
      "0       49.0\n",
      "1      159.0\n",
      "2       26.0\n",
      "3       57.0\n",
      "4      431.0\n",
      "       ...  \n",
      "995    108.0\n",
      "996     78.0\n",
      "997     27.0\n",
      "998    118.0\n",
      "999      5.0\n",
      "Name: count, Length: 1000, dtype: float64\n"
     ]
    }
   ],
   "source": [
    "x_data = train_data.drop(['id', 'count'], axis=1)\n",
    "y_data = train_data['count']\n",
    "test_data = test_data.drop('id', axis=1)\n",
    "\n",
    "print(x_data.head())\n",
    "print(test_data.head())\n",
    "print(y_data)"
   ]
  },
  {
   "cell_type": "code",
   "execution_count": 4,
   "id": "unlikely-device",
   "metadata": {
    "execution": {
     "iopub.execute_input": "2021-04-12T11:04:44.360513Z",
     "iopub.status.busy": "2021-04-12T11:04:44.359889Z",
     "iopub.status.idle": "2021-04-12T11:04:45.363651Z",
     "shell.execute_reply": "2021-04-12T11:04:45.364342Z"
    },
    "papermill": {
     "duration": 1.016776,
     "end_time": "2021-04-12T11:04:45.364524",
     "exception": false,
     "start_time": "2021-04-12T11:04:44.347748",
     "status": "completed"
    },
    "tags": []
   },
   "outputs": [
    {
     "name": "stdout",
     "output_type": "stream",
     "text": [
      "(700, 9)\n",
      "(300, 9)\n"
     ]
    }
   ],
   "source": [
    "# split\n",
    "from sklearn.model_selection import train_test_split\n",
    "x_train, x_val, y_train, y_val = train_test_split(x_data, y_data, test_size = 0.3, random_state=123)\n",
    "print(x_train.shape)\n",
    "print(x_val.shape)"
   ]
  },
  {
   "cell_type": "code",
   "execution_count": 5,
   "id": "facial-yukon",
   "metadata": {
    "execution": {
     "iopub.execute_input": "2021-04-12T11:04:45.390915Z",
     "iopub.status.busy": "2021-04-12T11:04:45.390305Z",
     "iopub.status.idle": "2021-04-12T11:04:45.561268Z",
     "shell.execute_reply": "2021-04-12T11:04:45.560597Z"
    },
    "papermill": {
     "duration": 0.1862,
     "end_time": "2021-04-12T11:04:45.561411",
     "exception": false,
     "start_time": "2021-04-12T11:04:45.375211",
     "status": "completed"
    },
    "tags": []
   },
   "outputs": [
    {
     "name": "stdout",
     "output_type": "stream",
     "text": [
      "51.002961711682254\n"
     ]
    }
   ],
   "source": [
    "# regression -knn\n",
    "from sklearn.neighbors import KNeighborsRegressor\n",
    "reg = KNeighborsRegressor(weights = 'distance')\n",
    "\n",
    "reg.fit(x_train, y_train)\n",
    "val_pred = reg.predict(x_val)\n",
    "\n",
    "from sklearn.metrics import mean_absolute_error\n",
    "print(mean_absolute_error(y_val, val_pred))"
   ]
  },
  {
   "cell_type": "code",
   "execution_count": 6,
   "id": "silent-auditor",
   "metadata": {
    "execution": {
     "iopub.execute_input": "2021-04-12T11:04:45.599903Z",
     "iopub.status.busy": "2021-04-12T11:04:45.599286Z",
     "iopub.status.idle": "2021-04-12T11:04:45.612095Z",
     "shell.execute_reply": "2021-04-12T11:04:45.611569Z"
    },
    "papermill": {
     "duration": 0.032435,
     "end_time": "2021-04-12T11:04:45.612229",
     "exception": false,
     "start_time": "2021-04-12T11:04:45.579794",
     "status": "completed"
    },
    "tags": []
   },
   "outputs": [],
   "source": [
    "# scaler\n",
    "from sklearn.preprocessing import StandardScaler\n",
    "scaler1 = StandardScaler()\n",
    "x_train_std = scaler1.fit_transform(x_train)\n",
    "x_val_std = scaler1.transform(x_val)\n",
    "\n",
    "# minmax\n",
    "from sklearn.preprocessing import MinMaxScaler\n",
    "scaler2 = MinMaxScaler()\n",
    "x_train_nm = scaler2.fit_transform(x_train)\n",
    "x_val_nm = scaler2.transform(x_val)"
   ]
  },
  {
   "cell_type": "code",
   "execution_count": 7,
   "id": "thermal-person",
   "metadata": {
    "execution": {
     "iopub.execute_input": "2021-04-12T11:04:45.641529Z",
     "iopub.status.busy": "2021-04-12T11:04:45.640838Z",
     "iopub.status.idle": "2021-04-12T11:04:45.654173Z",
     "shell.execute_reply": "2021-04-12T11:04:45.653049Z"
    },
    "papermill": {
     "duration": 0.031102,
     "end_time": "2021-04-12T11:04:45.654354",
     "exception": false,
     "start_time": "2021-04-12T11:04:45.623252",
     "status": "completed"
    },
    "tags": []
   },
   "outputs": [
    {
     "name": "stdout",
     "output_type": "stream",
     "text": [
      "37.553667144694955\n",
      "34.93923664097536\n"
     ]
    }
   ],
   "source": [
    "reg.fit(x_train_std, y_train)\n",
    "val_pred_std = reg.predict(x_val_std)\n",
    "print(mean_absolute_error(y_val, val_pred_std))\n",
    "\n",
    "reg.fit(x_train_nm, y_train)\n",
    "val_pred_nm = reg.predict(x_val_nm)\n",
    "print(mean_absolute_error(y_val, val_pred_nm))"
   ]
  },
  {
   "cell_type": "code",
   "execution_count": 8,
   "id": "extraordinary-difficulty",
   "metadata": {
    "execution": {
     "iopub.execute_input": "2021-04-12T11:04:45.686753Z",
     "iopub.status.busy": "2021-04-12T11:04:45.684646Z",
     "iopub.status.idle": "2021-04-12T11:04:45.698992Z",
     "shell.execute_reply": "2021-04-12T11:04:45.698372Z"
    },
    "papermill": {
     "duration": 0.032444,
     "end_time": "2021-04-12T11:04:45.699141",
     "exception": false,
     "start_time": "2021-04-12T11:04:45.666697",
     "status": "completed"
    },
    "tags": []
   },
   "outputs": [],
   "source": [
    "# scaler2\n",
    "x_data_nm = scaler2.fit_transform(x_data)\n",
    "test_data_nm = scaler2.transform(test_data)\n",
    "\n",
    "reg.fit(x_data_nm, y_data)\n",
    "pred = reg.predict(test_data_nm)"
   ]
  },
  {
   "cell_type": "code",
   "execution_count": 9,
   "id": "brutal-arabic",
   "metadata": {
    "execution": {
     "iopub.execute_input": "2021-04-12T11:04:45.732637Z",
     "iopub.status.busy": "2021-04-12T11:04:45.731989Z",
     "iopub.status.idle": "2021-04-12T11:04:45.742063Z",
     "shell.execute_reply": "2021-04-12T11:04:45.741447Z"
    },
    "papermill": {
     "duration": 0.031744,
     "end_time": "2021-04-12T11:04:45.742209",
     "exception": false,
     "start_time": "2021-04-12T11:04:45.710465",
     "status": "completed"
    },
    "tags": []
   },
   "outputs": [
    {
     "data": {
      "text/html": [
       "<div>\n",
       "<style scoped>\n",
       "    .dataframe tbody tr th:only-of-type {\n",
       "        vertical-align: middle;\n",
       "    }\n",
       "\n",
       "    .dataframe tbody tr th {\n",
       "        vertical-align: top;\n",
       "    }\n",
       "\n",
       "    .dataframe thead th {\n",
       "        text-align: right;\n",
       "    }\n",
       "</style>\n",
       "<table border=\"1\" class=\"dataframe\">\n",
       "  <thead>\n",
       "    <tr style=\"text-align: right;\">\n",
       "      <th></th>\n",
       "      <th>id</th>\n",
       "      <th>count</th>\n",
       "    </tr>\n",
       "  </thead>\n",
       "  <tbody>\n",
       "    <tr>\n",
       "      <th>0</th>\n",
       "      <td>0</td>\n",
       "      <td>27.524581</td>\n",
       "    </tr>\n",
       "    <tr>\n",
       "      <th>1</th>\n",
       "      <td>1</td>\n",
       "      <td>246.374718</td>\n",
       "    </tr>\n",
       "    <tr>\n",
       "      <th>2</th>\n",
       "      <td>2</td>\n",
       "      <td>139.152676</td>\n",
       "    </tr>\n",
       "    <tr>\n",
       "      <th>3</th>\n",
       "      <td>3</td>\n",
       "      <td>29.656970</td>\n",
       "    </tr>\n",
       "    <tr>\n",
       "      <th>4</th>\n",
       "      <td>4</td>\n",
       "      <td>27.251716</td>\n",
       "    </tr>\n",
       "    <tr>\n",
       "      <th>...</th>\n",
       "      <td>...</td>\n",
       "      <td>...</td>\n",
       "    </tr>\n",
       "    <tr>\n",
       "      <th>322</th>\n",
       "      <td>322</td>\n",
       "      <td>26.603718</td>\n",
       "    </tr>\n",
       "    <tr>\n",
       "      <th>323</th>\n",
       "      <td>323</td>\n",
       "      <td>27.882652</td>\n",
       "    </tr>\n",
       "    <tr>\n",
       "      <th>324</th>\n",
       "      <td>324</td>\n",
       "      <td>98.026610</td>\n",
       "    </tr>\n",
       "    <tr>\n",
       "      <th>325</th>\n",
       "      <td>325</td>\n",
       "      <td>207.576994</td>\n",
       "    </tr>\n",
       "    <tr>\n",
       "      <th>326</th>\n",
       "      <td>326</td>\n",
       "      <td>227.153982</td>\n",
       "    </tr>\n",
       "  </tbody>\n",
       "</table>\n",
       "<p>327 rows × 2 columns</p>\n",
       "</div>"
      ],
      "text/plain": [
       "      id       count\n",
       "0      0   27.524581\n",
       "1      1  246.374718\n",
       "2      2  139.152676\n",
       "3      3   29.656970\n",
       "4      4   27.251716\n",
       "..   ...         ...\n",
       "322  322   26.603718\n",
       "323  323   27.882652\n",
       "324  324   98.026610\n",
       "325  325  207.576994\n",
       "326  326  227.153982\n",
       "\n",
       "[327 rows x 2 columns]"
      ]
     },
     "execution_count": 9,
     "metadata": {},
     "output_type": "execute_result"
    }
   ],
   "source": [
    "sample['count'] = pred\n",
    "sample"
   ]
  },
  {
   "cell_type": "code",
   "execution_count": 10,
   "id": "irish-transsexual",
   "metadata": {
    "execution": {
     "iopub.execute_input": "2021-04-12T11:04:45.772090Z",
     "iopub.status.busy": "2021-04-12T11:04:45.771421Z",
     "iopub.status.idle": "2021-04-12T11:04:45.779025Z",
     "shell.execute_reply": "2021-04-12T11:04:45.778374Z"
    },
    "papermill": {
     "duration": 0.024677,
     "end_time": "2021-04-12T11:04:45.779161",
     "exception": false,
     "start_time": "2021-04-12T11:04:45.754484",
     "status": "completed"
    },
    "tags": []
   },
   "outputs": [],
   "source": [
    "sample.to_csv('submit.csv', header=True, index=False)"
   ]
  },
  {
   "cell_type": "code",
   "execution_count": null,
   "id": "lovely-vault",
   "metadata": {
    "papermill": {
     "duration": 0.013071,
     "end_time": "2021-04-12T11:04:45.804551",
     "exception": false,
     "start_time": "2021-04-12T11:04:45.791480",
     "status": "completed"
    },
    "tags": []
   },
   "outputs": [],
   "source": []
  }
 ],
 "metadata": {
  "kernelspec": {
   "display_name": "Python 3",
   "language": "python",
   "name": "python3"
  },
  "language_info": {
   "codemirror_mode": {
    "name": "ipython",
    "version": 3
   },
   "file_extension": ".py",
   "mimetype": "text/x-python",
   "name": "python",
   "nbconvert_exporter": "python",
   "pygments_lexer": "ipython3",
   "version": "3.7.9"
  },
  "papermill": {
   "default_parameters": {},
   "duration": 8.146448,
   "end_time": "2021-04-12T11:04:46.426564",
   "environment_variables": {},
   "exception": null,
   "input_path": "__notebook__.ipynb",
   "output_path": "__notebook__.ipynb",
   "parameters": {},
   "start_time": "2021-04-12T11:04:38.280116",
   "version": "2.3.2"
  }
 },
 "nbformat": 4,
 "nbformat_minor": 5
}
