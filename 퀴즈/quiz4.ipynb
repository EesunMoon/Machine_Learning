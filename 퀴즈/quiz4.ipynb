{
 "cells": [
  {
   "cell_type": "code",
   "execution_count": 1,
   "id": "loaded-hughes",
   "metadata": {
    "_cell_guid": "b1076dfc-b9ad-4769-8c92-a6c4dae69d19",
    "_uuid": "8f2839f25d086af736a60e9eeb907d3b93b6e0e5",
    "execution": {
     "iopub.execute_input": "2021-04-12T10:50:56.592012Z",
     "iopub.status.busy": "2021-04-12T10:50:56.591407Z",
     "iopub.status.idle": "2021-04-12T10:50:56.599701Z",
     "shell.execute_reply": "2021-04-12T10:50:56.600457Z"
    },
    "papermill": {
     "duration": 0.022012,
     "end_time": "2021-04-12T10:50:56.600776",
     "exception": false,
     "start_time": "2021-04-12T10:50:56.578764",
     "status": "completed"
    },
    "tags": []
   },
   "outputs": [
    {
     "name": "stdout",
     "output_type": "stream",
     "text": [
      "/kaggle/input/2021-ml-quiz1-p4a/train.csv\n",
      "/kaggle/input/2021-ml-quiz1-p4a/test.csv\n",
      "/kaggle/input/2021-ml-quiz1-p4a/sample_submit.csv\n"
     ]
    }
   ],
   "source": [
    "# This Python 3 environment comes with many helpful analytics libraries installed\n",
    "# It is defined by the kaggle/python Docker image: https://github.com/kaggle/docker-python\n",
    "# For example, here's several helpful packages to load\n",
    "\n",
    "import numpy as np # linear algebra\n",
    "import pandas as pd # data processing, CSV file I/O (e.g. pd.read_csv)\n",
    "\n",
    "# Input data files are available in the read-only \"../input/\" directory\n",
    "# For example, running this (by clicking run or pressing Shift+Enter) will list all files under the input directory\n",
    "\n",
    "import os\n",
    "for dirname, _, filenames in os.walk('/kaggle/input'):\n",
    "    for filename in filenames:\n",
    "        print(os.path.join(dirname, filename))\n",
    "\n",
    "# You can write up to 20GB to the current directory (/kaggle/working/) that gets preserved as output when you create a version using \"Save & Run All\" \n",
    "# You can also write temporary files to /kaggle/temp/, but they won't be saved outside of the current session"
   ]
  },
  {
   "cell_type": "code",
   "execution_count": 2,
   "id": "enormous-baptist",
   "metadata": {
    "execution": {
     "iopub.execute_input": "2021-04-12T10:50:56.621703Z",
     "iopub.status.busy": "2021-04-12T10:50:56.621138Z",
     "iopub.status.idle": "2021-04-12T10:50:56.680118Z",
     "shell.execute_reply": "2021-04-12T10:50:56.679238Z"
    },
    "papermill": {
     "duration": 0.069806,
     "end_time": "2021-04-12T10:50:56.680310",
     "exception": false,
     "start_time": "2021-04-12T10:50:56.610504",
     "status": "completed"
    },
    "tags": []
   },
   "outputs": [
    {
     "name": "stdout",
     "output_type": "stream",
     "text": [
      "   sleep_time_mean  sleep_time_std  sleep_time_min  sleep_time_25  \\\n",
      "0         6.250000        0.689202             5.0          6.125   \n",
      "1         6.418182        1.169693             3.0          6.000   \n",
      "2         7.034483        1.127262             5.5          6.500   \n",
      "3         6.453846        1.070642             3.0          6.000   \n",
      "4         5.902439        1.817345             3.5          4.500   \n",
      "\n",
      "   sleep_time_50  sleep_time_75  sleep_time_max  sleep_quality_mean  \\\n",
      "0            6.5           6.50             7.0            3.500000   \n",
      "1            6.5           6.75             9.5            3.345455   \n",
      "2            6.5           8.00            11.0            3.862069   \n",
      "3            6.5           7.00             9.0            3.061538   \n",
      "4            5.5           7.00            10.0            2.975610   \n",
      "\n",
      "   sleep_quality_std  sleep_quality_min  sleep_quality_25  sleep_quality_50  \\\n",
      "0           0.836660                2.0              3.25               4.0   \n",
      "1           0.672700                1.0              3.00               3.0   \n",
      "2           0.347839                3.0              4.00               4.0   \n",
      "3           0.768052                1.0              3.00               3.0   \n",
      "4           0.961452                1.0              2.00               3.0   \n",
      "\n",
      "   sleep_quality_75  sleep_quality_max  label  \n",
      "0               4.0                4.0      0  \n",
      "1               4.0                4.0      0  \n",
      "2               4.0                4.0      0  \n",
      "3               4.0                4.0      1  \n",
      "4               4.0                4.0      0  \n",
      "   sleep_time_mean  sleep_time_std  sleep_time_min  sleep_time_25  \\\n",
      "0         6.574468        1.202257             3.0           6.00   \n",
      "1         5.233333        1.293758             3.5           4.25   \n",
      "2         5.980000        0.620484             4.5           5.50   \n",
      "3         5.735294        0.430562             5.0           5.50   \n",
      "4         6.423077        0.832974             5.0           6.00   \n",
      "\n",
      "   sleep_time_50  sleep_time_75  sleep_time_max  sleep_quality_mean  \\\n",
      "0            6.5           7.00            10.0            2.659574   \n",
      "1            5.0           5.75             8.5            2.375000   \n",
      "2            6.0           6.50             7.0            3.560000   \n",
      "3            5.5           6.00             6.5            2.941176   \n",
      "4            6.5           6.50             8.0            3.384615   \n",
      "\n",
      "   sleep_quality_std  sleep_quality_min  sleep_quality_25  sleep_quality_50  \\\n",
      "0           0.599877                1.0               2.0               3.0   \n",
      "1           1.147461                1.0               1.0               2.5   \n",
      "2           0.711805                2.0               3.0               4.0   \n",
      "3           0.547234                2.0               3.0               3.0   \n",
      "4           0.803837                2.0               3.0               4.0   \n",
      "\n",
      "   sleep_quality_75  sleep_quality_max  \n",
      "0               3.0                4.0  \n",
      "1               3.0                4.0  \n",
      "2               4.0                4.0  \n",
      "3               3.0                4.0  \n",
      "4               4.0                4.0  \n"
     ]
    }
   ],
   "source": [
    "train_data = pd.read_csv('/kaggle/input/2021-ml-quiz1-p4a/train.csv')\n",
    "test_data = pd.read_csv('/kaggle/input/2021-ml-quiz1-p4a/test.csv')\n",
    "submit = pd.read_csv('/kaggle/input/2021-ml-quiz1-p4a/sample_submit.csv')\n",
    "\n",
    "print(train_data.head())\n",
    "print(test_data.head())"
   ]
  },
  {
   "cell_type": "code",
   "execution_count": 3,
   "id": "damaged-timer",
   "metadata": {
    "execution": {
     "iopub.execute_input": "2021-04-12T10:50:56.702049Z",
     "iopub.status.busy": "2021-04-12T10:50:56.701470Z",
     "iopub.status.idle": "2021-04-12T10:50:56.708955Z",
     "shell.execute_reply": "2021-04-12T10:50:56.708277Z"
    },
    "papermill": {
     "duration": 0.018923,
     "end_time": "2021-04-12T10:50:56.709137",
     "exception": false,
     "start_time": "2021-04-12T10:50:56.690214",
     "status": "completed"
    },
    "tags": []
   },
   "outputs": [
    {
     "name": "stdout",
     "output_type": "stream",
     "text": [
      "(23, 14)\n"
     ]
    }
   ],
   "source": [
    "x_data = train_data.drop('label', axis=1)\n",
    "y_data = train_data['label']\n",
    "print(x_data.shape)"
   ]
  },
  {
   "cell_type": "code",
   "execution_count": 4,
   "id": "dying-parts",
   "metadata": {
    "execution": {
     "iopub.execute_input": "2021-04-12T10:50:56.731653Z",
     "iopub.status.busy": "2021-04-12T10:50:56.730747Z",
     "iopub.status.idle": "2021-04-12T10:50:57.742084Z",
     "shell.execute_reply": "2021-04-12T10:50:57.741456Z"
    },
    "papermill": {
     "duration": 1.023458,
     "end_time": "2021-04-12T10:50:57.742238",
     "exception": false,
     "start_time": "2021-04-12T10:50:56.718780",
     "status": "completed"
    },
    "tags": []
   },
   "outputs": [
    {
     "name": "stdout",
     "output_type": "stream",
     "text": [
      "(16, 14)\n"
     ]
    }
   ],
   "source": [
    "# split\n",
    "from sklearn.model_selection import train_test_split\n",
    "x_train, x_val, y_train, y_val = train_test_split(x_data, y_data, test_size = 0.3, random_state=123, stratify = y_data)\n",
    "print(x_train.shape)"
   ]
  },
  {
   "cell_type": "code",
   "execution_count": 5,
   "id": "becoming-trainer",
   "metadata": {
    "execution": {
     "iopub.execute_input": "2021-04-12T10:50:57.767665Z",
     "iopub.status.busy": "2021-04-12T10:50:57.767018Z",
     "iopub.status.idle": "2021-04-12T10:50:57.892307Z",
     "shell.execute_reply": "2021-04-12T10:50:57.892915Z"
    },
    "papermill": {
     "duration": 0.14071,
     "end_time": "2021-04-12T10:50:57.893090",
     "exception": false,
     "start_time": "2021-04-12T10:50:57.752380",
     "status": "completed"
    },
    "tags": []
   },
   "outputs": [
    {
     "name": "stdout",
     "output_type": "stream",
     "text": [
      "0.5714285714285714\n",
      "[1 0 0 1 0 0 1]\n"
     ]
    }
   ],
   "source": [
    "# classification\n",
    "from sklearn.linear_model import LogisticRegression\n",
    "lgt = LogisticRegression(class_weight = 'balanced')\n",
    "lgt.fit(x_train, y_train)\n",
    "print(lgt.score(x_val, y_val))\n",
    "val_pred = lgt.predict(x_val)\n",
    "print(val_pred)"
   ]
  },
  {
   "cell_type": "code",
   "execution_count": 6,
   "id": "suspended-ceramic",
   "metadata": {
    "execution": {
     "iopub.execute_input": "2021-04-12T10:50:57.918634Z",
     "iopub.status.busy": "2021-04-12T10:50:57.917710Z",
     "iopub.status.idle": "2021-04-12T10:50:57.920943Z",
     "shell.execute_reply": "2021-04-12T10:50:57.920424Z"
    },
    "papermill": {
     "duration": 0.0173,
     "end_time": "2021-04-12T10:50:57.921100",
     "exception": false,
     "start_time": "2021-04-12T10:50:57.903800",
     "status": "completed"
    },
    "tags": []
   },
   "outputs": [],
   "source": [
    "# # oversampling\n",
    "# from imblearn.over_sampling import SMOTE\n",
    "# sm = SMOTE(random_state=12)\n",
    "# x_sm, y_sm = sm.fit_resample(x_data, y_data)\n",
    "# print(x_sm.shape)\n",
    "# print(y_sm.shape)\n",
    "# print(x_data.shape)"
   ]
  },
  {
   "cell_type": "code",
   "execution_count": 7,
   "id": "chemical-champion",
   "metadata": {
    "execution": {
     "iopub.execute_input": "2021-04-12T10:50:57.948769Z",
     "iopub.status.busy": "2021-04-12T10:50:57.947822Z",
     "iopub.status.idle": "2021-04-12T10:50:57.968585Z",
     "shell.execute_reply": "2021-04-12T10:50:57.968007Z"
    },
    "papermill": {
     "duration": 0.037562,
     "end_time": "2021-04-12T10:50:57.968730",
     "exception": false,
     "start_time": "2021-04-12T10:50:57.931168",
     "status": "completed"
    },
    "tags": []
   },
   "outputs": [
    {
     "data": {
      "text/plain": [
       "array([1, 1, 0, 1, 0, 0, 1, 0, 0, 1, 0, 1, 0, 1, 0, 1, 1, 1, 1, 1, 1, 1,\n",
       "       0])"
      ]
     },
     "execution_count": 7,
     "metadata": {},
     "output_type": "execute_result"
    }
   ],
   "source": [
    "lgt.fit(x_data, y_data)\n",
    "pred = lgt.predict(test_data)\n",
    "pred"
   ]
  },
  {
   "cell_type": "code",
   "execution_count": 8,
   "id": "annoying-mathematics",
   "metadata": {
    "execution": {
     "iopub.execute_input": "2021-04-12T10:50:57.997185Z",
     "iopub.status.busy": "2021-04-12T10:50:57.996551Z",
     "iopub.status.idle": "2021-04-12T10:50:58.003601Z",
     "shell.execute_reply": "2021-04-12T10:50:58.003129Z"
    },
    "papermill": {
     "duration": 0.024561,
     "end_time": "2021-04-12T10:50:58.003767",
     "exception": false,
     "start_time": "2021-04-12T10:50:57.979206",
     "status": "completed"
    },
    "tags": []
   },
   "outputs": [
    {
     "name": "stdout",
     "output_type": "stream",
     "text": [
      "    id  label\n",
      "0    1      1\n",
      "1    2      1\n",
      "2    3      0\n",
      "3    4      1\n",
      "4    5      0\n",
      "5    6      0\n",
      "6    7      1\n",
      "7    8      0\n",
      "8    9      0\n",
      "9   10      1\n",
      "10  11      0\n",
      "11  12      1\n",
      "12  13      0\n",
      "13  14      1\n",
      "14  15      0\n",
      "15  16      1\n",
      "16  17      1\n",
      "17  18      1\n",
      "18  19      1\n",
      "19  20      1\n",
      "20  21      1\n",
      "21  22      1\n",
      "22  23      0\n"
     ]
    }
   ],
   "source": [
    "submit['label'] = pred\n",
    "print(submit)\n",
    "submit.to_csv('submit1.csv', header=True, index = False)"
   ]
  },
  {
   "cell_type": "code",
   "execution_count": 9,
   "id": "aboriginal-poison",
   "metadata": {
    "execution": {
     "iopub.execute_input": "2021-04-12T10:50:58.030589Z",
     "iopub.status.busy": "2021-04-12T10:50:58.029749Z",
     "iopub.status.idle": "2021-04-12T10:50:58.032407Z",
     "shell.execute_reply": "2021-04-12T10:50:58.031774Z"
    },
    "papermill": {
     "duration": 0.017353,
     "end_time": "2021-04-12T10:50:58.032539",
     "exception": false,
     "start_time": "2021-04-12T10:50:58.015186",
     "status": "completed"
    },
    "tags": []
   },
   "outputs": [],
   "source": [
    "\n",
    "# lgt_b = LogisticRegression(class_weight = 'balanced')\n",
    "# lgt_b.fit(x_sm, y_sm)\n",
    "# pred_b = lgt.predict(test_data)\n",
    "# pred_b"
   ]
  },
  {
   "cell_type": "code",
   "execution_count": null,
   "id": "turkish-major",
   "metadata": {
    "papermill": {
     "duration": 0.011128,
     "end_time": "2021-04-12T10:50:58.054971",
     "exception": false,
     "start_time": "2021-04-12T10:50:58.043843",
     "status": "completed"
    },
    "tags": []
   },
   "outputs": [],
   "source": []
  }
 ],
 "metadata": {
  "kernelspec": {
   "display_name": "Python 3",
   "language": "python",
   "name": "python3"
  },
  "language_info": {
   "codemirror_mode": {
    "name": "ipython",
    "version": 3
   },
   "file_extension": ".py",
   "mimetype": "text/x-python",
   "name": "python",
   "nbconvert_exporter": "python",
   "pygments_lexer": "ipython3",
   "version": "3.7.9"
  },
  "papermill": {
   "default_parameters": {},
   "duration": 8.025859,
   "end_time": "2021-04-12T10:50:58.675954",
   "environment_variables": {},
   "exception": null,
   "input_path": "__notebook__.ipynb",
   "output_path": "__notebook__.ipynb",
   "parameters": {},
   "start_time": "2021-04-12T10:50:50.650095",
   "version": "2.3.2"
  }
 },
 "nbformat": 4,
 "nbformat_minor": 5
}
