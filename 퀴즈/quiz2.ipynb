{
 "cells": [
  {
   "cell_type": "code",
   "execution_count": 1,
   "id": "bridal-blond",
   "metadata": {
    "_cell_guid": "b1076dfc-b9ad-4769-8c92-a6c4dae69d19",
    "_uuid": "8f2839f25d086af736a60e9eeb907d3b93b6e0e5",
    "execution": {
     "iopub.execute_input": "2021-04-12T11:22:06.908423Z",
     "iopub.status.busy": "2021-04-12T11:22:06.907839Z",
     "iopub.status.idle": "2021-04-12T11:22:06.913823Z",
     "shell.execute_reply": "2021-04-12T11:22:06.913241Z"
    },
    "papermill": {
     "duration": 0.021636,
     "end_time": "2021-04-12T11:22:06.914004",
     "exception": false,
     "start_time": "2021-04-12T11:22:06.892368",
     "status": "completed"
    },
    "tags": []
   },
   "outputs": [
    {
     "name": "stdout",
     "output_type": "stream",
     "text": [
      "/kaggle/input/2021-ml-quiz1-p2/train.csv\n",
      "/kaggle/input/2021-ml-quiz1-p2/test.csv\n",
      "/kaggle/input/2021-ml-quiz1-p2/sample_submit.csv\n"
     ]
    }
   ],
   "source": [
    "# This Python 3 environment comes with many helpful analytics libraries installed\n",
    "# It is defined by the kaggle/python Docker image: https://github.com/kaggle/docker-python\n",
    "# For example, here's several helpful packages to load\n",
    "\n",
    "import numpy as np # linear algebra\n",
    "import pandas as pd # data processing, CSV file I/O (e.g. pd.read_csv)\n",
    "\n",
    "# Input data files are available in the read-only \"../input/\" directory\n",
    "# For example, running this (by clicking run or pressing Shift+Enter) will list all files under the input directory\n",
    "\n",
    "import os\n",
    "for dirname, _, filenames in os.walk('/kaggle/input'):\n",
    "    for filename in filenames:\n",
    "        print(os.path.join(dirname, filename))\n",
    "\n",
    "# You can write up to 20GB to the current directory (/kaggle/working/) that gets preserved as output when you create a version using \"Save & Run All\" \n",
    "# You can also write temporary files to /kaggle/temp/, but they won't be saved outside of the current session"
   ]
  },
  {
   "cell_type": "code",
   "execution_count": 2,
   "id": "twenty-point",
   "metadata": {
    "execution": {
     "iopub.execute_input": "2021-04-12T11:22:06.937064Z",
     "iopub.status.busy": "2021-04-12T11:22:06.936350Z",
     "iopub.status.idle": "2021-04-12T11:22:07.089878Z",
     "shell.execute_reply": "2021-04-12T11:22:07.088669Z"
    },
    "papermill": {
     "duration": 0.166883,
     "end_time": "2021-04-12T11:22:07.090023",
     "exception": false,
     "start_time": "2021-04-12T11:22:06.923140",
     "status": "completed"
    },
    "tags": []
   },
   "outputs": [
    {
     "name": "stdout",
     "output_type": "stream",
     "text": [
      "   ID  company      model  year  transmission  mileage  fueltype  tax   mpg  \\\n",
      "0   0        4      Auris  2015             1    47541         4  145  46.3   \n",
      "1   1        0         X2  2018             3     5000         0  145  50.4   \n",
      "2   2        2      Focus  2017             3    47018         4  145  51.4   \n",
      "3   3        2      Focus  2020             1     1550         4  145  49.6   \n",
      "4   4        0   3 Series  2017             3    23505         0  145  64.2   \n",
      "\n",
      "   engineSize  price  \n",
      "0         1.6   8095  \n",
      "1         2.0  21726  \n",
      "2         1.0  10490  \n",
      "3         1.0  17490  \n",
      "4         2.0  18995  \n",
      "   ID  company      model  year  transmission  mileage  fueltype  tax   mpg  \\\n",
      "0   0        2        Ka+  2017             1    10150         4  145  57.7   \n",
      "1   1        2       Kuga  2013             1    50216         0  145  53.3   \n",
      "2   2        3         Q5  2016             1    34189         0  200  47.9   \n",
      "3   3        1        I10  2020             1     1900         4  145  56.5   \n",
      "4   4        0   3 Series  2014             0    79809         0   20  68.9   \n",
      "\n",
      "   engineSize  \n",
      "0         1.2  \n",
      "1         2.0  \n",
      "2         2.0  \n",
      "3         1.0  \n",
      "4         2.0  \n"
     ]
    }
   ],
   "source": [
    "train_data = pd.read_csv('/kaggle/input/2021-ml-quiz1-p2/train.csv')\n",
    "test_data = pd.read_csv('/kaggle/input/2021-ml-quiz1-p2/test.csv')\n",
    "submit = pd.read_csv('/kaggle/input/2021-ml-quiz1-p2/sample_submit.csv')\n",
    "\n",
    "print(train_data.head())\n",
    "print(test_data.head())"
   ]
  },
  {
   "cell_type": "code",
   "execution_count": 3,
   "id": "first-denial",
   "metadata": {
    "execution": {
     "iopub.execute_input": "2021-04-12T11:22:07.121071Z",
     "iopub.status.busy": "2021-04-12T11:22:07.116859Z",
     "iopub.status.idle": "2021-04-12T11:22:07.129690Z",
     "shell.execute_reply": "2021-04-12T11:22:07.130190Z"
    },
    "papermill": {
     "duration": 0.031152,
     "end_time": "2021-04-12T11:22:07.130359",
     "exception": false,
     "start_time": "2021-04-12T11:22:07.099207",
     "status": "completed"
    },
    "tags": []
   },
   "outputs": [
    {
     "name": "stdout",
     "output_type": "stream",
     "text": [
      "   company      model  year  transmission  mileage  fueltype  tax   mpg  \\\n",
      "0        4      Auris  2015             1    47541         4  145  46.3   \n",
      "1        0         X2  2018             3     5000         0  145  50.4   \n",
      "2        2      Focus  2017             3    47018         4  145  51.4   \n",
      "3        2      Focus  2020             1     1550         4  145  49.6   \n",
      "4        0   3 Series  2017             3    23505         0  145  64.2   \n",
      "\n",
      "   engineSize  \n",
      "0         1.6  \n",
      "1         2.0  \n",
      "2         1.0  \n",
      "3         1.0  \n",
      "4         2.0  \n",
      "   company      model  year  transmission  mileage  fueltype  tax   mpg  \\\n",
      "0        2        Ka+  2017             1    10150         4  145  57.7   \n",
      "1        2       Kuga  2013             1    50216         0  145  53.3   \n",
      "2        3         Q5  2016             1    34189         0  200  47.9   \n",
      "3        1        I10  2020             1     1900         4  145  56.5   \n",
      "4        0   3 Series  2014             0    79809         0   20  68.9   \n",
      "\n",
      "   engineSize  \n",
      "0         1.2  \n",
      "1         2.0  \n",
      "2         2.0  \n",
      "3         1.0  \n",
      "4         2.0  \n"
     ]
    }
   ],
   "source": [
    "x_data = train_data.drop(['ID', 'price'], axis=1)\n",
    "test_data= test_data.drop('ID', axis=1)\n",
    "y_data = train_data['price']\n",
    "print(x_data.head())\n",
    "print(test_data.head())"
   ]
  },
  {
   "cell_type": "code",
   "execution_count": 4,
   "id": "illegal-review",
   "metadata": {
    "execution": {
     "iopub.execute_input": "2021-04-12T11:22:07.155022Z",
     "iopub.status.busy": "2021-04-12T11:22:07.154365Z",
     "iopub.status.idle": "2021-04-12T11:22:08.110779Z",
     "shell.execute_reply": "2021-04-12T11:22:08.109434Z"
    },
    "papermill": {
     "duration": 0.971414,
     "end_time": "2021-04-12T11:22:08.110934",
     "exception": false,
     "start_time": "2021-04-12T11:22:07.139520",
     "status": "completed"
    },
    "tags": []
   },
   "outputs": [],
   "source": [
    "from sklearn.preprocessing import LabelEncoder\n",
    "le = LabelEncoder()\n",
    "x_data_le = le.fit_transform(x_data['model'].values)\n",
    "test_data_le = le.transform(test_data['model'].values)\n",
    "\n",
    "x_data['model'] = x_data_le\n",
    "test_data['model'] = test_data_le"
   ]
  },
  {
   "cell_type": "code",
   "execution_count": 5,
   "id": "surgical-newport",
   "metadata": {
    "execution": {
     "iopub.execute_input": "2021-04-12T11:22:08.139151Z",
     "iopub.status.busy": "2021-04-12T11:22:08.138445Z",
     "iopub.status.idle": "2021-04-12T11:22:08.146199Z",
     "shell.execute_reply": "2021-04-12T11:22:08.145546Z"
    },
    "papermill": {
     "duration": 0.024445,
     "end_time": "2021-04-12T11:22:08.146356",
     "exception": false,
     "start_time": "2021-04-12T11:22:08.121911",
     "status": "completed"
    },
    "tags": []
   },
   "outputs": [],
   "source": [
    "from sklearn.preprocessing import StandardScaler\n",
    "scaler = StandardScaler()\n",
    "scaler.fit(x_data['mileage'].values.reshape(-1, 1))\n",
    "\n",
    "x_data_mileage = scaler.transform(x_data['mileage'].values.reshape(-1, 1))\n",
    "test_data_mileage = scaler.transform(test_data['mileage'].values.reshape(-1, 1))\n",
    "\n",
    "x_data['mileage'] = x_data_mileage\n",
    "test_data['mileage'] = test_data_mileage"
   ]
  },
  {
   "cell_type": "code",
   "execution_count": 6,
   "id": "unlike-convention",
   "metadata": {
    "execution": {
     "iopub.execute_input": "2021-04-12T11:22:08.176005Z",
     "iopub.status.busy": "2021-04-12T11:22:08.175210Z",
     "iopub.status.idle": "2021-04-12T11:22:08.247459Z",
     "shell.execute_reply": "2021-04-12T11:22:08.246495Z"
    },
    "papermill": {
     "duration": 0.088681,
     "end_time": "2021-04-12T11:22:08.247741",
     "exception": false,
     "start_time": "2021-04-12T11:22:08.159060",
     "status": "completed"
    },
    "tags": []
   },
   "outputs": [
    {
     "name": "stdout",
     "output_type": "stream",
     "text": [
      "(23919, 9)\n",
      "(10251, 9)\n"
     ]
    }
   ],
   "source": [
    "from sklearn.model_selection import train_test_split\n",
    "x_train, x_val, y_train, y_val = train_test_split(x_data, y_data, test_size = 0.3, random_state=123)\n",
    "print(x_train.shape)\n",
    "print(x_val.shape)"
   ]
  },
  {
   "cell_type": "code",
   "execution_count": 7,
   "id": "romantic-wrong",
   "metadata": {
    "execution": {
     "iopub.execute_input": "2021-04-12T11:22:08.275656Z",
     "iopub.status.busy": "2021-04-12T11:22:08.275032Z",
     "iopub.status.idle": "2021-04-12T11:22:08.809671Z",
     "shell.execute_reply": "2021-04-12T11:22:08.809076Z"
    },
    "papermill": {
     "duration": 0.550449,
     "end_time": "2021-04-12T11:22:08.809817",
     "exception": false,
     "start_time": "2021-04-12T11:22:08.259368",
     "status": "completed"
    },
    "tags": []
   },
   "outputs": [
    {
     "name": "stdout",
     "output_type": "stream",
     "text": [
      "1306.8714870575827\n"
     ]
    }
   ],
   "source": [
    "from sklearn.neighbors import KNeighborsRegressor\n",
    "reg = KNeighborsRegressor(n_neighbors = 5, weights = 'distance' , p=1) # neightbors = 5\n",
    "\n",
    "reg.fit(x_train, y_train)\n",
    "val_pred = reg.predict(x_val)\n",
    "\n",
    "from sklearn.metrics import mean_absolute_error\n",
    "print(mean_absolute_error(y_val, val_pred))\n"
   ]
  },
  {
   "cell_type": "code",
   "execution_count": 8,
   "id": "mighty-gossip",
   "metadata": {
    "execution": {
     "iopub.execute_input": "2021-04-12T11:22:08.839050Z",
     "iopub.status.busy": "2021-04-12T11:22:08.838353Z",
     "iopub.status.idle": "2021-04-12T11:22:09.613911Z",
     "shell.execute_reply": "2021-04-12T11:22:09.614391Z"
    },
    "papermill": {
     "duration": 0.793699,
     "end_time": "2021-04-12T11:22:09.614556",
     "exception": false,
     "start_time": "2021-04-12T11:22:08.820857",
     "status": "completed"
    },
    "tags": []
   },
   "outputs": [
    {
     "name": "stdout",
     "output_type": "stream",
     "text": [
      "[ 8323.44663331  9212.25270542 20022.20081524 ... 14254.3324794\n",
      " 29781.75053937 12427.02345439]\n"
     ]
    }
   ],
   "source": [
    "# train\n",
    "reg.fit(x_data, y_data)\n",
    "pred = reg.predict(test_data)\n",
    "\n",
    "print(pred)"
   ]
  },
  {
   "cell_type": "code",
   "execution_count": 9,
   "id": "german-velvet",
   "metadata": {
    "execution": {
     "iopub.execute_input": "2021-04-12T11:22:09.641983Z",
     "iopub.status.busy": "2021-04-12T11:22:09.641328Z",
     "iopub.status.idle": "2021-04-12T11:22:09.658982Z",
     "shell.execute_reply": "2021-04-12T11:22:09.658338Z"
    },
    "papermill": {
     "duration": 0.033143,
     "end_time": "2021-04-12T11:22:09.659132",
     "exception": false,
     "start_time": "2021-04-12T11:22:09.625989",
     "status": "completed"
    },
    "tags": []
   },
   "outputs": [
    {
     "data": {
      "text/html": [
       "<div>\n",
       "<style scoped>\n",
       "    .dataframe tbody tr th:only-of-type {\n",
       "        vertical-align: middle;\n",
       "    }\n",
       "\n",
       "    .dataframe tbody tr th {\n",
       "        vertical-align: top;\n",
       "    }\n",
       "\n",
       "    .dataframe thead th {\n",
       "        text-align: right;\n",
       "    }\n",
       "</style>\n",
       "<table border=\"1\" class=\"dataframe\">\n",
       "  <thead>\n",
       "    <tr style=\"text-align: right;\">\n",
       "      <th></th>\n",
       "      <th>ID</th>\n",
       "      <th>price</th>\n",
       "    </tr>\n",
       "  </thead>\n",
       "  <tbody>\n",
       "    <tr>\n",
       "      <th>0</th>\n",
       "      <td>0</td>\n",
       "      <td>8323.446633</td>\n",
       "    </tr>\n",
       "    <tr>\n",
       "      <th>1</th>\n",
       "      <td>1</td>\n",
       "      <td>9212.252705</td>\n",
       "    </tr>\n",
       "    <tr>\n",
       "      <th>2</th>\n",
       "      <td>2</td>\n",
       "      <td>20022.200815</td>\n",
       "    </tr>\n",
       "    <tr>\n",
       "      <th>3</th>\n",
       "      <td>3</td>\n",
       "      <td>12141.699542</td>\n",
       "    </tr>\n",
       "    <tr>\n",
       "      <th>4</th>\n",
       "      <td>4</td>\n",
       "      <td>9410.894365</td>\n",
       "    </tr>\n",
       "    <tr>\n",
       "      <th>...</th>\n",
       "      <td>...</td>\n",
       "      <td>...</td>\n",
       "    </tr>\n",
       "    <tr>\n",
       "      <th>16826</th>\n",
       "      <td>16826</td>\n",
       "      <td>13055.437173</td>\n",
       "    </tr>\n",
       "    <tr>\n",
       "      <th>16827</th>\n",
       "      <td>16827</td>\n",
       "      <td>12231.341051</td>\n",
       "    </tr>\n",
       "    <tr>\n",
       "      <th>16828</th>\n",
       "      <td>16828</td>\n",
       "      <td>14254.332479</td>\n",
       "    </tr>\n",
       "    <tr>\n",
       "      <th>16829</th>\n",
       "      <td>16829</td>\n",
       "      <td>29781.750539</td>\n",
       "    </tr>\n",
       "    <tr>\n",
       "      <th>16830</th>\n",
       "      <td>16830</td>\n",
       "      <td>12427.023454</td>\n",
       "    </tr>\n",
       "  </tbody>\n",
       "</table>\n",
       "<p>16831 rows × 2 columns</p>\n",
       "</div>"
      ],
      "text/plain": [
       "          ID         price\n",
       "0          0   8323.446633\n",
       "1          1   9212.252705\n",
       "2          2  20022.200815\n",
       "3          3  12141.699542\n",
       "4          4   9410.894365\n",
       "...      ...           ...\n",
       "16826  16826  13055.437173\n",
       "16827  16827  12231.341051\n",
       "16828  16828  14254.332479\n",
       "16829  16829  29781.750539\n",
       "16830  16830  12427.023454\n",
       "\n",
       "[16831 rows x 2 columns]"
      ]
     },
     "execution_count": 9,
     "metadata": {},
     "output_type": "execute_result"
    }
   ],
   "source": [
    "submit['price'] = pred\n",
    "submit"
   ]
  },
  {
   "cell_type": "code",
   "execution_count": 10,
   "id": "surprising-stanley",
   "metadata": {
    "execution": {
     "iopub.execute_input": "2021-04-12T11:22:09.686644Z",
     "iopub.status.busy": "2021-04-12T11:22:09.685958Z",
     "iopub.status.idle": "2021-04-12T11:22:09.756707Z",
     "shell.execute_reply": "2021-04-12T11:22:09.755926Z"
    },
    "papermill": {
     "duration": 0.08558,
     "end_time": "2021-04-12T11:22:09.756850",
     "exception": false,
     "start_time": "2021-04-12T11:22:09.671270",
     "status": "completed"
    },
    "tags": []
   },
   "outputs": [],
   "source": [
    "submit.to_csv('submit.csv', header = True, index = False)"
   ]
  },
  {
   "cell_type": "code",
   "execution_count": null,
   "id": "solid-chosen",
   "metadata": {
    "papermill": {
     "duration": 0.013575,
     "end_time": "2021-04-12T11:22:09.782795",
     "exception": false,
     "start_time": "2021-04-12T11:22:09.769220",
     "status": "completed"
    },
    "tags": []
   },
   "outputs": [],
   "source": []
  }
 ],
 "metadata": {
  "kernelspec": {
   "display_name": "Python 3",
   "language": "python",
   "name": "python3"
  },
  "language_info": {
   "codemirror_mode": {
    "name": "ipython",
    "version": 3
   },
   "file_extension": ".py",
   "mimetype": "text/x-python",
   "name": "python",
   "nbconvert_exporter": "python",
   "pygments_lexer": "ipython3",
   "version": "3.7.9"
  },
  "papermill": {
   "default_parameters": {},
   "duration": 9.34744,
   "end_time": "2021-04-12T11:22:10.406611",
   "environment_variables": {},
   "exception": null,
   "input_path": "__notebook__.ipynb",
   "output_path": "__notebook__.ipynb",
   "parameters": {},
   "start_time": "2021-04-12T11:22:01.059171",
   "version": "2.3.2"
  }
 },
 "nbformat": 4,
 "nbformat_minor": 5
}
