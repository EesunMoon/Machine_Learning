{
 "cells": [
  {
   "cell_type": "code",
   "execution_count": 1,
   "id": "ahead-abortion",
   "metadata": {
    "_cell_guid": "b1076dfc-b9ad-4769-8c92-a6c4dae69d19",
    "_uuid": "8f2839f25d086af736a60e9eeb907d3b93b6e0e5",
    "execution": {
     "iopub.execute_input": "2021-04-12T10:10:34.172241Z",
     "iopub.status.busy": "2021-04-12T10:10:34.171051Z",
     "iopub.status.idle": "2021-04-12T10:10:34.179814Z",
     "shell.execute_reply": "2021-04-12T10:10:34.179145Z"
    },
    "papermill": {
     "duration": 0.02434,
     "end_time": "2021-04-12T10:10:34.179986",
     "exception": false,
     "start_time": "2021-04-12T10:10:34.155646",
     "status": "completed"
    },
    "tags": []
   },
   "outputs": [
    {
     "name": "stdout",
     "output_type": "stream",
     "text": [
      "/kaggle/input/2021-ml-quiz1-p1/train.csv\n",
      "/kaggle/input/2021-ml-quiz1-p1/test.csv\n",
      "/kaggle/input/2021-ml-quiz1-p1/sample_submit.csv\n"
     ]
    }
   ],
   "source": [
    "# This Python 3 environment comes with many helpful analytics libraries installed\n",
    "# It is defined by the kaggle/python Docker image: https://github.com/kaggle/docker-python\n",
    "# For example, here's several helpful packages to load\n",
    "\n",
    "import numpy as np # linear algebra\n",
    "import pandas as pd # data processing, CSV file I/O (e.g. pd.read_csv)\n",
    "\n",
    "# Input data files are available in the read-only \"../input/\" directory\n",
    "# For example, running this (by clicking run or pressing Shift+Enter) will list all files under the input directory\n",
    "\n",
    "import os\n",
    "for dirname, _, filenames in os.walk('/kaggle/input'):\n",
    "    for filename in filenames:\n",
    "        print(os.path.join(dirname, filename))\n",
    "\n",
    "# You can write up to 20GB to the current directory (/kaggle/working/) that gets preserved as output when you create a version using \"Save & Run All\" \n",
    "# You can also write temporary files to /kaggle/temp/, but they won't be saved outside of the current session"
   ]
  },
  {
   "cell_type": "code",
   "execution_count": 2,
   "id": "specialized-multiple",
   "metadata": {
    "execution": {
     "iopub.execute_input": "2021-04-12T10:10:34.206263Z",
     "iopub.status.busy": "2021-04-12T10:10:34.205431Z",
     "iopub.status.idle": "2021-04-12T10:10:34.267097Z",
     "shell.execute_reply": "2021-04-12T10:10:34.267993Z"
    },
    "papermill": {
     "duration": 0.077963,
     "end_time": "2021-04-12T10:10:34.268233",
     "exception": false,
     "start_time": "2021-04-12T10:10:34.190270",
     "status": "completed"
    },
    "tags": []
   },
   "outputs": [
    {
     "name": "stdout",
     "output_type": "stream",
     "text": [
      "    N    P    K  temperature   humidity        ph    rainfall        label\n",
      "0  22   36   16    30.581395  50.771481  8.184229   64.585596    mothbeans\n",
      "1  18   27   41    22.365094  92.308824  7.175344  104.821633  pomegranate\n",
      "2  61   68   50    35.214628  91.497251  6.793245  243.074507       papaya\n",
      "3  26   72   22    28.767949  37.577921  4.674942   91.720849   pigeonpeas\n",
      "4   2  140  197    22.697801  92.822234  5.534567  105.050823        apple\n",
      "     N    P    K  temperature   humidity        ph    rainfall\n",
      "0  101   17   47    29.494014  94.729813  6.185053   26.308209\n",
      "1   98    8   51    26.179346  86.522581  6.259336   49.430510\n",
      "2   59   62   49    43.360515  93.351916  6.941497  114.778071\n",
      "3   44   60   55    34.280461  90.555616  6.825371   98.540477\n",
      "4   30  137  200    22.914300  90.704756  5.603413  118.604465\n"
     ]
    }
   ],
   "source": [
    "train_data =pd.read_csv('/kaggle/input/2021-ml-quiz1-p1/train.csv')\n",
    "test_data =pd.read_csv('/kaggle/input/2021-ml-quiz1-p1/test.csv')\n",
    "submit =pd.read_csv('/kaggle/input/2021-ml-quiz1-p1/sample_submit.csv')\n",
    "\n",
    "print(train_data.head())\n",
    "print(test_data.head())"
   ]
  },
  {
   "cell_type": "code",
   "execution_count": 3,
   "id": "premier-emergency",
   "metadata": {
    "execution": {
     "iopub.execute_input": "2021-04-12T10:10:34.304026Z",
     "iopub.status.busy": "2021-04-12T10:10:34.303058Z",
     "iopub.status.idle": "2021-04-12T10:10:34.307329Z",
     "shell.execute_reply": "2021-04-12T10:10:34.306482Z"
    },
    "papermill": {
     "duration": 0.027342,
     "end_time": "2021-04-12T10:10:34.307521",
     "exception": false,
     "start_time": "2021-04-12T10:10:34.280179",
     "status": "completed"
    },
    "tags": []
   },
   "outputs": [
    {
     "name": "stdout",
     "output_type": "stream",
     "text": [
      "    N    P    K  temperature   humidity        ph    rainfall\n",
      "0  22   36   16    30.581395  50.771481  8.184229   64.585596\n",
      "1  18   27   41    22.365094  92.308824  7.175344  104.821633\n",
      "2  61   68   50    35.214628  91.497251  6.793245  243.074507\n",
      "3  26   72   22    28.767949  37.577921  4.674942   91.720849\n",
      "4   2  140  197    22.697801  92.822234  5.534567  105.050823\n",
      "0      mothbeans\n",
      "1    pomegranate\n",
      "2         papaya\n",
      "3     pigeonpeas\n",
      "4          apple\n",
      "Name: label, dtype: object\n"
     ]
    }
   ],
   "source": [
    "x_data = train_data.drop('label', axis=1)\n",
    "y_data = train_data['label']\n",
    "print(x_data.head())\n",
    "print(y_data.head())"
   ]
  },
  {
   "cell_type": "code",
   "execution_count": 4,
   "id": "acquired-triumph",
   "metadata": {
    "execution": {
     "iopub.execute_input": "2021-04-12T10:10:34.335335Z",
     "iopub.status.busy": "2021-04-12T10:10:34.334663Z",
     "iopub.status.idle": "2021-04-12T10:10:35.462438Z",
     "shell.execute_reply": "2021-04-12T10:10:35.463086Z"
    },
    "papermill": {
     "duration": 1.143886,
     "end_time": "2021-04-12T10:10:35.463299",
     "exception": false,
     "start_time": "2021-04-12T10:10:34.319413",
     "status": "completed"
    },
    "tags": []
   },
   "outputs": [
    {
     "name": "stdout",
     "output_type": "stream",
     "text": [
      "[13 19 17 ... 12  7 10]\n"
     ]
    }
   ],
   "source": [
    "from sklearn.preprocessing import LabelEncoder\n",
    "le = LabelEncoder()\n",
    "\n",
    "y_data_le = le.fit_transform(y_data)\n",
    "print(y_data_le)"
   ]
  },
  {
   "cell_type": "code",
   "execution_count": 5,
   "id": "cloudy-progress",
   "metadata": {
    "execution": {
     "iopub.execute_input": "2021-04-12T10:10:35.490143Z",
     "iopub.status.busy": "2021-04-12T10:10:35.489146Z",
     "iopub.status.idle": "2021-04-12T10:10:35.571300Z",
     "shell.execute_reply": "2021-04-12T10:10:35.570631Z"
    },
    "papermill": {
     "duration": 0.096793,
     "end_time": "2021-04-12T10:10:35.571461",
     "exception": false,
     "start_time": "2021-04-12T10:10:35.474668",
     "status": "completed"
    },
    "tags": []
   },
   "outputs": [
    {
     "name": "stdout",
     "output_type": "stream",
     "text": [
      "(1155, 7)\n",
      "(495, 7)\n"
     ]
    }
   ],
   "source": [
    "# split\n",
    "from sklearn.model_selection import train_test_split\n",
    "x_train, x_val, y_train, y_val = train_test_split(x_data, y_data_le, test_size=0.3, random_state=12, stratify = y_data_le)\n",
    "print(x_train.shape)\n",
    "print(x_val.shape)"
   ]
  },
  {
   "cell_type": "code",
   "execution_count": 6,
   "id": "adjacent-kinase",
   "metadata": {
    "execution": {
     "iopub.execute_input": "2021-04-12T10:10:35.603293Z",
     "iopub.status.busy": "2021-04-12T10:10:35.602431Z",
     "iopub.status.idle": "2021-04-12T10:10:35.820640Z",
     "shell.execute_reply": "2021-04-12T10:10:35.821138Z"
    },
    "papermill": {
     "duration": 0.236992,
     "end_time": "2021-04-12T10:10:35.821343",
     "exception": false,
     "start_time": "2021-04-12T10:10:35.584351",
     "status": "completed"
    },
    "tags": []
   },
   "outputs": [
    {
     "name": "stdout",
     "output_type": "stream",
     "text": [
      "0.9818181818181818\n"
     ]
    }
   ],
   "source": [
    "# knn - class\n",
    "from sklearn.neighbors import KNeighborsClassifier\n",
    "knn = KNeighborsClassifier()\n",
    "knn.fit(x_train, y_train)\n",
    "print(knn.score(x_val, y_val))"
   ]
  },
  {
   "cell_type": "code",
   "execution_count": 7,
   "id": "appropriate-security",
   "metadata": {
    "execution": {
     "iopub.execute_input": "2021-04-12T10:10:35.848750Z",
     "iopub.status.busy": "2021-04-12T10:10:35.848073Z",
     "iopub.status.idle": "2021-04-12T10:10:36.048542Z",
     "shell.execute_reply": "2021-04-12T10:10:36.049049Z"
    },
    "papermill": {
     "duration": 0.216056,
     "end_time": "2021-04-12T10:10:36.049248",
     "exception": false,
     "start_time": "2021-04-12T10:10:35.833192",
     "status": "completed"
    },
    "tags": []
   },
   "outputs": [
    {
     "name": "stdout",
     "output_type": "stream",
     "text": [
      "0.9616161616161616\n"
     ]
    },
    {
     "name": "stderr",
     "output_type": "stream",
     "text": [
      "/opt/conda/lib/python3.7/site-packages/sklearn/linear_model/_sag.py:329: ConvergenceWarning: The max_iter was reached which means the coef_ did not converge\n",
      "  \"the coef_ did not converge\", ConvergenceWarning)\n"
     ]
    }
   ],
   "source": [
    "# logistic\n",
    "from sklearn.linear_model import LogisticRegression\n",
    "\n",
    "lgt = LogisticRegression(solver='sag')\n",
    "lgt.fit(x_train, y_train)\n",
    "print(lgt.score(x_val, y_val))"
   ]
  },
  {
   "cell_type": "code",
   "execution_count": 8,
   "id": "freelance-entity",
   "metadata": {
    "execution": {
     "iopub.execute_input": "2021-04-12T10:10:36.084486Z",
     "iopub.status.busy": "2021-04-12T10:10:36.083505Z",
     "iopub.status.idle": "2021-04-12T10:10:36.125515Z",
     "shell.execute_reply": "2021-04-12T10:10:36.124920Z"
    },
    "papermill": {
     "duration": 0.063082,
     "end_time": "2021-04-12T10:10:36.125657",
     "exception": false,
     "start_time": "2021-04-12T10:10:36.062575",
     "status": "completed"
    },
    "tags": []
   },
   "outputs": [
    {
     "data": {
      "text/plain": [
       "array([15, 21, 17, 17,  0, 12,  0, 13, 14, 10,  2,  4, 19,  8,  4, 19,  0,\n",
       "        6, 17, 15,  5, 17, 16, 17,  3,  8, 14, 16, 18,  8, 19, 13,  8, 10,\n",
       "        8,  2,  8,  3,  3,  9, 17, 12,  2, 11, 14, 11, 18,  4, 15, 11,  2,\n",
       "        5,  7, 14,  5,  9,  6,  0,  1,  2, 21,  4, 10, 16, 17,  2, 16, 20,\n",
       "       15, 18, 15,  4,  8,  1,  2, 17,  1,  6, 21, 16,  5,  3,  8, 13, 16,\n",
       "       12,  5, 13,  2, 19, 11, 13,  6, 17, 18, 13,  9,  5,  2, 10,  4,  8,\n",
       "       16, 15, 21,  9, 21,  1, 18, 13,  1,  8,  6, 19, 18,  3, 11,  4, 19,\n",
       "       20, 18,  7,  2,  4,  3,  2,  4, 11,  1, 13,  1,  9, 19,  3,  4, 16,\n",
       "       18,  1,  1,  0,  9, 15, 14, 13,  4, 11,  0,  4,  9, 13, 14, 10, 21,\n",
       "       14, 18, 18, 18,  9, 11,  8,  3,  0, 16,  6, 20,  4,  7, 10, 21,  7,\n",
       "        7,  2, 19,  3,  4, 11, 10,  7, 21,  8,  5,  5,  9,  8, 13,  9,  1,\n",
       "        9,  4, 17, 17, 14, 12, 19, 21,  9, 11,  0,  2,  3,  7,  7,  1,  6,\n",
       "       20, 19, 14,  1,  8, 14, 11,  3,  3,  3,  0, 20,  9, 17,  5,  2,  9,\n",
       "       12, 12,  4, 17,  0,  3, 19,  3, 15,  0, 15, 15, 12, 12,  6,  4, 19,\n",
       "       20, 15,  5, 17, 10, 11, 12, 15, 18, 14,  5,  7,  4,  6, 18, 20,  0,\n",
       "       19,  5,  3,  6,  8, 12,  1, 17,  0,  3,  8, 18, 13, 14,  8, 19,  7,\n",
       "       13,  8, 11,  4, 11,  3,  1,  8,  4,  8, 12, 15,  0,  1, 18,  2, 16,\n",
       "        3, 21,  1,  0,  3,  5, 18, 16,  0,  4, 17, 21, 13, 17,  3, 19,  3,\n",
       "       17, 10,  0, 19,  3, 12,  3, 19, 21,  9, 14, 15, 21,  9, 15, 12,  8,\n",
       "        2,  3,  1,  2, 18, 17,  9, 14,  4,  6,  7,  0, 10,  1,  8,  0, 19,\n",
       "        0, 14, 15,  5,  8, 18,  8,  9,  1, 11,  8, 11, 18, 12,  9, 19, 21,\n",
       "        2, 11, 20, 13,  9, 12,  6, 17, 13,  6, 14, 16, 20,  2, 14,  5,  1,\n",
       "       18, 17,  0, 19, 11, 12,  4,  0, 10,  8, 13, 10,  4,  2,  8, 14,  6,\n",
       "       21,  0,  7,  4,  7, 21, 20, 12, 12,  5, 19,  1,  7,  8, 16,  6, 12,\n",
       "       17, 15, 13,  8,  3, 13, 19, 21, 13,  6, 17, 21, 10, 20,  4, 13, 13,\n",
       "       11, 20, 11,  4, 16, 19,  9, 21, 14,  2, 20, 20,  6,  6, 18, 16,  2,\n",
       "       10,  1, 12, 11,  0, 19, 12,  6, 14, 18,  3,  0,  5, 18,  8,  8,  8,\n",
       "       17, 10,  7,  8, 16, 14, 12,  9,  7, 14, 16, 18,  1,  8, 18, 19,  5,\n",
       "       15,  2, 17, 17, 19,  9,  3, 14, 14, 12, 18, 15, 12, 13, 18, 15, 20,\n",
       "       19, 15, 18,  0, 14, 20,  9,  0, 20, 12, 17, 13,  6, 19, 18, 17, 10,\n",
       "       11,  3, 15,  6,  9,  3, 14,  5,  5, 16, 21, 16,  7,  5, 18, 12,  0,\n",
       "       12, 19,  5, 18,  5,  7,  6, 19, 17,  0,  2, 18, 21, 17,  2,  7, 10,\n",
       "        8,  5, 17,  3,  5,  8])"
      ]
     },
     "execution_count": 8,
     "metadata": {},
     "output_type": "execute_result"
    }
   ],
   "source": [
    "# train\n",
    "knn.fit(x_data, y_data_le)\n",
    "pred = knn.predict(test_data)\n",
    "pred"
   ]
  },
  {
   "cell_type": "code",
   "execution_count": 9,
   "id": "fabulous-falls",
   "metadata": {
    "execution": {
     "iopub.execute_input": "2021-04-12T10:10:36.158380Z",
     "iopub.status.busy": "2021-04-12T10:10:36.157355Z",
     "iopub.status.idle": "2021-04-12T10:10:36.161110Z",
     "shell.execute_reply": "2021-04-12T10:10:36.160584Z"
    },
    "papermill": {
     "duration": 0.022276,
     "end_time": "2021-04-12T10:10:36.161284",
     "exception": false,
     "start_time": "2021-04-12T10:10:36.139008",
     "status": "completed"
    },
    "tags": []
   },
   "outputs": [],
   "source": [
    "pred_origin = le.inverse_transform(pred)"
   ]
  },
  {
   "cell_type": "code",
   "execution_count": 10,
   "id": "shaped-guest",
   "metadata": {
    "execution": {
     "iopub.execute_input": "2021-04-12T10:10:36.198892Z",
     "iopub.status.busy": "2021-04-12T10:10:36.198248Z",
     "iopub.status.idle": "2021-04-12T10:10:36.210651Z",
     "shell.execute_reply": "2021-04-12T10:10:36.209977Z"
    },
    "papermill": {
     "duration": 0.035929,
     "end_time": "2021-04-12T10:10:36.210792",
     "exception": false,
     "start_time": "2021-04-12T10:10:36.174863",
     "status": "completed"
    },
    "tags": []
   },
   "outputs": [
    {
     "data": {
      "text/html": [
       "<div>\n",
       "<style scoped>\n",
       "    .dataframe tbody tr th:only-of-type {\n",
       "        vertical-align: middle;\n",
       "    }\n",
       "\n",
       "    .dataframe tbody tr th {\n",
       "        vertical-align: top;\n",
       "    }\n",
       "\n",
       "    .dataframe thead th {\n",
       "        text-align: right;\n",
       "    }\n",
       "</style>\n",
       "<table border=\"1\" class=\"dataframe\">\n",
       "  <thead>\n",
       "    <tr style=\"text-align: right;\">\n",
       "      <th></th>\n",
       "      <th>id</th>\n",
       "      <th>label</th>\n",
       "    </tr>\n",
       "  </thead>\n",
       "  <tbody>\n",
       "    <tr>\n",
       "      <th>0</th>\n",
       "      <td>0</td>\n",
       "      <td>muskmelon</td>\n",
       "    </tr>\n",
       "    <tr>\n",
       "      <th>1</th>\n",
       "      <td>1</td>\n",
       "      <td>watermelon</td>\n",
       "    </tr>\n",
       "    <tr>\n",
       "      <th>2</th>\n",
       "      <td>2</td>\n",
       "      <td>papaya</td>\n",
       "    </tr>\n",
       "    <tr>\n",
       "      <th>3</th>\n",
       "      <td>3</td>\n",
       "      <td>papaya</td>\n",
       "    </tr>\n",
       "    <tr>\n",
       "      <th>4</th>\n",
       "      <td>4</td>\n",
       "      <td>apple</td>\n",
       "    </tr>\n",
       "    <tr>\n",
       "      <th>...</th>\n",
       "      <td>...</td>\n",
       "      <td>...</td>\n",
       "    </tr>\n",
       "    <tr>\n",
       "      <th>545</th>\n",
       "      <td>545</td>\n",
       "      <td>coffee</td>\n",
       "    </tr>\n",
       "    <tr>\n",
       "      <th>546</th>\n",
       "      <td>546</td>\n",
       "      <td>papaya</td>\n",
       "    </tr>\n",
       "    <tr>\n",
       "      <th>547</th>\n",
       "      <td>547</td>\n",
       "      <td>chickpea</td>\n",
       "    </tr>\n",
       "    <tr>\n",
       "      <th>548</th>\n",
       "      <td>548</td>\n",
       "      <td>coffee</td>\n",
       "    </tr>\n",
       "    <tr>\n",
       "      <th>549</th>\n",
       "      <td>549</td>\n",
       "      <td>jute</td>\n",
       "    </tr>\n",
       "  </tbody>\n",
       "</table>\n",
       "<p>550 rows × 2 columns</p>\n",
       "</div>"
      ],
      "text/plain": [
       "      id       label\n",
       "0      0   muskmelon\n",
       "1      1  watermelon\n",
       "2      2      papaya\n",
       "3      3      papaya\n",
       "4      4       apple\n",
       "..   ...         ...\n",
       "545  545      coffee\n",
       "546  546      papaya\n",
       "547  547    chickpea\n",
       "548  548      coffee\n",
       "549  549        jute\n",
       "\n",
       "[550 rows x 2 columns]"
      ]
     },
     "execution_count": 10,
     "metadata": {},
     "output_type": "execute_result"
    }
   ],
   "source": [
    "submit['label'] = pred_origin\n",
    "submit"
   ]
  },
  {
   "cell_type": "code",
   "execution_count": 11,
   "id": "dedicated-chrome",
   "metadata": {
    "execution": {
     "iopub.execute_input": "2021-04-12T10:10:36.249641Z",
     "iopub.status.busy": "2021-04-12T10:10:36.248836Z",
     "iopub.status.idle": "2021-04-12T10:10:36.255858Z",
     "shell.execute_reply": "2021-04-12T10:10:36.256456Z"
    },
    "papermill": {
     "duration": 0.030302,
     "end_time": "2021-04-12T10:10:36.256635",
     "exception": false,
     "start_time": "2021-04-12T10:10:36.226333",
     "status": "completed"
    },
    "tags": []
   },
   "outputs": [],
   "source": [
    "submit.to_csv('submit.csv', header=True, index=False)"
   ]
  },
  {
   "cell_type": "code",
   "execution_count": null,
   "id": "provincial-republican",
   "metadata": {
    "papermill": {
     "duration": 0.014939,
     "end_time": "2021-04-12T10:10:36.286771",
     "exception": false,
     "start_time": "2021-04-12T10:10:36.271832",
     "status": "completed"
    },
    "tags": []
   },
   "outputs": [],
   "source": []
  }
 ],
 "metadata": {
  "kernelspec": {
   "display_name": "Python 3",
   "language": "python",
   "name": "python3"
  },
  "language_info": {
   "codemirror_mode": {
    "name": "ipython",
    "version": 3
   },
   "file_extension": ".py",
   "mimetype": "text/x-python",
   "name": "python",
   "nbconvert_exporter": "python",
   "pygments_lexer": "ipython3",
   "version": "3.7.9"
  },
  "papermill": {
   "default_parameters": {},
   "duration": 9.329815,
   "end_time": "2021-04-12T10:10:37.012839",
   "environment_variables": {},
   "exception": null,
   "input_path": "__notebook__.ipynb",
   "output_path": "__notebook__.ipynb",
   "parameters": {},
   "start_time": "2021-04-12T10:10:27.683024",
   "version": "2.3.2"
  }
 },
 "nbformat": 4,
 "nbformat_minor": 5
}
