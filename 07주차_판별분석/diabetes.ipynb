{
 "cells": [
  {
   "cell_type": "code",
   "execution_count": 1,
   "id": "wrong-mount",
   "metadata": {
    "_cell_guid": "b1076dfc-b9ad-4769-8c92-a6c4dae69d19",
    "_uuid": "8f2839f25d086af736a60e9eeb907d3b93b6e0e5",
    "execution": {
     "iopub.execute_input": "2021-04-18T06:02:37.048850Z",
     "iopub.status.busy": "2021-04-18T06:02:37.047734Z",
     "iopub.status.idle": "2021-04-18T06:02:37.055497Z",
     "shell.execute_reply": "2021-04-18T06:02:37.056001Z"
    },
    "papermill": {
     "duration": 0.021001,
     "end_time": "2021-04-18T06:02:37.056259",
     "exception": false,
     "start_time": "2021-04-18T06:02:37.035258",
     "status": "completed"
    },
    "tags": []
   },
   "outputs": [
    {
     "name": "stdout",
     "output_type": "stream",
     "text": [
      "/kaggle/input/2021-ml-diabetes/X_test.csv\n",
      "/kaggle/input/2021-ml-diabetes/submit.csv\n",
      "/kaggle/input/2021-ml-diabetes/data.csv\n"
     ]
    }
   ],
   "source": [
    "# This Python 3 environment comes with many helpful analytics libraries installed\n",
    "# It is defined by the kaggle/python Docker image: https://github.com/kaggle/docker-python\n",
    "# For example, here's several helpful packages to load\n",
    "\n",
    "import numpy as np # linear algebra\n",
    "import pandas as pd # data processing, CSV file I/O (e.g. pd.read_csv)\n",
    "\n",
    "# Input data files are available in the read-only \"../input/\" directory\n",
    "# For example, running this (by clicking run or pressing Shift+Enter) will list all files under the input directory\n",
    "\n",
    "import os\n",
    "for dirname, _, filenames in os.walk('/kaggle/input'):\n",
    "    for filename in filenames:\n",
    "        print(os.path.join(dirname, filename))\n",
    "\n",
    "# You can write up to 20GB to the current directory (/kaggle/working/) that gets preserved as output when you create a version using \"Save & Run All\" \n",
    "# You can also write temporary files to /kaggle/temp/, but they won't be saved outside of the current session"
   ]
  },
  {
   "cell_type": "code",
   "execution_count": 2,
   "id": "unable-virginia",
   "metadata": {
    "execution": {
     "iopub.execute_input": "2021-04-18T06:02:37.078609Z",
     "iopub.status.busy": "2021-04-18T06:02:37.077986Z",
     "iopub.status.idle": "2021-04-18T06:02:37.145183Z",
     "shell.execute_reply": "2021-04-18T06:02:37.145812Z"
    },
    "papermill": {
     "duration": 0.079707,
     "end_time": "2021-04-18T06:02:37.146008",
     "exception": false,
     "start_time": "2021-04-18T06:02:37.066301",
     "status": "completed"
    },
    "tags": []
   },
   "outputs": [
    {
     "name": "stdout",
     "output_type": "stream",
     "text": [
      "     Pregnancies  Glucose  BloodPressure  SkinThickness  Insulin   BMI  \\\n",
      "0              1       95             60             18       58  23.9   \n",
      "1              5      105             72             29      325  36.9   \n",
      "2              0      135             68             42      250  42.3   \n",
      "3              4      131             68             21      166  33.1   \n",
      "4              1      103             30             38       83  43.3   \n",
      "..           ...      ...            ...            ...      ...   ...   \n",
      "532            5      139             64             35      140  28.6   \n",
      "533            1       96            122              0        0  22.4   \n",
      "534           10      101             86             37        0  45.6   \n",
      "535            0      141              0              0        0  42.4   \n",
      "536            0      125             96              0        0  22.5   \n",
      "\n",
      "     DiabetesPedigreeFunction  Age  Diabetes  \n",
      "0                       0.260   22         0  \n",
      "1                       0.159   28         0  \n",
      "2                       0.365   24         1  \n",
      "3                       0.160   28         0  \n",
      "4                       0.183   33         0  \n",
      "..                        ...  ...       ...  \n",
      "532                     0.411   26         0  \n",
      "533                     0.207   27         0  \n",
      "534                     1.136   38         1  \n",
      "535                     0.205   29         1  \n",
      "536                     0.262   21         0  \n",
      "\n",
      "[537 rows x 9 columns]\n",
      "     Pregnancies  Glucose  BloodPressure  SkinThickness  Insulin   BMI  \\\n",
      "0              6       98             58             33      190  34.0   \n",
      "1              2      112             75             32        0  35.7   \n",
      "2              2      108             64              0        0  30.8   \n",
      "3              8      107             80              0        0  24.6   \n",
      "4              7      136             90              0        0  29.9   \n",
      "..           ...      ...            ...            ...      ...   ...   \n",
      "226            0      119              0              0        0  32.4   \n",
      "227            4      109             64             44       99  34.8   \n",
      "228            0      127             80             37      210  36.3   \n",
      "229            6      105             70             32       68  30.8   \n",
      "230            5       77             82             41       42  35.8   \n",
      "\n",
      "     DiabetesPedigreeFunction  Age  \n",
      "0                       0.430   43  \n",
      "1                       0.148   21  \n",
      "2                       0.158   21  \n",
      "3                       0.856   34  \n",
      "4                       0.210   50  \n",
      "..                        ...  ...  \n",
      "226                     0.141   24  \n",
      "227                     0.905   26  \n",
      "228                     0.804   23  \n",
      "229                     0.122   37  \n",
      "230                     0.156   35  \n",
      "\n",
      "[231 rows x 8 columns]\n"
     ]
    }
   ],
   "source": [
    "train_data = pd.read_csv('/kaggle/input/2021-ml-diabetes/data.csv')\n",
    "test_data = pd.read_csv('/kaggle/input/2021-ml-diabetes/X_test.csv')\n",
    "submit = pd.read_csv('/kaggle/input/2021-ml-diabetes/submit.csv')\n",
    "\n",
    "print(train_data)\n",
    "print(test_data)"
   ]
  },
  {
   "cell_type": "code",
   "execution_count": 3,
   "id": "south-protection",
   "metadata": {
    "execution": {
     "iopub.execute_input": "2021-04-18T06:02:37.171693Z",
     "iopub.status.busy": "2021-04-18T06:02:37.171066Z",
     "iopub.status.idle": "2021-04-18T06:02:37.174373Z",
     "shell.execute_reply": "2021-04-18T06:02:37.173839Z"
    },
    "papermill": {
     "duration": 0.01894,
     "end_time": "2021-04-18T06:02:37.174503",
     "exception": false,
     "start_time": "2021-04-18T06:02:37.155563",
     "status": "completed"
    },
    "tags": []
   },
   "outputs": [],
   "source": [
    "x_data = train_data.drop('Diabetes', axis=1)\n",
    "y_data = train_data['Diabetes']"
   ]
  },
  {
   "cell_type": "code",
   "execution_count": 4,
   "id": "incorrect-mumbai",
   "metadata": {
    "execution": {
     "iopub.execute_input": "2021-04-18T06:02:37.198865Z",
     "iopub.status.busy": "2021-04-18T06:02:37.198216Z",
     "iopub.status.idle": "2021-04-18T06:02:38.273875Z",
     "shell.execute_reply": "2021-04-18T06:02:38.274457Z"
    },
    "papermill": {
     "duration": 1.090516,
     "end_time": "2021-04-18T06:02:38.274644",
     "exception": false,
     "start_time": "2021-04-18T06:02:37.184128",
     "status": "completed"
    },
    "tags": []
   },
   "outputs": [],
   "source": [
    "from sklearn.model_selection import train_test_split\n",
    "x_train, x_val, y_train, y_val = train_test_split(x_data, y_data, test_size=0.15, random_state= 42)"
   ]
  },
  {
   "cell_type": "code",
   "execution_count": 5,
   "id": "usual-italic",
   "metadata": {
    "execution": {
     "iopub.execute_input": "2021-04-18T06:02:38.297415Z",
     "iopub.status.busy": "2021-04-18T06:02:38.296805Z",
     "iopub.status.idle": "2021-04-18T06:02:38.428055Z",
     "shell.execute_reply": "2021-04-18T06:02:38.428547Z"
    },
    "papermill": {
     "duration": 0.143951,
     "end_time": "2021-04-18T06:02:38.428728",
     "exception": false,
     "start_time": "2021-04-18T06:02:38.284777",
     "status": "completed"
    },
    "tags": []
   },
   "outputs": [
    {
     "name": "stdout",
     "output_type": "stream",
     "text": [
      "0.8024691358024691\n"
     ]
    }
   ],
   "source": [
    "from sklearn.discriminant_analysis import LinearDiscriminantAnalysis\n",
    "lda = LinearDiscriminantAnalysis()\n",
    "lda.fit(x_train, y_train)\n",
    "print(lda.score(x_val, y_val))"
   ]
  },
  {
   "cell_type": "code",
   "execution_count": 6,
   "id": "efficient-landing",
   "metadata": {
    "execution": {
     "iopub.execute_input": "2021-04-18T06:02:38.456622Z",
     "iopub.status.busy": "2021-04-18T06:02:38.455938Z",
     "iopub.status.idle": "2021-04-18T06:02:38.476377Z",
     "shell.execute_reply": "2021-04-18T06:02:38.475630Z"
    },
    "papermill": {
     "duration": 0.037478,
     "end_time": "2021-04-18T06:02:38.476563",
     "exception": false,
     "start_time": "2021-04-18T06:02:38.439085",
     "status": "completed"
    },
    "tags": []
   },
   "outputs": [
    {
     "name": "stdout",
     "output_type": "stream",
     "text": [
      "0.7407407407407407\n"
     ]
    }
   ],
   "source": [
    "from sklearn.discriminant_analysis import QuadraticDiscriminantAnalysis\n",
    "qda = QuadraticDiscriminantAnalysis()\n",
    "qda.fit(x_train, y_train)\n",
    "print(qda.score(x_val, y_val))"
   ]
  },
  {
   "cell_type": "code",
   "execution_count": 7,
   "id": "persistent-cotton",
   "metadata": {
    "execution": {
     "iopub.execute_input": "2021-04-18T06:02:38.508535Z",
     "iopub.status.busy": "2021-04-18T06:02:38.507609Z",
     "iopub.status.idle": "2021-04-18T06:02:38.512485Z",
     "shell.execute_reply": "2021-04-18T06:02:38.511876Z"
    },
    "papermill": {
     "duration": 0.025108,
     "end_time": "2021-04-18T06:02:38.512616",
     "exception": false,
     "start_time": "2021-04-18T06:02:38.487508",
     "status": "completed"
    },
    "tags": []
   },
   "outputs": [
    {
     "data": {
      "text/plain": [
       "array([0, 0, 0, 0, 0, 0, 0, 1, 1, 1, 0, 1, 0, 0, 0, 0, 0, 0, 1, 1, 0, 0,\n",
       "       0, 0, 1, 1, 0, 0, 0, 0, 1, 1, 1, 1, 1, 1, 1, 0, 0, 1, 0, 1, 1, 0,\n",
       "       0, 1, 1, 0, 0, 1, 0, 1, 1, 0, 0, 0, 1, 0, 0, 1, 1, 0, 0, 0, 0, 1,\n",
       "       0, 1, 0, 1, 1, 0, 0, 0, 0, 0, 0, 0, 0, 0, 1, 0, 0, 0, 0, 1, 1, 0,\n",
       "       0, 0, 0, 0, 0, 1, 1, 1, 0, 0, 1, 0, 1, 0, 1, 1, 1, 0, 0, 1, 0, 0,\n",
       "       0, 0, 0, 1, 0, 0, 1, 0, 0, 1, 0, 0, 0, 0, 0, 0, 0, 1, 1, 1, 1, 1,\n",
       "       0, 0, 1, 0, 0, 1, 1, 0, 0, 0, 0, 0, 0, 0, 0, 0, 0, 1, 0, 0, 0, 0,\n",
       "       0, 0, 0, 1, 1, 0, 1, 1, 0, 0, 0, 1, 0, 0, 1, 0, 1, 0, 0, 1, 1, 0,\n",
       "       0, 0, 0, 0, 0, 1, 0, 1, 1, 0, 0, 0, 1, 0, 0, 0, 1, 0, 0, 0, 0, 0,\n",
       "       0, 1, 0, 0, 0, 0, 1, 0, 0, 0, 1, 1, 0, 0, 0, 0, 1, 0, 1, 0, 0, 1,\n",
       "       1, 0, 0, 0, 0, 1, 0, 0, 0, 0, 0])"
      ]
     },
     "execution_count": 7,
     "metadata": {},
     "output_type": "execute_result"
    }
   ],
   "source": [
    "pred = lda.predict(test_data)\n",
    "pred"
   ]
  },
  {
   "cell_type": "code",
   "execution_count": 8,
   "id": "traditional-venue",
   "metadata": {
    "execution": {
     "iopub.execute_input": "2021-04-18T06:02:38.540033Z",
     "iopub.status.busy": "2021-04-18T06:02:38.539353Z",
     "iopub.status.idle": "2021-04-18T06:02:38.545663Z",
     "shell.execute_reply": "2021-04-18T06:02:38.545043Z"
    },
    "papermill": {
     "duration": 0.022025,
     "end_time": "2021-04-18T06:02:38.545802",
     "exception": false,
     "start_time": "2021-04-18T06:02:38.523777",
     "status": "completed"
    },
    "tags": []
   },
   "outputs": [],
   "source": [
    "submit['Diabetes'] = pred\n",
    "submit.to_csv('submit_lda.csv', header=True, index = False)"
   ]
  },
  {
   "cell_type": "code",
   "execution_count": 9,
   "id": "behind-village",
   "metadata": {
    "execution": {
     "iopub.execute_input": "2021-04-18T06:02:38.570983Z",
     "iopub.status.busy": "2021-04-18T06:02:38.570386Z",
     "iopub.status.idle": "2021-04-18T06:02:38.578468Z",
     "shell.execute_reply": "2021-04-18T06:02:38.579039Z"
    },
    "papermill": {
     "duration": 0.022318,
     "end_time": "2021-04-18T06:02:38.579209",
     "exception": false,
     "start_time": "2021-04-18T06:02:38.556891",
     "status": "completed"
    },
    "tags": []
   },
   "outputs": [
    {
     "data": {
      "text/plain": [
       "array([0, 0, 0, 0, 0, 1, 0, 1, 0, 1, 0, 1, 1, 0, 0, 0, 0, 0, 1, 0, 0, 0,\n",
       "       1, 0, 0, 1, 0, 0, 0, 0, 1, 1, 1, 1, 1, 1, 1, 0, 0, 1, 0, 1, 0, 1,\n",
       "       0, 0, 1, 0, 0, 1, 0, 1, 1, 0, 0, 0, 1, 0, 0, 1, 1, 0, 1, 1, 0, 1,\n",
       "       0, 1, 0, 1, 1, 0, 0, 0, 0, 0, 0, 0, 0, 0, 1, 0, 0, 0, 0, 1, 1, 0,\n",
       "       0, 0, 0, 0, 0, 1, 0, 1, 0, 0, 1, 0, 1, 0, 1, 0, 1, 0, 0, 1, 0, 1,\n",
       "       0, 0, 0, 1, 0, 0, 1, 0, 0, 1, 0, 0, 0, 0, 0, 1, 0, 1, 1, 1, 1, 1,\n",
       "       0, 1, 1, 0, 0, 1, 0, 0, 0, 0, 0, 1, 0, 0, 0, 0, 0, 1, 0, 0, 1, 0,\n",
       "       0, 1, 0, 1, 1, 0, 1, 1, 0, 0, 0, 1, 0, 0, 1, 1, 1, 0, 0, 0, 1, 0,\n",
       "       0, 1, 0, 0, 1, 0, 0, 1, 0, 0, 0, 0, 1, 0, 0, 0, 1, 0, 0, 0, 0, 0,\n",
       "       0, 1, 0, 0, 0, 0, 0, 0, 0, 0, 1, 1, 0, 0, 0, 0, 1, 0, 1, 0, 0, 1,\n",
       "       1, 0, 0, 0, 0, 1, 1, 0, 0, 0, 0])"
      ]
     },
     "execution_count": 9,
     "metadata": {},
     "output_type": "execute_result"
    }
   ],
   "source": [
    "pred2 = qda.predict(test_data)\n",
    "pred2"
   ]
  },
  {
   "cell_type": "code",
   "execution_count": 10,
   "id": "frequent-attack",
   "metadata": {
    "execution": {
     "iopub.execute_input": "2021-04-18T06:02:38.605494Z",
     "iopub.status.busy": "2021-04-18T06:02:38.604915Z",
     "iopub.status.idle": "2021-04-18T06:02:38.610218Z",
     "shell.execute_reply": "2021-04-18T06:02:38.610799Z"
    },
    "papermill": {
     "duration": 0.020189,
     "end_time": "2021-04-18T06:02:38.610972",
     "exception": false,
     "start_time": "2021-04-18T06:02:38.590783",
     "status": "completed"
    },
    "tags": []
   },
   "outputs": [],
   "source": [
    "submit['Diabetes'] = pred2\n",
    "submit.to_csv('submit_qda.csv', header=True, index=False)"
   ]
  },
  {
   "cell_type": "code",
   "execution_count": null,
   "id": "twenty-apparel",
   "metadata": {
    "papermill": {
     "duration": 0.012571,
     "end_time": "2021-04-18T06:02:38.635148",
     "exception": false,
     "start_time": "2021-04-18T06:02:38.622577",
     "status": "completed"
    },
    "tags": []
   },
   "outputs": [],
   "source": []
  }
 ],
 "metadata": {
  "kernelspec": {
   "display_name": "Python 3",
   "language": "python",
   "name": "python3"
  },
  "language_info": {
   "codemirror_mode": {
    "name": "ipython",
    "version": 3
   },
   "file_extension": ".py",
   "mimetype": "text/x-python",
   "name": "python",
   "nbconvert_exporter": "python",
   "pygments_lexer": "ipython3",
   "version": "3.7.9"
  },
  "papermill": {
   "default_parameters": {},
   "duration": 8.299558,
   "end_time": "2021-04-18T06:02:39.255619",
   "environment_variables": {},
   "exception": null,
   "input_path": "__notebook__.ipynb",
   "output_path": "__notebook__.ipynb",
   "parameters": {},
   "start_time": "2021-04-18T06:02:30.956061",
   "version": "2.3.2"
  }
 },
 "nbformat": 4,
 "nbformat_minor": 5
}
