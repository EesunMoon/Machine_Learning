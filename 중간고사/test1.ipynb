{
 "cells": [
  {
   "cell_type": "code",
   "execution_count": 1,
   "id": "dressed-matthew",
   "metadata": {
    "_cell_guid": "b1076dfc-b9ad-4769-8c92-a6c4dae69d19",
    "_uuid": "8f2839f25d086af736a60e9eeb907d3b93b6e0e5",
    "execution": {
     "iopub.execute_input": "2021-04-19T12:58:19.119610Z",
     "iopub.status.busy": "2021-04-19T12:58:19.118984Z",
     "iopub.status.idle": "2021-04-19T12:58:19.125057Z",
     "shell.execute_reply": "2021-04-19T12:58:19.124321Z"
    },
    "papermill": {
     "duration": 0.022155,
     "end_time": "2021-04-19T12:58:19.125270",
     "exception": false,
     "start_time": "2021-04-19T12:58:19.103115",
     "status": "completed"
    },
    "tags": []
   },
   "outputs": [
    {
     "name": "stdout",
     "output_type": "stream",
     "text": [
      "/kaggle/input/2021-ml-midterm-p1/train.csv\n",
      "/kaggle/input/2021-ml-midterm-p1/test.csv\n",
      "/kaggle/input/2021-ml-midterm-p1/sample_submit.csv\n"
     ]
    }
   ],
   "source": [
    "# This Python 3 environment comes with many helpful analytics libraries installed\n",
    "# It is defined by the kaggle/python Docker image: https://github.com/kaggle/docker-python\n",
    "# For example, here's several helpful packages to load\n",
    "\n",
    "import numpy as np # linear algebra\n",
    "import pandas as pd # data processing, CSV file I/O (e.g. pd.read_csv)\n",
    "\n",
    "# Input data files are available in the read-only \"../input/\" directory\n",
    "# For example, running this (by clicking run or pressing Shift+Enter) will list all files under the input directory\n",
    "\n",
    "import os\n",
    "for dirname, _, filenames in os.walk('/kaggle/input'):\n",
    "    for filename in filenames:\n",
    "        print(os.path.join(dirname, filename))\n",
    "\n",
    "# You can write up to 20GB to the current directory (/kaggle/working/) that gets preserved as output when you create a version using \"Save & Run All\" \n",
    "# You can also write temporary files to /kaggle/temp/, but they won't be saved outside of the current session"
   ]
  },
  {
   "cell_type": "code",
   "execution_count": 2,
   "id": "italian-amendment",
   "metadata": {
    "execution": {
     "iopub.execute_input": "2021-04-19T12:58:19.151320Z",
     "iopub.status.busy": "2021-04-19T12:58:19.149958Z",
     "iopub.status.idle": "2021-04-19T12:58:19.219707Z",
     "shell.execute_reply": "2021-04-19T12:58:19.219030Z"
    },
    "papermill": {
     "duration": 0.084154,
     "end_time": "2021-04-19T12:58:19.219848",
     "exception": false,
     "start_time": "2021-04-19T12:58:19.135694",
     "status": "completed"
    },
    "tags": []
   },
   "outputs": [
    {
     "name": "stdout",
     "output_type": "stream",
     "text": [
      "<class 'pandas.core.frame.DataFrame'>\n",
      "RangeIndex: 242 entries, 0 to 241\n",
      "Data columns (total 15 columns):\n",
      " #   Column    Non-Null Count  Dtype  \n",
      "---  ------    --------------  -----  \n",
      " 0   index     242 non-null    int64  \n",
      " 1   age       242 non-null    int64  \n",
      " 2   sex       242 non-null    int64  \n",
      " 3   cp        242 non-null    int64  \n",
      " 4   trestbps  242 non-null    int64  \n",
      " 5   chol      242 non-null    int64  \n",
      " 6   fbs       242 non-null    int64  \n",
      " 7   restecg   242 non-null    int64  \n",
      " 8   thalach   242 non-null    int64  \n",
      " 9   exang     242 non-null    int64  \n",
      " 10  oldpeak   242 non-null    float64\n",
      " 11  slope     242 non-null    int64  \n",
      " 12  ca        242 non-null    object \n",
      " 13  thal      242 non-null    object \n",
      " 14  target    242 non-null    int64  \n",
      "dtypes: float64(1), int64(12), object(2)\n",
      "memory usage: 28.5+ KB\n",
      "None\n",
      "   index  age  sex  cp  trestbps  chol  fbs  restecg  thalach  exang  oldpeak  \\\n",
      "0      3   37    1   3       130   250    0        0      187      0      3.5   \n",
      "1      6   62    0   4       140   268    0        2      160      0      3.6   \n",
      "2     21   58    0   1       150   283    1        2      162      0      1.0   \n",
      "3     24   60    1   4       130   206    0        2      132      1      2.4   \n",
      "4     31   60    1   4       117   230    1        0      160      1      1.4   \n",
      "\n",
      "   slope ca thal  \n",
      "0      3  0    3  \n",
      "1      3  2    3  \n",
      "2      1  0    3  \n",
      "3      2  2    7  \n",
      "4      1  2    7  \n"
     ]
    }
   ],
   "source": [
    "# data load\n",
    "train_data = pd.read_csv('/kaggle/input/2021-ml-midterm-p1/train.csv')\n",
    "test_data = pd.read_csv('/kaggle/input/2021-ml-midterm-p1/test.csv')\n",
    "submit = pd.read_csv('/kaggle/input/2021-ml-midterm-p1/sample_submit.csv')\n",
    "\n",
    "print(train_data.info())\n",
    "print(test_data.head())"
   ]
  },
  {
   "cell_type": "code",
   "execution_count": 3,
   "id": "behavioral-grove",
   "metadata": {
    "execution": {
     "iopub.execute_input": "2021-04-19T12:58:19.248104Z",
     "iopub.status.busy": "2021-04-19T12:58:19.247448Z",
     "iopub.status.idle": "2021-04-19T12:58:19.250287Z",
     "shell.execute_reply": "2021-04-19T12:58:19.249766Z"
    },
    "papermill": {
     "duration": 0.020372,
     "end_time": "2021-04-19T12:58:19.250441",
     "exception": false,
     "start_time": "2021-04-19T12:58:19.230069",
     "status": "completed"
    },
    "tags": []
   },
   "outputs": [],
   "source": [
    "# x, y, test data 처리\n",
    "x_data = train_data.drop(['index', 'target'], axis=1)\n",
    "y_data = train_data['target']\n",
    "test_data = test_data.drop(['index'], axis=1)"
   ]
  },
  {
   "cell_type": "code",
   "execution_count": 4,
   "id": "elementary-transportation",
   "metadata": {
    "execution": {
     "iopub.execute_input": "2021-04-19T12:58:19.290500Z",
     "iopub.status.busy": "2021-04-19T12:58:19.289741Z",
     "iopub.status.idle": "2021-04-19T12:58:19.294385Z",
     "shell.execute_reply": "2021-04-19T12:58:19.293843Z"
    },
    "papermill": {
     "duration": 0.033496,
     "end_time": "2021-04-19T12:58:19.294531",
     "exception": false,
     "start_time": "2021-04-19T12:58:19.261035",
     "status": "completed"
    },
    "tags": []
   },
   "outputs": [
    {
     "name": "stdout",
     "output_type": "stream",
     "text": [
      "<class 'pandas.core.frame.DataFrame'>\n",
      "RangeIndex: 242 entries, 0 to 241\n",
      "Data columns (total 15 columns):\n",
      " #   Column    Non-Null Count  Dtype  \n",
      "---  ------    --------------  -----  \n",
      " 0   index     242 non-null    int64  \n",
      " 1   age       242 non-null    int64  \n",
      " 2   sex       242 non-null    int64  \n",
      " 3   cp        242 non-null    int64  \n",
      " 4   trestbps  242 non-null    int64  \n",
      " 5   chol      242 non-null    int64  \n",
      " 6   fbs       242 non-null    int64  \n",
      " 7   restecg   242 non-null    int64  \n",
      " 8   thalach   242 non-null    int64  \n",
      " 9   exang     242 non-null    int64  \n",
      " 10  oldpeak   242 non-null    float64\n",
      " 11  slope     242 non-null    int64  \n",
      " 12  ca        242 non-null    object \n",
      " 13  thal      242 non-null    object \n",
      " 14  target    242 non-null    int64  \n",
      "dtypes: float64(1), int64(12), object(2)\n",
      "memory usage: 28.5+ KB\n",
      "None\n",
      "   age  sex  cp  trestbps  chol  fbs  restecg  thalach  exang  oldpeak  slope  \\\n",
      "0   37    1   3       130   250    0        0      187      0      3.5      3   \n",
      "1   62    0   4       140   268    0        2      160      0      3.6      3   \n",
      "2   58    0   1       150   283    1        2      162      0      1.0      1   \n",
      "3   60    1   4       130   206    0        2      132      1      2.4      2   \n",
      "4   60    1   4       117   230    1        0      160      1      1.4      1   \n",
      "\n",
      "  ca thal  \n",
      "0  0    3  \n",
      "1  2    3  \n",
      "2  0    3  \n",
      "3  2    7  \n",
      "4  2    7  \n"
     ]
    }
   ],
   "source": [
    "# 데이터 정보 보기\n",
    "print(train_data.info())\n",
    "print(test_data.head())"
   ]
  },
  {
   "cell_type": "code",
   "execution_count": 5,
   "id": "correct-brown",
   "metadata": {
    "execution": {
     "iopub.execute_input": "2021-04-19T12:58:19.323361Z",
     "iopub.status.busy": "2021-04-19T12:58:19.322688Z",
     "iopub.status.idle": "2021-04-19T12:58:20.426516Z",
     "shell.execute_reply": "2021-04-19T12:58:20.425772Z"
    },
    "papermill": {
     "duration": 1.121175,
     "end_time": "2021-04-19T12:58:20.426679",
     "exception": false,
     "start_time": "2021-04-19T12:58:19.305504",
     "status": "completed"
    },
    "tags": []
   },
   "outputs": [],
   "source": [
    "# label encoder\n",
    "from sklearn.preprocessing import LabelEncoder\n",
    "le = LabelEncoder()\n",
    "x_data['ca'] = le.fit_transform(x_data['ca'])\n",
    "test_data['ca'] = le.transform(test_data['ca'])\n",
    "\n",
    "x_data['thal'] = le.fit_transform(x_data['thal'])\n",
    "test_data['thal'] = le.transform(test_data['thal'])"
   ]
  },
  {
   "cell_type": "code",
   "execution_count": 6,
   "id": "outstanding-synthetic",
   "metadata": {
    "execution": {
     "iopub.execute_input": "2021-04-19T12:58:20.454351Z",
     "iopub.status.busy": "2021-04-19T12:58:20.453665Z",
     "iopub.status.idle": "2021-04-19T12:58:20.521976Z",
     "shell.execute_reply": "2021-04-19T12:58:20.521459Z"
    },
    "papermill": {
     "duration": 0.083862,
     "end_time": "2021-04-19T12:58:20.522121",
     "exception": false,
     "start_time": "2021-04-19T12:58:20.438259",
     "status": "completed"
    },
    "tags": []
   },
   "outputs": [],
   "source": [
    "# split\n",
    "from sklearn.model_selection import train_test_split\n",
    "x_train, x_val, y_train, y_val = train_test_split(x_data, y_data, test_size = 0.15, random_state=42)"
   ]
  },
  {
   "cell_type": "code",
   "execution_count": 7,
   "id": "whole-gnome",
   "metadata": {
    "execution": {
     "iopub.execute_input": "2021-04-19T12:58:20.549783Z",
     "iopub.status.busy": "2021-04-19T12:58:20.549083Z",
     "iopub.status.idle": "2021-04-19T12:58:20.736591Z",
     "shell.execute_reply": "2021-04-19T12:58:20.735688Z"
    },
    "papermill": {
     "duration": 0.203655,
     "end_time": "2021-04-19T12:58:20.736775",
     "exception": false,
     "start_time": "2021-04-19T12:58:20.533120",
     "status": "completed"
    },
    "tags": []
   },
   "outputs": [
    {
     "name": "stdout",
     "output_type": "stream",
     "text": [
      "0.6486486486486487\n"
     ]
    }
   ],
   "source": [
    "# knn\n",
    "from sklearn.neighbors import KNeighborsClassifier\n",
    "knn = KNeighborsClassifier(weights = 'distance', n_neighbors = 8, p = 1)\n",
    "knn.fit(x_train, y_train)\n",
    "print(knn.score(x_val, y_val))"
   ]
  },
  {
   "cell_type": "code",
   "execution_count": 8,
   "id": "abandoned-jerusalem",
   "metadata": {
    "execution": {
     "iopub.execute_input": "2021-04-19T12:58:20.770612Z",
     "iopub.status.busy": "2021-04-19T12:58:20.769456Z",
     "iopub.status.idle": "2021-04-19T12:58:20.823797Z",
     "shell.execute_reply": "2021-04-19T12:58:20.824294Z"
    },
    "papermill": {
     "duration": 0.07521,
     "end_time": "2021-04-19T12:58:20.824461",
     "exception": false,
     "start_time": "2021-04-19T12:58:20.749251",
     "status": "completed"
    },
    "tags": []
   },
   "outputs": [
    {
     "name": "stdout",
     "output_type": "stream",
     "text": [
      "0.5945945945945946\n"
     ]
    },
    {
     "name": "stderr",
     "output_type": "stream",
     "text": [
      "/opt/conda/lib/python3.7/site-packages/sklearn/linear_model/_logistic.py:765: ConvergenceWarning: lbfgs failed to converge (status=1):\n",
      "STOP: TOTAL NO. of ITERATIONS REACHED LIMIT.\n",
      "\n",
      "Increase the number of iterations (max_iter) or scale the data as shown in:\n",
      "    https://scikit-learn.org/stable/modules/preprocessing.html\n",
      "Please also refer to the documentation for alternative solver options:\n",
      "    https://scikit-learn.org/stable/modules/linear_model.html#logistic-regression\n",
      "  extra_warning_msg=_LOGISTIC_SOLVER_CONVERGENCE_MSG)\n"
     ]
    }
   ],
   "source": [
    "# lgt\n",
    "from sklearn.linear_model import LogisticRegression\n",
    "lgt = LogisticRegression()\n",
    "lgt.fit(x_train, y_train)\n",
    "print(lgt.score(x_val, y_val))"
   ]
  },
  {
   "cell_type": "code",
   "execution_count": 9,
   "id": "invisible-democrat",
   "metadata": {
    "execution": {
     "iopub.execute_input": "2021-04-19T12:58:20.854822Z",
     "iopub.status.busy": "2021-04-19T12:58:20.853999Z",
     "iopub.status.idle": "2021-04-19T12:58:20.893101Z",
     "shell.execute_reply": "2021-04-19T12:58:20.892013Z"
    },
    "papermill": {
     "duration": 0.056781,
     "end_time": "2021-04-19T12:58:20.893399",
     "exception": false,
     "start_time": "2021-04-19T12:58:20.836618",
     "status": "completed"
    },
    "tags": []
   },
   "outputs": [
    {
     "name": "stdout",
     "output_type": "stream",
     "text": [
      "0.5945945945945946\n"
     ]
    }
   ],
   "source": [
    "# lda\n",
    "from sklearn.discriminant_analysis import LinearDiscriminantAnalysis\n",
    "lda = LinearDiscriminantAnalysis()\n",
    "lda.fit(x_train, y_train)\n",
    "print(lda.score(x_val, y_val))"
   ]
  },
  {
   "cell_type": "code",
   "execution_count": 10,
   "id": "answering-niagara",
   "metadata": {
    "execution": {
     "iopub.execute_input": "2021-04-19T12:58:20.928485Z",
     "iopub.status.busy": "2021-04-19T12:58:20.927800Z",
     "iopub.status.idle": "2021-04-19T12:58:20.936156Z",
     "shell.execute_reply": "2021-04-19T12:58:20.935504Z"
    },
    "papermill": {
     "duration": 0.029117,
     "end_time": "2021-04-19T12:58:20.936329",
     "exception": false,
     "start_time": "2021-04-19T12:58:20.907212",
     "status": "completed"
    },
    "tags": []
   },
   "outputs": [],
   "source": [
    "#submit\n",
    "pred_knn = knn.predict(test_data)\n",
    "submit['target'] = pred_knn\n",
    "submit.to_csv('submit_knn.csv', header = True, index = False)"
   ]
  },
  {
   "cell_type": "code",
   "execution_count": 11,
   "id": "small-patrol",
   "metadata": {
    "execution": {
     "iopub.execute_input": "2021-04-19T12:58:20.967494Z",
     "iopub.status.busy": "2021-04-19T12:58:20.966038Z",
     "iopub.status.idle": "2021-04-19T12:58:20.970579Z",
     "shell.execute_reply": "2021-04-19T12:58:20.971071Z"
    },
    "papermill": {
     "duration": 0.022017,
     "end_time": "2021-04-19T12:58:20.971258",
     "exception": false,
     "start_time": "2021-04-19T12:58:20.949241",
     "status": "completed"
    },
    "tags": []
   },
   "outputs": [],
   "source": [
    "# 먼저 데이터를 로드 한 후 x, y, test 데이터로 나눠주고 index가 필요없다고 생각하여 index를 드랍하였다.\n",
    "# 또한 object형이 너무많아서 object를 모두 실수화 해주었다.\n",
    "# y데이터를 보니 범주형 데이터라 분류 문제라 판단하였고 분류 3개의 모델을 각각 학습해보고 예상 점수를  구해본 결과 knn이 가장 높게 나와 qda를선택했다.\n",
    "# 또한 knn의 거리 가중치를 부여하였고 실험적으로 맨하탄 거리를 선택하였다."
   ]
  },
  {
   "cell_type": "code",
   "execution_count": null,
   "id": "demographic-alcohol",
   "metadata": {
    "papermill": {
     "duration": 0.012886,
     "end_time": "2021-04-19T12:58:20.997362",
     "exception": false,
     "start_time": "2021-04-19T12:58:20.984476",
     "status": "completed"
    },
    "tags": []
   },
   "outputs": [],
   "source": []
  }
 ],
 "metadata": {
  "kernelspec": {
   "display_name": "Python 3",
   "language": "python",
   "name": "python3"
  },
  "language_info": {
   "codemirror_mode": {
    "name": "ipython",
    "version": 3
   },
   "file_extension": ".py",
   "mimetype": "text/x-python",
   "name": "python",
   "nbconvert_exporter": "python",
   "pygments_lexer": "ipython3",
   "version": "3.7.9"
  },
  "papermill": {
   "default_parameters": {},
   "duration": 8.711269,
   "end_time": "2021-04-19T12:58:21.619941",
   "environment_variables": {},
   "exception": null,
   "input_path": "__notebook__.ipynb",
   "output_path": "__notebook__.ipynb",
   "parameters": {},
   "start_time": "2021-04-19T12:58:12.908672",
   "version": "2.3.2"
  }
 },
 "nbformat": 4,
 "nbformat_minor": 5
}
