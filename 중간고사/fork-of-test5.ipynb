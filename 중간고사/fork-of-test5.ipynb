{
 "cells": [
  {
   "cell_type": "code",
   "execution_count": 1,
   "id": "entire-pasta",
   "metadata": {
    "_cell_guid": "b1076dfc-b9ad-4769-8c92-a6c4dae69d19",
    "_uuid": "8f2839f25d086af736a60e9eeb907d3b93b6e0e5",
    "execution": {
     "iopub.execute_input": "2021-04-19T12:54:23.637276Z",
     "iopub.status.busy": "2021-04-19T12:54:23.636585Z",
     "iopub.status.idle": "2021-04-19T12:54:23.641733Z",
     "shell.execute_reply": "2021-04-19T12:54:23.640958Z"
    },
    "papermill": {
     "duration": 0.021473,
     "end_time": "2021-04-19T12:54:23.641903",
     "exception": false,
     "start_time": "2021-04-19T12:54:23.620430",
     "status": "completed"
    },
    "tags": []
   },
   "outputs": [
    {
     "name": "stdout",
     "output_type": "stream",
     "text": [
      "/kaggle/input/2021-ml-midterm-p5/train.csv\n",
      "/kaggle/input/2021-ml-midterm-p5/test.csv\n",
      "/kaggle/input/2021-ml-midterm-p5/sample_submit.csv\n"
     ]
    }
   ],
   "source": [
    "# This Python 3 environment comes with many helpful analytics libraries installed\n",
    "# It is defined by the kaggle/python Docker image: https://github.com/kaggle/docker-python\n",
    "# For example, here's several helpful packages to load\n",
    "\n",
    "import numpy as np # linear algebra\n",
    "import pandas as pd # data processing, CSV file I/O (e.g. pd.read_csv)\n",
    "\n",
    "# Input data files are available in the read-only \"../input/\" directory\n",
    "# For example, running this (by clicking run or pressing Shift+Enter) will list all files under the input directory\n",
    "\n",
    "import os\n",
    "for dirname, _, filenames in os.walk('/kaggle/input'):\n",
    "    for filename in filenames:\n",
    "        print(os.path.join(dirname, filename))\n",
    "\n",
    "# You can write up to 20GB to the current directory (/kaggle/working/) that gets preserved as output when you create a version using \"Save & Run All\" \n",
    "# You can also write temporary files to /kaggle/temp/, but they won't be saved outside of the current session"
   ]
  },
  {
   "cell_type": "code",
   "execution_count": 2,
   "id": "planned-notebook",
   "metadata": {
    "execution": {
     "iopub.execute_input": "2021-04-19T12:54:23.667833Z",
     "iopub.status.busy": "2021-04-19T12:54:23.667214Z",
     "iopub.status.idle": "2021-04-19T12:54:23.807607Z",
     "shell.execute_reply": "2021-04-19T12:54:23.808157Z"
    },
    "papermill": {
     "duration": 0.15574,
     "end_time": "2021-04-19T12:54:23.808335",
     "exception": false,
     "start_time": "2021-04-19T12:54:23.652595",
     "status": "completed"
    },
    "tags": []
   },
   "outputs": [
    {
     "name": "stdout",
     "output_type": "stream",
     "text": [
      "   index  enrollee_id      city  city_development_index gender  \\\n",
      "0      0         8949  city_103                   0.920   Male   \n",
      "1      1        29725   city_40                   0.776   Male   \n",
      "2      3        33241  city_115                   0.789    NaN   \n",
      "3      4          666  city_162                   0.767   Male   \n",
      "4      5        21651  city_176                   0.764    NaN   \n",
      "\n",
      "       relevent_experience enrolled_university education_level  \\\n",
      "0  Has relevent experience       no_enrollment        Graduate   \n",
      "1   No relevent experience       no_enrollment        Graduate   \n",
      "2   No relevent experience                 NaN        Graduate   \n",
      "3  Has relevent experience       no_enrollment         Masters   \n",
      "4  Has relevent experience    Part time course        Graduate   \n",
      "\n",
      "  major_discipline experience company_size    company_type last_new_job  \\\n",
      "0             STEM        >20          NaN             NaN            1   \n",
      "1             STEM         15        50-99         Pvt Ltd           >4   \n",
      "2  Business Degree         <1          NaN         Pvt Ltd        never   \n",
      "3             STEM        >20        50-99  Funded Startup            4   \n",
      "4             STEM         11          NaN             NaN            1   \n",
      "\n",
      "   training_hours  target  \n",
      "0              36     1.0  \n",
      "1              47     0.0  \n",
      "2              52     1.0  \n",
      "3               8     0.0  \n",
      "4              24     1.0  \n",
      "   index  enrollee_id      city  city_development_index gender  \\\n",
      "0      2        11561   city_21                   0.624    NaN   \n",
      "1      9          699  city_103                   0.920    NaN   \n",
      "2     10        29452   city_21                   0.624    NaN   \n",
      "3     11        23853  city_103                   0.920   Male   \n",
      "4     15         6588  city_114                   0.926   Male   \n",
      "\n",
      "       relevent_experience enrolled_university education_level  \\\n",
      "0   No relevent experience    Full time course        Graduate   \n",
      "1  Has relevent experience       no_enrollment        Graduate   \n",
      "2   No relevent experience    Full time course     High School   \n",
      "3  Has relevent experience       no_enrollment        Graduate   \n",
      "4  Has relevent experience       no_enrollment        Graduate   \n",
      "\n",
      "  major_discipline experience company_size company_type last_new_job  \\\n",
      "0             STEM          5          NaN          NaN        never   \n",
      "1             STEM         17       10000+      Pvt Ltd           >4   \n",
      "2              NaN          2          NaN          NaN        never   \n",
      "3             STEM          5    5000-9999      Pvt Ltd            1   \n",
      "4             STEM         16        10/49      Pvt Ltd           >4   \n",
      "\n",
      "   training_hours  \n",
      "0              83  \n",
      "1             123  \n",
      "2              32  \n",
      "3             108  \n",
      "4              18  \n"
     ]
    }
   ],
   "source": [
    "# data load\n",
    "train_data = pd.read_csv('/kaggle/input/2021-ml-midterm-p5/train.csv')\n",
    "test_data = pd.read_csv('/kaggle/input/2021-ml-midterm-p5/test.csv')\n",
    "submit = pd.read_csv('/kaggle/input/2021-ml-midterm-p5/sample_submit.csv')\n",
    "\n",
    "print(train_data.head())\n",
    "print(test_data.head())"
   ]
  },
  {
   "cell_type": "code",
   "execution_count": 3,
   "id": "fluid-recognition",
   "metadata": {
    "execution": {
     "iopub.execute_input": "2021-04-19T12:54:23.831329Z",
     "iopub.status.busy": "2021-04-19T12:54:23.830705Z",
     "iopub.status.idle": "2021-04-19T12:54:23.839193Z",
     "shell.execute_reply": "2021-04-19T12:54:23.839681Z"
    },
    "papermill": {
     "duration": 0.021453,
     "end_time": "2021-04-19T12:54:23.839854",
     "exception": false,
     "start_time": "2021-04-19T12:54:23.818401",
     "status": "completed"
    },
    "tags": []
   },
   "outputs": [],
   "source": [
    "# x, y, test data를 구분해주었고, 필요없다고 판단한 x, test데이터의 열은 지움\n",
    "x_data = train_data.drop(['index', 'target', 'city'], axis = 1)\n",
    "y_data = train_data['target']\n",
    "test_data = test_data.drop(['index', 'city'], axis = 1)"
   ]
  },
  {
   "cell_type": "code",
   "execution_count": 4,
   "id": "aboriginal-gravity",
   "metadata": {
    "execution": {
     "iopub.execute_input": "2021-04-19T12:54:23.863618Z",
     "iopub.status.busy": "2021-04-19T12:54:23.862952Z",
     "iopub.status.idle": "2021-04-19T12:54:23.893838Z",
     "shell.execute_reply": "2021-04-19T12:54:23.894451Z"
    },
    "papermill": {
     "duration": 0.044289,
     "end_time": "2021-04-19T12:54:23.894636",
     "exception": false,
     "start_time": "2021-04-19T12:54:23.850347",
     "status": "completed"
    },
    "tags": []
   },
   "outputs": [
    {
     "name": "stdout",
     "output_type": "stream",
     "text": [
      "<class 'pandas.core.frame.DataFrame'>\n",
      "RangeIndex: 15326 entries, 0 to 15325\n",
      "Data columns (total 12 columns):\n",
      " #   Column                  Non-Null Count  Dtype  \n",
      "---  ------                  --------------  -----  \n",
      " 0   enrollee_id             15326 non-null  int64  \n",
      " 1   city_development_index  15326 non-null  float64\n",
      " 2   gender                  11752 non-null  object \n",
      " 3   relevent_experience     15326 non-null  object \n",
      " 4   enrolled_university     15009 non-null  object \n",
      " 5   education_level         14964 non-null  object \n",
      " 6   major_discipline        13068 non-null  object \n",
      " 7   experience              15276 non-null  object \n",
      " 8   company_size            10612 non-null  object \n",
      " 9   company_type            10445 non-null  object \n",
      " 10  last_new_job            14983 non-null  object \n",
      " 11  training_hours          15326 non-null  int64  \n",
      "dtypes: float64(1), int64(2), object(9)\n",
      "memory usage: 1.4+ MB\n"
     ]
    }
   ],
   "source": [
    "# x data information 보기\n",
    "x_data.info()"
   ]
  },
  {
   "cell_type": "code",
   "execution_count": 5,
   "id": "remarkable-separate",
   "metadata": {
    "execution": {
     "iopub.execute_input": "2021-04-19T12:54:23.919113Z",
     "iopub.status.busy": "2021-04-19T12:54:23.918506Z",
     "iopub.status.idle": "2021-04-19T12:54:24.950178Z",
     "shell.execute_reply": "2021-04-19T12:54:24.949554Z"
    },
    "papermill": {
     "duration": 1.04492,
     "end_time": "2021-04-19T12:54:24.950330",
     "exception": false,
     "start_time": "2021-04-19T12:54:23.905410",
     "status": "completed"
    },
    "tags": []
   },
   "outputs": [],
   "source": [
    "# object형식인 것들을 labelencoder로 실수화 해줌\n",
    "from sklearn.preprocessing import LabelEncoder\n",
    "le = LabelEncoder() \n",
    "\n",
    "x_data['gender'] = le.fit_transform(x_data['gender'])\n",
    "test_data['gender'] = le.transform(test_data['gender'])\n",
    "\n",
    "x_data['relevent_experience'] = le.fit_transform(x_data['relevent_experience'])\n",
    "test_data['relevent_experience'] = le.transform(test_data['relevent_experience'])\n",
    "\n",
    "x_data['enrolled_university'] = le.fit_transform(x_data['enrolled_university'])\n",
    "test_data['enrolled_university'] = le.transform(test_data['enrolled_university'])\n",
    "\n",
    "x_data['education_level'] = le.fit_transform(x_data['education_level'])\n",
    "test_data['education_level'] = le.transform(test_data['education_level'])\n",
    "\n",
    "x_data['major_discipline'] = le.fit_transform(x_data['major_discipline'])\n",
    "test_data['major_discipline'] = le.transform(test_data['major_discipline'])\n",
    "\n",
    "x_data['experience'] = le.fit_transform(x_data['experience'])\n",
    "test_data['experience'] = le.transform(test_data['experience'])\n",
    "\n",
    "x_data['company_size'] = le.fit_transform(x_data['company_size'])\n",
    "test_data['company_size'] = le.transform(test_data['company_size'])\n",
    "\n",
    "x_data['last_new_job'] = le.fit_transform(x_data['last_new_job'])\n",
    "test_data['last_new_job'] = le.transform(test_data['last_new_job'])\n",
    "\n",
    "x_data['company_type'] = le.fit_transform(x_data['company_type'])\n",
    "test_data['company_type'] = le.transform(test_data['company_type'])\n"
   ]
  },
  {
   "cell_type": "code",
   "execution_count": 6,
   "id": "hispanic-ambassador",
   "metadata": {
    "execution": {
     "iopub.execute_input": "2021-04-19T12:54:24.980019Z",
     "iopub.status.busy": "2021-04-19T12:54:24.979367Z",
     "iopub.status.idle": "2021-04-19T12:54:24.993457Z",
     "shell.execute_reply": "2021-04-19T12:54:24.993910Z"
    },
    "papermill": {
     "duration": 0.032318,
     "end_time": "2021-04-19T12:54:24.994111",
     "exception": false,
     "start_time": "2021-04-19T12:54:24.961793",
     "status": "completed"
    },
    "tags": []
   },
   "outputs": [],
   "source": [
    "# 데이터를 보고 표준화가 필요한 것 같다고 판단하여 scaler 사용 - data preprocessing\n",
    "from sklearn.preprocessing import StandardScaler\n",
    "scaler2 = StandardScaler()\n",
    "x_data_std = scaler2.fit_transform(x_data)\n",
    "test_data_std = scaler2.transform(test_data)"
   ]
  },
  {
   "cell_type": "code",
   "execution_count": 7,
   "id": "mathematical-works",
   "metadata": {
    "execution": {
     "iopub.execute_input": "2021-04-19T12:54:25.021191Z",
     "iopub.status.busy": "2021-04-19T12:54:25.020590Z",
     "iopub.status.idle": "2021-04-19T12:54:25.203265Z",
     "shell.execute_reply": "2021-04-19T12:54:25.204079Z"
    },
    "papermill": {
     "duration": 0.199027,
     "end_time": "2021-04-19T12:54:25.204337",
     "exception": false,
     "start_time": "2021-04-19T12:54:25.005310",
     "status": "completed"
    },
    "tags": []
   },
   "outputs": [
    {
     "name": "stdout",
     "output_type": "stream",
     "text": [
      "0.7669972595589195\n"
     ]
    }
   ],
   "source": [
    "# logistic regression\n",
    "from sklearn.linear_model import LogisticRegression\n",
    "lgt = LogisticRegression(C = 0.1, max_iter = 1000)\n",
    "lgt.fit(x_data_std, y_data)\n",
    "print(lgt.score(x_data_std, y_data))"
   ]
  },
  {
   "cell_type": "code",
   "execution_count": 8,
   "id": "frozen-report",
   "metadata": {
    "execution": {
     "iopub.execute_input": "2021-04-19T12:54:25.252550Z",
     "iopub.status.busy": "2021-04-19T12:54:25.251469Z",
     "iopub.status.idle": "2021-04-19T12:54:25.357159Z",
     "shell.execute_reply": "2021-04-19T12:54:25.358582Z"
    },
    "papermill": {
     "duration": 0.134658,
     "end_time": "2021-04-19T12:54:25.359014",
     "exception": false,
     "start_time": "2021-04-19T12:54:25.224356",
     "status": "completed"
    },
    "tags": []
   },
   "outputs": [
    {
     "name": "stdout",
     "output_type": "stream",
     "text": [
      "0.7677802427247814\n"
     ]
    }
   ],
   "source": [
    "# lda\n",
    "from sklearn.discriminant_analysis import LinearDiscriminantAnalysis\n",
    "lda = LinearDiscriminantAnalysis()\n",
    "lda.fit(x_data_std, y_data)\n",
    "print(lda.score(x_data_std, y_data))"
   ]
  },
  {
   "cell_type": "code",
   "execution_count": 9,
   "id": "ethical-assurance",
   "metadata": {
    "execution": {
     "iopub.execute_input": "2021-04-19T12:54:25.464289Z",
     "iopub.status.busy": "2021-04-19T12:54:25.463660Z",
     "iopub.status.idle": "2021-04-19T12:54:25.502924Z",
     "shell.execute_reply": "2021-04-19T12:54:25.504616Z"
    },
    "papermill": {
     "duration": 0.09873,
     "end_time": "2021-04-19T12:54:25.505046",
     "exception": false,
     "start_time": "2021-04-19T12:54:25.406316",
     "status": "completed"
    },
    "tags": []
   },
   "outputs": [
    {
     "name": "stdout",
     "output_type": "stream",
     "text": [
      "0.7694767062508157\n"
     ]
    }
   ],
   "source": [
    "# qda\n",
    "from sklearn.discriminant_analysis import QuadraticDiscriminantAnalysis\n",
    "qda = QuadraticDiscriminantAnalysis()\n",
    "qda.fit(x_data_std, y_data)\n",
    "print(qda.score(x_data_std, y_data))"
   ]
  },
  {
   "cell_type": "code",
   "execution_count": 10,
   "id": "traditional-enemy",
   "metadata": {
    "execution": {
     "iopub.execute_input": "2021-04-19T12:54:25.557525Z",
     "iopub.status.busy": "2021-04-19T12:54:25.556461Z",
     "iopub.status.idle": "2021-04-19T12:54:25.585171Z",
     "shell.execute_reply": "2021-04-19T12:54:25.586096Z"
    },
    "papermill": {
     "duration": 0.059052,
     "end_time": "2021-04-19T12:54:25.586365",
     "exception": false,
     "start_time": "2021-04-19T12:54:25.527313",
     "status": "completed"
    },
    "tags": []
   },
   "outputs": [],
   "source": [
    "# pred & submit\n",
    "pred_qda = qda.predict(test_data_std)\n",
    "submit['target'] = pred_qda\n",
    "submit.to_csv('submit_qda.csv',index = False)"
   ]
  },
  {
   "cell_type": "code",
   "execution_count": 11,
   "id": "dirty-albuquerque",
   "metadata": {
    "execution": {
     "iopub.execute_input": "2021-04-19T12:54:25.639345Z",
     "iopub.status.busy": "2021-04-19T12:54:25.638196Z",
     "iopub.status.idle": "2021-04-19T12:54:25.640739Z",
     "shell.execute_reply": "2021-04-19T12:54:25.641713Z"
    },
    "papermill": {
     "duration": 0.033349,
     "end_time": "2021-04-19T12:54:25.641963",
     "exception": false,
     "start_time": "2021-04-19T12:54:25.608614",
     "status": "completed"
    },
    "tags": []
   },
   "outputs": [],
   "source": [
    "# 먼저 데이터를 로드 한 후 x, y, test 데이터로 나눠주고 index가 필요없다고 생각하여 index를 드랍하였다.\n",
    "# 또한 object형이 너무많아서 object를 모두 실수화 해주었다. city index또한 중요하지 않다고 판단하여 드랍했다. 또한 데이터를 분포를 보니 전처리가 필요할 것 같아 표준화를 해주었다\n",
    "# y데이터를 보니 범주형 데이터라 분류 문제라 판단하였고 분류 3개의 모델을 각각 학습해보고 예상 점수를  구해본 결과 qda가 가장 높게 나와 qda를선택했다."
   ]
  },
  {
   "cell_type": "code",
   "execution_count": null,
   "id": "conscious-nerve",
   "metadata": {
    "papermill": {
     "duration": 0.019188,
     "end_time": "2021-04-19T12:54:25.683782",
     "exception": false,
     "start_time": "2021-04-19T12:54:25.664594",
     "status": "completed"
    },
    "tags": []
   },
   "outputs": [],
   "source": []
  }
 ],
 "metadata": {
  "kernelspec": {
   "display_name": "Python 3",
   "language": "python",
   "name": "python3"
  },
  "language_info": {
   "codemirror_mode": {
    "name": "ipython",
    "version": 3
   },
   "file_extension": ".py",
   "mimetype": "text/x-python",
   "name": "python",
   "nbconvert_exporter": "python",
   "pygments_lexer": "ipython3",
   "version": "3.7.9"
  },
  "papermill": {
   "default_parameters": {},
   "duration": 8.52892,
   "end_time": "2021-04-19T12:54:26.305301",
   "environment_variables": {},
   "exception": null,
   "input_path": "__notebook__.ipynb",
   "output_path": "__notebook__.ipynb",
   "parameters": {},
   "start_time": "2021-04-19T12:54:17.776381",
   "version": "2.3.2"
  }
 },
 "nbformat": 4,
 "nbformat_minor": 5
}
