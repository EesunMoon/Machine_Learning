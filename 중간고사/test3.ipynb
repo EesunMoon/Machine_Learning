{
 "cells": [
  {
   "cell_type": "code",
   "execution_count": 1,
   "id": "willing-imagination",
   "metadata": {
    "_cell_guid": "b1076dfc-b9ad-4769-8c92-a6c4dae69d19",
    "_uuid": "8f2839f25d086af736a60e9eeb907d3b93b6e0e5",
    "execution": {
     "iopub.execute_input": "2021-04-19T12:07:07.410706Z",
     "iopub.status.busy": "2021-04-19T12:07:07.410095Z",
     "iopub.status.idle": "2021-04-19T12:07:07.415259Z",
     "shell.execute_reply": "2021-04-19T12:07:07.416081Z"
    },
    "papermill": {
     "duration": 0.019935,
     "end_time": "2021-04-19T12:07:07.416523",
     "exception": false,
     "start_time": "2021-04-19T12:07:07.396588",
     "status": "completed"
    },
    "tags": []
   },
   "outputs": [
    {
     "name": "stdout",
     "output_type": "stream",
     "text": [
      "/kaggle/input/2021-ml-midterm-p3/train.csv\n",
      "/kaggle/input/2021-ml-midterm-p3/test.csv\n",
      "/kaggle/input/2021-ml-midterm-p3/sample_submit.csv\n"
     ]
    }
   ],
   "source": [
    "# This Python 3 environment comes with many helpful analytics libraries installed\n",
    "# It is defined by the kaggle/python Docker image: https://github.com/kaggle/docker-python\n",
    "# For example, here's several helpful packages to load\n",
    "\n",
    "import numpy as np # linear algebra\n",
    "import pandas as pd # data processing, CSV file I/O (e.g. pd.read_csv)\n",
    "\n",
    "# Input data files are available in the read-only \"../input/\" directory\n",
    "# For example, running this (by clicking run or pressing Shift+Enter) will list all files under the input directory\n",
    "\n",
    "import os\n",
    "for dirname, _, filenames in os.walk('/kaggle/input'):\n",
    "    for filename in filenames:\n",
    "        print(os.path.join(dirname, filename))\n",
    "\n",
    "# You can write up to 20GB to the current directory (/kaggle/working/) that gets preserved as output when you create a version using \"Save & Run All\" \n",
    "# You can also write temporary files to /kaggle/temp/, but they won't be saved outside of the current session"
   ]
  },
  {
   "cell_type": "code",
   "execution_count": 2,
   "id": "continued-might",
   "metadata": {
    "execution": {
     "iopub.execute_input": "2021-04-19T12:07:07.438151Z",
     "iopub.status.busy": "2021-04-19T12:07:07.437562Z",
     "iopub.status.idle": "2021-04-19T12:07:07.533929Z",
     "shell.execute_reply": "2021-04-19T12:07:07.533206Z"
    },
    "papermill": {
     "duration": 0.108301,
     "end_time": "2021-04-19T12:07:07.534092",
     "exception": false,
     "start_time": "2021-04-19T12:07:07.425791",
     "status": "completed"
    },
    "tags": []
   },
   "outputs": [
    {
     "name": "stdout",
     "output_type": "stream",
     "text": [
      "   index  0  1  2   3   4   5  6  7  8  ...  55  56  57  58  59  60  61  62  \\\n",
      "0      0  0  0  5  13   9   1  0  0  0  ...   0   0   0   6  13  10   0   0   \n",
      "1      1  0  0  0  12  13   5  0  0  0  ...   0   0   0   0  11  16  10   0   \n",
      "2      2  0  0  0   4  15  12  0  0  0  ...   0   0   0   0   3  11  16   9   \n",
      "3      3  0  0  7  15  13   1  0  0  0  ...   0   0   0   7  13  13   9   0   \n",
      "4      4  0  0  0   1  11   0  0  0  0  ...   0   0   0   0   2  16   4   0   \n",
      "\n",
      "   63  label  \n",
      "0   0      0  \n",
      "1   0      1  \n",
      "2   0      2  \n",
      "3   0      3  \n",
      "4   0      4  \n",
      "\n",
      "[5 rows x 66 columns]\n",
      "   index    0    1     2     3     4     5     6    7    8  ...    54   55  \\\n",
      "0     23  0.0  1.0   8.0  12.0  15.0  14.0   4.0  0.0  0.0  ...   0.0  0.0   \n",
      "1     29  0.0  0.0   9.0  13.0   7.0   0.0   0.0  0.0  0.0  ...  16.0  2.0   \n",
      "2     30  0.0  0.0  10.0  14.0  11.0   3.0   0.0  0.0  0.0  ...   0.0  0.0   \n",
      "3     32  0.0  2.0  13.0  16.0  16.0  16.0  11.0  0.0  0.0  ...   0.0  0.0   \n",
      "4     44  0.0  0.0   9.0  16.0  16.0  16.0   5.0  0.0  0.0  ...   0.0  0.0   \n",
      "\n",
      "    56   57    58    59    60    61    62   63  \n",
      "0  0.0  0.0  14.0  15.0  11.0   2.0   0.0  0.0  \n",
      "1  0.0  0.0   7.0  12.0  12.0  12.0  11.0  0.0  \n",
      "2  0.0  0.0  11.0  16.0  12.0   3.0   0.0  0.0  \n",
      "3  0.0  2.0  16.0  15.0   8.0   0.0   0.0  0.0  \n",
      "4  0.0  0.0  13.0  10.0   0.0   0.0   0.0  0.0  \n",
      "\n",
      "[5 rows x 65 columns]\n"
     ]
    }
   ],
   "source": [
    "# train, test, submit data 불러오기\n",
    "train_data = pd.read_csv('/kaggle/input/2021-ml-midterm-p3/train.csv')\n",
    "test_data = pd.read_csv('/kaggle/input/2021-ml-midterm-p3/test.csv')\n",
    "submit = pd.read_csv('/kaggle/input/2021-ml-midterm-p3/sample_submit.csv')\n",
    "\n",
    "print(train_data.head())\n",
    "print(test_data.head())"
   ]
  },
  {
   "cell_type": "code",
   "execution_count": 3,
   "id": "married-jones",
   "metadata": {
    "execution": {
     "iopub.execute_input": "2021-04-19T12:07:07.560375Z",
     "iopub.status.busy": "2021-04-19T12:07:07.559562Z",
     "iopub.status.idle": "2021-04-19T12:07:07.565613Z",
     "shell.execute_reply": "2021-04-19T12:07:07.564373Z"
    },
    "papermill": {
     "duration": 0.022149,
     "end_time": "2021-04-19T12:07:07.565797",
     "exception": false,
     "start_time": "2021-04-19T12:07:07.543648",
     "status": "completed"
    },
    "tags": []
   },
   "outputs": [],
   "source": [
    "# index와 0이 학습하는데 필요 없는 인덱스라고 판단하여 버리고, train data의 label값은 y데이터이므로 드랍\n",
    "# x, y, test데이터 나누기\n",
    "x_data = train_data.drop(['index', 'label', '0'], axis = 1)\n",
    "y_data = train_data['label']\n",
    "test_data = test_data.drop(['index', '0'], axis = 1)"
   ]
  },
  {
   "cell_type": "code",
   "execution_count": 4,
   "id": "worthy-firmware",
   "metadata": {
    "execution": {
     "iopub.execute_input": "2021-04-19T12:07:07.587494Z",
     "iopub.status.busy": "2021-04-19T12:07:07.586777Z",
     "iopub.status.idle": "2021-04-19T12:07:08.693006Z",
     "shell.execute_reply": "2021-04-19T12:07:08.692491Z"
    },
    "papermill": {
     "duration": 1.1196,
     "end_time": "2021-04-19T12:07:08.693157",
     "exception": false,
     "start_time": "2021-04-19T12:07:07.573557",
     "status": "completed"
    },
    "tags": []
   },
   "outputs": [],
   "source": [
    "# 데이터를 보니까 정규화가 필요한 것 같다고 판단하여 scaler 사용\n",
    "from sklearn.preprocessing import MinMaxScaler\n",
    "scaler2 = MinMaxScaler()\n",
    "x_data_mn = scaler2.fit_transform(x_data)\n",
    "test_data_mn = scaler2.transform(test_data)"
   ]
  },
  {
   "cell_type": "code",
   "execution_count": 5,
   "id": "alike-mississippi",
   "metadata": {
    "execution": {
     "iopub.execute_input": "2021-04-19T12:07:08.717023Z",
     "iopub.status.busy": "2021-04-19T12:07:08.716370Z",
     "iopub.status.idle": "2021-04-19T12:07:08.720508Z",
     "shell.execute_reply": "2021-04-19T12:07:08.720930Z"
    },
    "papermill": {
     "duration": 0.020095,
     "end_time": "2021-04-19T12:07:08.721113",
     "exception": false,
     "start_time": "2021-04-19T12:07:08.701018",
     "status": "completed"
    },
    "tags": []
   },
   "outputs": [
    {
     "data": {
      "text/plain": [
       "0       0\n",
       "1       1\n",
       "2       2\n",
       "3       3\n",
       "4       4\n",
       "       ..\n",
       "1432    9\n",
       "1433    0\n",
       "1434    8\n",
       "1435    9\n",
       "1436    8\n",
       "Name: label, Length: 1437, dtype: int64"
      ]
     },
     "execution_count": 5,
     "metadata": {},
     "output_type": "execute_result"
    }
   ],
   "source": [
    "# y_data를 판단해보니 범주형 데이터이므로 분류 방법 사용\n",
    "y_data"
   ]
  },
  {
   "cell_type": "code",
   "execution_count": 6,
   "id": "continued-passage",
   "metadata": {
    "execution": {
     "iopub.execute_input": "2021-04-19T12:07:08.742425Z",
     "iopub.status.busy": "2021-04-19T12:07:08.741737Z",
     "iopub.status.idle": "2021-04-19T12:07:09.091199Z",
     "shell.execute_reply": "2021-04-19T12:07:09.092634Z"
    },
    "papermill": {
     "duration": 0.363807,
     "end_time": "2021-04-19T12:07:09.093096",
     "exception": false,
     "start_time": "2021-04-19T12:07:08.729289",
     "status": "completed"
    },
    "tags": []
   },
   "outputs": [
    {
     "name": "stdout",
     "output_type": "stream",
     "text": [
      "1.0\n"
     ]
    }
   ],
   "source": [
    "# knn 분류 시행 - 하이퍼파라미터는 거리에 가중치를 부여하고,주변 7개의 관측치 사용\n",
    "from sklearn.neighbors import KNeighborsClassifier\n",
    "knn = KNeighborsClassifier(weights = 'distance', n_neighbors = 7)\n",
    "knn.fit(x_data_mn, y_data)\n",
    "print(knn.score(x_data_mn, y_data))"
   ]
  },
  {
   "cell_type": "code",
   "execution_count": 7,
   "id": "soviet-maine",
   "metadata": {
    "execution": {
     "iopub.execute_input": "2021-04-19T12:07:09.130889Z",
     "iopub.status.busy": "2021-04-19T12:07:09.130103Z",
     "iopub.status.idle": "2021-04-19T12:07:09.601449Z",
     "shell.execute_reply": "2021-04-19T12:07:09.602503Z"
    },
    "papermill": {
     "duration": 0.492155,
     "end_time": "2021-04-19T12:07:09.602791",
     "exception": false,
     "start_time": "2021-04-19T12:07:09.110636",
     "status": "completed"
    },
    "tags": []
   },
   "outputs": [
    {
     "name": "stdout",
     "output_type": "stream",
     "text": [
      "0.9874739039665971\n"
     ]
    }
   ],
   "source": [
    "# 로지스틱 회귀 모델 사용\n",
    "from sklearn.linear_model import LogisticRegression\n",
    "lgt = LogisticRegression(solver = 'sag', max_iter = 500)\n",
    "lgt.fit(x_data_mn, y_data)\n",
    "print(lgt.score(x_data_mn, y_data))"
   ]
  },
  {
   "cell_type": "code",
   "execution_count": 8,
   "id": "permanent-clear",
   "metadata": {
    "execution": {
     "iopub.execute_input": "2021-04-19T12:07:09.646568Z",
     "iopub.status.busy": "2021-04-19T12:07:09.645545Z",
     "iopub.status.idle": "2021-04-19T12:07:09.732202Z",
     "shell.execute_reply": "2021-04-19T12:07:09.732949Z"
    },
    "papermill": {
     "duration": 0.113927,
     "end_time": "2021-04-19T12:07:09.733256",
     "exception": false,
     "start_time": "2021-04-19T12:07:09.619329",
     "status": "completed"
    },
    "tags": []
   },
   "outputs": [
    {
     "name": "stdout",
     "output_type": "stream",
     "text": [
      "0.9693806541405706\n"
     ]
    }
   ],
   "source": [
    "# 선형판별분석 모델 사용\n",
    "from sklearn.discriminant_analysis import LinearDiscriminantAnalysis\n",
    "lda = LinearDiscriminantAnalysis()\n",
    "lda.fit(x_data_mn, y_data)\n",
    "print(lda.score(x_data_mn, y_data))"
   ]
  },
  {
   "cell_type": "code",
   "execution_count": 9,
   "id": "first-diesel",
   "metadata": {
    "execution": {
     "iopub.execute_input": "2021-04-19T12:07:09.826401Z",
     "iopub.status.busy": "2021-04-19T12:07:09.825358Z",
     "iopub.status.idle": "2021-04-19T12:07:09.860815Z",
     "shell.execute_reply": "2021-04-19T12:07:09.861656Z"
    },
    "papermill": {
     "duration": 0.095041,
     "end_time": "2021-04-19T12:07:09.861932",
     "exception": false,
     "start_time": "2021-04-19T12:07:09.766891",
     "status": "completed"
    },
    "tags": []
   },
   "outputs": [],
   "source": [
    "# 각각 모델의 score을 보니 knn이 가장 뛰어나다고 판단하여 knn으로 제출\n",
    "pred_knn = knn.predict(test_data_mn)\n",
    "submit['label'] = pred_knn\n",
    "submit.to_csv('submit_knn.csv', index = False)"
   ]
  },
  {
   "cell_type": "code",
   "execution_count": 10,
   "id": "loose-compilation",
   "metadata": {
    "execution": {
     "iopub.execute_input": "2021-04-19T12:07:09.906369Z",
     "iopub.status.busy": "2021-04-19T12:07:09.905272Z",
     "iopub.status.idle": "2021-04-19T12:07:09.907403Z",
     "shell.execute_reply": "2021-04-19T12:07:09.908354Z"
    },
    "papermill": {
     "duration": 0.02858,
     "end_time": "2021-04-19T12:07:09.908984",
     "exception": false,
     "start_time": "2021-04-19T12:07:09.880404",
     "status": "completed"
    },
    "tags": []
   },
   "outputs": [],
   "source": [
    "# 실험결과\n",
    "# y데이터의 값을 보고 분류라고 판단하였고, 분류 문제에 대해 풀기 위해 분류 기계학습 모델을 사용하여 예측점수를 비교해본 결과\n",
    "# knn이 가장 뛰어냤음. 데이터 전처리 과정에서는 데이터의 분포를 보니까 0걊이 많았고, 이 때문에 minmax스케일러를 사용햐여 전처리 해줌\n",
    "# 또한 0인덱스와 Index인덱스가 학습과정에서 별로 필요없다고 판단하여 드랍시킵"
   ]
  },
  {
   "cell_type": "code",
   "execution_count": null,
   "id": "mediterranean-ambassador",
   "metadata": {
    "papermill": {
     "duration": 0.019524,
     "end_time": "2021-04-19T12:07:09.948563",
     "exception": false,
     "start_time": "2021-04-19T12:07:09.929039",
     "status": "completed"
    },
    "tags": []
   },
   "outputs": [],
   "source": []
  }
 ],
 "metadata": {
  "kernelspec": {
   "display_name": "Python 3",
   "language": "python",
   "name": "python3"
  },
  "language_info": {
   "codemirror_mode": {
    "name": "ipython",
    "version": 3
   },
   "file_extension": ".py",
   "mimetype": "text/x-python",
   "name": "python",
   "nbconvert_exporter": "python",
   "pygments_lexer": "ipython3",
   "version": "3.7.9"
  },
  "papermill": {
   "default_parameters": {},
   "duration": 9.35463,
   "end_time": "2021-04-19T12:07:10.669047",
   "environment_variables": {},
   "exception": null,
   "input_path": "__notebook__.ipynb",
   "output_path": "__notebook__.ipynb",
   "parameters": {},
   "start_time": "2021-04-19T12:07:01.314417",
   "version": "2.3.2"
  }
 },
 "nbformat": 4,
 "nbformat_minor": 5
}
