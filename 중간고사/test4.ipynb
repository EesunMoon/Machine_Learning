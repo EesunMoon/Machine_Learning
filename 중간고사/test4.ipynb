{
 "cells": [
  {
   "cell_type": "code",
   "execution_count": 1,
   "id": "foreign-mandate",
   "metadata": {
    "_cell_guid": "b1076dfc-b9ad-4769-8c92-a6c4dae69d19",
    "_uuid": "8f2839f25d086af736a60e9eeb907d3b93b6e0e5",
    "execution": {
     "iopub.execute_input": "2021-04-19T12:43:51.146051Z",
     "iopub.status.busy": "2021-04-19T12:43:51.144836Z",
     "iopub.status.idle": "2021-04-19T12:43:51.154489Z",
     "shell.execute_reply": "2021-04-19T12:43:51.155183Z"
    },
    "papermill": {
     "duration": 0.022028,
     "end_time": "2021-04-19T12:43:51.155571",
     "exception": false,
     "start_time": "2021-04-19T12:43:51.133543",
     "status": "completed"
    },
    "tags": []
   },
   "outputs": [
    {
     "name": "stdout",
     "output_type": "stream",
     "text": [
      "/kaggle/input/2021-ml-midterm-p4/test_update.csv\n",
      "/kaggle/input/2021-ml-midterm-p4/train.csv\n",
      "/kaggle/input/2021-ml-midterm-p4/train_update.csv\n",
      "/kaggle/input/2021-ml-midterm-p4/test.csv\n",
      "/kaggle/input/2021-ml-midterm-p4/sample_submit.csv\n"
     ]
    }
   ],
   "source": [
    "# This Python 3 environment comes with many helpful analytics libraries installed\n",
    "# It is defined by the kaggle/python Docker image: https://github.com/kaggle/docker-python\n",
    "# For example, here's several helpful packages to load\n",
    "\n",
    "import numpy as np # linear algebra\n",
    "import pandas as pd # data processing, CSV file I/O (e.g. pd.read_csv)\n",
    "\n",
    "# Input data files are available in the read-only \"../input/\" directory\n",
    "# For example, running this (by clicking run or pressing Shift+Enter) will list all files under the input directory\n",
    "\n",
    "import os\n",
    "for dirname, _, filenames in os.walk('/kaggle/input'):\n",
    "    for filename in filenames:\n",
    "        print(os.path.join(dirname, filename))\n",
    "\n",
    "# You can write up to 20GB to the current directory (/kaggle/working/) that gets preserved as output when you create a version using \"Save & Run All\" \n",
    "# You can also write temporary files to /kaggle/temp/, but they won't be saved outside of the current session"
   ]
  },
  {
   "cell_type": "code",
   "execution_count": 2,
   "id": "smaller-paste",
   "metadata": {
    "execution": {
     "iopub.execute_input": "2021-04-19T12:43:51.178165Z",
     "iopub.status.busy": "2021-04-19T12:43:51.177401Z",
     "iopub.status.idle": "2021-04-19T12:43:51.238768Z",
     "shell.execute_reply": "2021-04-19T12:43:51.238142Z"
    },
    "papermill": {
     "duration": 0.074575,
     "end_time": "2021-04-19T12:43:51.238918",
     "exception": false,
     "start_time": "2021-04-19T12:43:51.164343",
     "status": "completed"
    },
    "tags": []
   },
   "outputs": [
    {
     "name": "stdout",
     "output_type": "stream",
     "text": [
      "   index         a     b      c  d      e      f     g       h   i    j     k  \\\n",
      "0      0   0.14150   0.0   6.91  0  0.448  6.169   6.6  5.7209   3  233  17.9   \n",
      "1      1   0.15445  25.0   5.13  0  0.453  6.145  29.2  7.8148   8  284  19.7   \n",
      "2      2  16.81180   0.0  18.10  0  0.700  5.277  98.1  1.4261  24  666  20.2   \n",
      "3      3   0.05646   0.0  12.83  0  0.437  6.232  53.7  5.0141   5  398  18.7   \n",
      "4      4   8.79212   0.0  18.10  0  0.584  5.565  70.6  2.0635  24  666  20.2   \n",
      "\n",
      "        l      m  price  \n",
      "0  383.37   5.81   25.3  \n",
      "1  390.68   6.86   23.3  \n",
      "2  396.90  30.81    7.2  \n",
      "3  386.40  12.34   21.2  \n",
      "4    3.65  17.16   11.7  \n",
      "   index        a     b      c  d      e      f     g       h   i    j     k  \\\n",
      "0      0  0.04932  33.0   2.18  0  0.472  6.849  70.3  3.1827   7  222  18.4   \n",
      "1      1  0.02543  55.0   3.78  0  0.484  6.696  56.4  5.7321   5  370  17.6   \n",
      "2      2  0.22927   0.0   6.91  0  0.448  6.030  85.5  5.6894   3  233  17.9   \n",
      "3      3  0.05789  12.5   6.07  0  0.409  5.878  21.4  6.4980   4  345  18.9   \n",
      "4      4  3.67822   0.0  18.10  0  0.770  5.362  96.2  2.1036  24  666  20.2   \n",
      "\n",
      "        l      m  \n",
      "0  396.90   7.53  \n",
      "1  396.90   7.18  \n",
      "2  392.74  18.80  \n",
      "3  396.21   8.10  \n",
      "4  380.79  10.19  \n"
     ]
    }
   ],
   "source": [
    "# data load\n",
    "train_data = pd.read_csv('/kaggle/input/2021-ml-midterm-p4/train_update.csv')\n",
    "test_data = pd.read_csv('/kaggle/input/2021-ml-midterm-p4/test_update.csv')\n",
    "submit = pd.read_csv('/kaggle/input/2021-ml-midterm-p4/sample_submit.csv')\n",
    "\n",
    "print(train_data.head())\n",
    "print(test_data.head())"
   ]
  },
  {
   "cell_type": "code",
   "execution_count": 3,
   "id": "laden-contract",
   "metadata": {
    "execution": {
     "iopub.execute_input": "2021-04-19T12:43:51.258638Z",
     "iopub.status.busy": "2021-04-19T12:43:51.257914Z",
     "iopub.status.idle": "2021-04-19T12:43:51.279703Z",
     "shell.execute_reply": "2021-04-19T12:43:51.280275Z"
    },
    "papermill": {
     "duration": 0.033499,
     "end_time": "2021-04-19T12:43:51.280468",
     "exception": false,
     "start_time": "2021-04-19T12:43:51.246969",
     "status": "completed"
    },
    "tags": []
   },
   "outputs": [
    {
     "name": "stdout",
     "output_type": "stream",
     "text": [
      "<class 'pandas.core.frame.DataFrame'>\n",
      "RangeIndex: 404 entries, 0 to 403\n",
      "Data columns (total 13 columns):\n",
      " #   Column  Non-Null Count  Dtype  \n",
      "---  ------  --------------  -----  \n",
      " 0   a       404 non-null    float64\n",
      " 1   b       404 non-null    float64\n",
      " 2   c       404 non-null    float64\n",
      " 3   d       404 non-null    int64  \n",
      " 4   e       404 non-null    float64\n",
      " 5   f       404 non-null    float64\n",
      " 6   g       404 non-null    float64\n",
      " 7   h       404 non-null    float64\n",
      " 8   i       404 non-null    int64  \n",
      " 9   j       404 non-null    int64  \n",
      " 10  k       404 non-null    float64\n",
      " 11  l       404 non-null    float64\n",
      " 12  m       404 non-null    float64\n",
      "dtypes: float64(10), int64(3)\n",
      "memory usage: 41.2 KB\n",
      "None\n"
     ]
    }
   ],
   "source": [
    "# x, y, test 데이터로 불러온 데이터 나누기 - price는 x값, index는 학습에 필요없다고 생각하여 드랍\n",
    "x_data = train_data.drop(['index', 'price'], axis = 1)\n",
    "y_data = train_data['price']\n",
    "test_data = test_data.drop(['index'], axis = 1)\n",
    "\n",
    "print(x_data.info())"
   ]
  },
  {
   "cell_type": "code",
   "execution_count": 4,
   "id": "ordinary-deviation",
   "metadata": {
    "execution": {
     "iopub.execute_input": "2021-04-19T12:43:51.300889Z",
     "iopub.status.busy": "2021-04-19T12:43:51.300043Z",
     "iopub.status.idle": "2021-04-19T12:43:52.435106Z",
     "shell.execute_reply": "2021-04-19T12:43:52.435594Z"
    },
    "papermill": {
     "duration": 1.14687,
     "end_time": "2021-04-19T12:43:52.435826",
     "exception": false,
     "start_time": "2021-04-19T12:43:51.288956",
     "status": "completed"
    },
    "tags": []
   },
   "outputs": [],
   "source": [
    "# 데이터 전처리\n",
    "from sklearn.preprocessing import StandardScaler\n",
    "scaler2 = StandardScaler()\n",
    "x_data_mn = scaler2.fit_transform(x_data)\n",
    "test_data_mn = scaler2.transform(test_data)"
   ]
  },
  {
   "cell_type": "code",
   "execution_count": 5,
   "id": "connected-harris",
   "metadata": {
    "execution": {
     "iopub.execute_input": "2021-04-19T12:43:52.459074Z",
     "iopub.status.busy": "2021-04-19T12:43:52.458304Z",
     "iopub.status.idle": "2021-04-19T12:43:52.726873Z",
     "shell.execute_reply": "2021-04-19T12:43:52.726155Z"
    },
    "papermill": {
     "duration": 0.282528,
     "end_time": "2021-04-19T12:43:52.727021",
     "exception": false,
     "start_time": "2021-04-19T12:43:52.444493",
     "status": "completed"
    },
    "tags": []
   },
   "outputs": [
    {
     "name": "stdout",
     "output_type": "stream",
     "text": [
      "1.0\n"
     ]
    }
   ],
   "source": [
    "# regression - 특정 값을 예측하는 것이므로 회귀\n",
    "from sklearn.neighbors import KNeighborsRegressor\n",
    "knn1 = KNeighborsRegressor(weights = 'distance', p = 1, n_neighbors = 7)\n",
    "knn1.fit(x_data_mn, y_data)\n",
    "print(knn1.score(x_data_mn, y_data))"
   ]
  },
  {
   "cell_type": "code",
   "execution_count": 6,
   "id": "human-movie",
   "metadata": {
    "execution": {
     "iopub.execute_input": "2021-04-19T12:43:52.751342Z",
     "iopub.status.busy": "2021-04-19T12:43:52.750634Z",
     "iopub.status.idle": "2021-04-19T12:43:52.763585Z",
     "shell.execute_reply": "2021-04-19T12:43:52.762874Z"
    },
    "papermill": {
     "duration": 0.027582,
     "end_time": "2021-04-19T12:43:52.763766",
     "exception": false,
     "start_time": "2021-04-19T12:43:52.736184",
     "status": "completed"
    },
    "tags": []
   },
   "outputs": [
    {
     "data": {
      "text/plain": [
       "array([29.61318168, 25.16416011, 19.55285326, 21.54247845, 20.02811645,\n",
       "       18.51658104, 28.639016  , 17.13058707, 21.97340044, 25.51988672,\n",
       "       22.74179841, 32.13561375, 20.1383984 , 21.8223257 , 20.6911817 ,\n",
       "       22.46564569, 11.30921412, 36.23400443, 30.09382952, 14.15758221,\n",
       "       20.22621563, 16.87706661, 22.65760933, 22.30037013, 25.91029981,\n",
       "        9.52658817, 13.90194395, 20.74009653, 35.27034565, 12.39194934,\n",
       "       23.36660097, 19.48653375, 45.34684648, 15.36792256, 21.32442315,\n",
       "       20.42125791, 16.14172756, 33.60017993, 10.20417661, 21.03518248,\n",
       "       23.30427276, 21.31231713, 28.41845853, 16.56436862, 15.49875035,\n",
       "       11.02024433, 42.27622464, 13.58342148, 22.92594831, 21.57412106,\n",
       "       22.17512178, 22.10771056, 25.95387019, 22.92800157, 12.85517475,\n",
       "       22.13646456, 13.40648815, 22.40613094, 17.57113127, 36.87183314,\n",
       "       14.19860369, 24.06614562, 13.02628673, 13.41769697, 23.10714208,\n",
       "       34.80432031, 36.88456958, 24.28417325, 23.65870061, 22.33143767,\n",
       "       22.49688469,  8.1155383 , 21.34087939, 17.69030415, 20.11018308,\n",
       "       20.82935914, 37.3586138 , 27.30404076, 23.19962556, 31.05301579,\n",
       "       17.79846994, 19.90537531, 33.28767904, 11.2686799 , 25.23436378,\n",
       "       28.34417213, 14.36361437, 22.89485468, 19.62027691, 17.99149576,\n",
       "       21.22293645, 40.91289804, 15.49806201, 21.19224229, 12.41637954,\n",
       "       20.11000405, 20.52812418, 24.54600631, 36.22177021, 21.61527382,\n",
       "       14.38093555, 14.47459321])"
      ]
     },
     "execution_count": 6,
     "metadata": {},
     "output_type": "execute_result"
    }
   ],
   "source": [
    "# 예측\n",
    "pred = knn1.predict(test_data_mn)\n",
    "pred"
   ]
  },
  {
   "cell_type": "code",
   "execution_count": 7,
   "id": "proved-newton",
   "metadata": {
    "execution": {
     "iopub.execute_input": "2021-04-19T12:43:52.791309Z",
     "iopub.status.busy": "2021-04-19T12:43:52.790185Z",
     "iopub.status.idle": "2021-04-19T12:43:52.804155Z",
     "shell.execute_reply": "2021-04-19T12:43:52.805036Z"
    },
    "papermill": {
     "duration": 0.031868,
     "end_time": "2021-04-19T12:43:52.805291",
     "exception": false,
     "start_time": "2021-04-19T12:43:52.773423",
     "status": "completed"
    },
    "tags": []
   },
   "outputs": [],
   "source": [
    "# 제출\n",
    "submit['price'] = pred\n",
    "submit.to_csv('submit.csv', index = False)"
   ]
  },
  {
   "cell_type": "code",
   "execution_count": 8,
   "id": "relevant-barrier",
   "metadata": {
    "execution": {
     "iopub.execute_input": "2021-04-19T12:43:52.832822Z",
     "iopub.status.busy": "2021-04-19T12:43:52.831737Z",
     "iopub.status.idle": "2021-04-19T12:43:52.836068Z",
     "shell.execute_reply": "2021-04-19T12:43:52.835326Z"
    },
    "papermill": {
     "duration": 0.020003,
     "end_time": "2021-04-19T12:43:52.836232",
     "exception": false,
     "start_time": "2021-04-19T12:43:52.816229",
     "status": "completed"
    },
    "tags": []
   },
   "outputs": [],
   "source": [
    "# 데이터를 로드한 후 각 데이터의 형식을 보니까 object형식이 너무많아 바꿔주었다. 그리고 내가 판단했을 때 별로 학습하는데 필요 없다고 생각한 행은 드랍했다.\n",
    "# 또한 데이터 자체를 확인해보니 편차가 너무 심하다고 판단하여 표준화로 전처리 해주었다.\n",
    "# 또한 y data 형식을 보니까 범주형 데이터가 아니라 연속형 데이터라 회귀라고 판단하였고 회귀 모델을 사용하여 학습하였다. 파라미터는 가중치를 부여하였고, 실험해보며 최적의 파라미터를 찾았다."
   ]
  }
 ],
 "metadata": {
  "kernelspec": {
   "display_name": "Python 3",
   "language": "python",
   "name": "python3"
  },
  "language_info": {
   "codemirror_mode": {
    "name": "ipython",
    "version": 3
   },
   "file_extension": ".py",
   "mimetype": "text/x-python",
   "name": "python",
   "nbconvert_exporter": "python",
   "pygments_lexer": "ipython3",
   "version": "3.7.9"
  },
  "papermill": {
   "default_parameters": {},
   "duration": 9.344284,
   "end_time": "2021-04-19T12:43:53.560411",
   "environment_variables": {},
   "exception": null,
   "input_path": "__notebook__.ipynb",
   "output_path": "__notebook__.ipynb",
   "parameters": {},
   "start_time": "2021-04-19T12:43:44.216127",
   "version": "2.3.2"
  }
 },
 "nbformat": 4,
 "nbformat_minor": 5
}
