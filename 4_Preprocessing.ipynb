{
  "nbformat": 4,
  "nbformat_minor": 0,
  "metadata": {
    "colab": {
      "name": "4_Preprocessing.ipynb",
      "provenance": [],
      "collapsed_sections": []
    },
    "kernelspec": {
      "name": "python3",
      "display_name": "Python 3"
    },
    "language_info": {
      "name": "python"
    }
  },
  "cells": [
    {
      "cell_type": "markdown",
      "metadata": {
        "id": "LRdmKtC_muLX"
      },
      "source": [
        "# 데이터전처리(Preprocessing)\n",
        "- 정의 : 데이터의 품질을 올리는 과정\n",
        "\n",
        "- 과정\n",
        "  1. 데이터의 실수화(Data Vectorization) : 연속형 자료 / 범주형 자료 / 텍스트 자료\n",
        "  2. 불완전한 데이터 제거 : NULL, NA, NAN 제거\n",
        "  3. 잡음섞인 데이터 제거 (ex1. 가격 데이터에 음수값이 있는 경우, ex2. 연령데이터에 과도하게 큰 값이 있는 경우)\n",
        "  4. 모순된 데이터 제거 (ex. 주민등록번호 데이터의 남성의 주민번호가 2나 4로 시작하는 경우)\n",
        "  5. 불균형 데이터 제거 : 특정 class의 데이터가 많거나/적거나 -> undersampling, oversampling\n",
        "\n",
        "- 기법\n",
        "  1. 데이터 실수화(Data Vectorization)\n",
        "  2. 데이터 정제(Data Cleaning) : 없는 데이터를 채우고, 잡음 데이터 제거하고, 모순 데이터를 올바른 데이터로 교정\n",
        "  3. 데이터 통합(Data Integration) : 여러 개의 데이터 파일을 하나로 합침\n",
        "  4. 데이터 축소(Data Reduction) : 데이터의 수를 줄이는 방법(oversampling, undersampling), 데이터의 차원을 축소하는 방법\n",
        "  5. 데이터 변환(Data Transformation) : 정규화 or 표준화, log화 등\n",
        "  6. 데이터 균형(Data Balancing) : class의 균형을 맞춤 - oversamling, undersamling"
      ]
    },
    {
      "cell_type": "markdown",
      "metadata": {
        "id": "uaWNgkBcmy7E"
      },
      "source": [
        "### 데이터 실수화(Data Vectorization)\n",
        "  1. 연속형 자료(Continuous data) : 구간으로 나누고, 그 구간마다 index를 지정함\n",
        "  2. 범주형 자료(Categorical data)\n",
        "  3. 텍스트 자료(Text data)"
      ]
    },
    {
      "cell_type": "markdown",
      "metadata": {
        "id": "OJPC6mRInAjK"
      },
      "source": [
        "#### 범주형 자료의 실수화\n",
        "\n"
      ]
    },
    {
      "cell_type": "markdown",
      "metadata": {
        "id": "yPSf-5Arqgr4"
      },
      "source": [
        "- One-hot encoding\n",
        "  - 0과 1으로 mapping 하는 것\n",
        "  - from sklearn.feature_extraction import DictVectorizer "
      ]
    },
    {
      "cell_type": "code",
      "metadata": {
        "colab": {
          "base_uri": "https://localhost:8080/"
        },
        "id": "JZVB5BltlApu",
        "outputId": "c0da06cc-040b-4db7-f420-efefb369a629"
      },
      "source": [
        "# 범주형 자료의 수량화\n",
        "x = [{'city' : 'Seoul', 'temp' : 10.0},\n",
        "     {'city': 'Dubai', 'temp' : 33.5},\n",
        "     {'city' : 'LA', 'temp' : 20.0}]\n",
        "x"
      ],
      "execution_count": null,
      "outputs": [
        {
          "output_type": "execute_result",
          "data": {
            "text/plain": [
              "[{'city': 'Seoul', 'temp': 10.0},\n",
              " {'city': 'Dubai', 'temp': 33.5},\n",
              " {'city': 'LA', 'temp': 20.0}]"
            ]
          },
          "metadata": {
            "tags": []
          },
          "execution_count": 2
        }
      ]
    },
    {
      "cell_type": "markdown",
      "metadata": {
        "id": "AfqJSsiLg-09"
      },
      "source": [
        "    - .fit_transform() : 변환 시작!\n",
        "    - DictVectorizer() : default sparse = True ( COO, CSR형태 )\n",
        "    - DictVectorizer(sparse=False) : COO, CSR표현식 압축해제\n",
        "    - .fit_transform().toarray() : CSR표현의 압축을 풀기 위해 사용"
      ]
    },
    {
      "cell_type": "code",
      "metadata": {
        "colab": {
          "base_uri": "https://localhost:8080/"
        },
        "id": "cBiEUi-NlikU",
        "outputId": "c73dc9fd-401c-43e3-efc4-594c1e24f037"
      },
      "source": [
        "from sklearn.feature_extraction import DictVectorizer # 실수화\n",
        "vec = DictVectorizer(sparse=False) # 압축해제 / defalut값 : sparse = True -> 희소행렬 형태이기 때문에 눈으로 확인 불가\n",
        "vec.fit_transform(x) # x를 범주형 수량화 자료로 변환"
      ],
      "execution_count": null,
      "outputs": [
        {
          "output_type": "execute_result",
          "data": {
            "text/plain": [
              "array([[ 0. ,  0. ,  1. , 10. ],\n",
              "       [ 1. ,  0. ,  0. , 33.5],\n",
              "       [ 0. ,  1. ,  0. , 20. ]])"
            ]
          },
          "metadata": {
            "tags": []
          },
          "execution_count": 3
        }
      ]
    },
    {
      "cell_type": "markdown",
      "metadata": {
        "id": "u39DTiAtgOet"
      },
      "source": [
        "- 희소행렬 : 대부분의 원소의 값이 0인 행렬 => 메모리 낭비가 심함\n",
        "  - 해결방법 : COO, CSR 표현식 (압축느낌) -> 눈으로 확인 불가"
      ]
    },
    {
      "cell_type": "code",
      "metadata": {
        "colab": {
          "base_uri": "https://localhost:8080/"
        },
        "id": "whIIJj0sn15z",
        "outputId": "01b8803a-1af8-40c9-e2c7-c14c1a009388"
      },
      "source": [
        "vec1 = DictVectorizer(sparse=True) # sparse = True : 다시 압축(COO, CSR 표현식으로 나타내겠다!)\n",
        "x1 = vec1.fit_transform(x) # .fit_transform : 변환 시작!\n",
        "x1"
      ],
      "execution_count": null,
      "outputs": [
        {
          "output_type": "execute_result",
          "data": {
            "text/plain": [
              "<3x4 sparse matrix of type '<class 'numpy.float64'>'\n",
              "\twith 6 stored elements in Compressed Sparse Row format>"
            ]
          },
          "metadata": {
            "tags": []
          },
          "execution_count": 5
        }
      ]
    },
    {
      "cell_type": "code",
      "metadata": {
        "colab": {
          "base_uri": "https://localhost:8080/"
        },
        "id": "A6hPsv9gqrWK",
        "outputId": "3678fdc4-524b-40f1-ff86-b9eaeadcf1a6"
      },
      "source": [
        "# sparse = True : 압축한 상태 => data를 가시적으로 확인할 수 없음\n",
        "# .toarray() == sparse = False : 압축 해제\n",
        "\n",
        "x1.toarray() # .toarray() : sparse = True를 풀고 배열로 변경\n",
        "vec.get_feature_names() # sparse = False / toarray() 로 CSR표현 압축 해제한 형태에서만 get_feature_names() 사용 가능\n",
        "\n",
        "# x1.get_feature_names() # : CSR 표현식이기 떄문에 확인 불가!!"
      ],
      "execution_count": null,
      "outputs": [
        {
          "output_type": "execute_result",
          "data": {
            "text/plain": [
              "['city=Dubai', 'city=LA', 'city=Seoul', 'temp']"
            ]
          },
          "metadata": {
            "tags": []
          },
          "execution_count": 11
        }
      ]
    },
    {
      "cell_type": "markdown",
      "metadata": {
        "id": "zjfUJdQUqs9o"
      },
      "source": [
        "#### 텍스트 자료의 실수화"
      ]
    },
    {
      "cell_type": "markdown",
      "metadata": {
        "id": "uy8nF4YYfJ8N"
      },
      "source": [
        "- 단어의 출현 횟수를 이용한 데이터 실수화\n",
        "  - from sklearn.feature_extraction.text import CountVectorizer"
      ]
    },
    {
      "cell_type": "code",
      "metadata": {
        "colab": {
          "base_uri": "https://localhost:8080/"
        },
        "id": "55_4caQUoNhw",
        "outputId": "5f63856a-fb0d-48f2-965a-6f589404ff13"
      },
      "source": [
        "# text 자료의 수량화\n",
        "text = ['떴다 떴다 비행기 날아라 날아라',\n",
        "        '높이 높이 날아라 우리 비행기',\n",
        "        '내가 만든 비행기 날아라 날아라',\n",
        "        '멀리 멀리 날아라 우리 비행기']\n",
        "\n",
        "text"
      ],
      "execution_count": null,
      "outputs": [
        {
          "output_type": "execute_result",
          "data": {
            "text/plain": [
              "['떴다 떴다 비행기 날아라 날아라',\n",
              " '높이 높이 날아라 우리 비행기',\n",
              " '내가 만든 비행기 날아라 날아라',\n",
              " '멀리 멀리 날아라 우리 비행기']"
            ]
          },
          "metadata": {
            "tags": []
          },
          "execution_count": 12
        }
      ]
    },
    {
      "cell_type": "code",
      "metadata": {
        "colab": {
          "base_uri": "https://localhost:8080/"
        },
        "id": "HzKibO7iomqM",
        "outputId": "8ed68300-e72d-4ad9-fd96-e7b79f9d6dd6"
      },
      "source": [
        "from sklearn.feature_extraction.text import CountVectorizer\n",
        "vec2 = CountVectorizer() # dafault값 : sparse = True\n",
        "t = vec2.fit_transform(text).toarray() # toarray() : sparse=False (압축해제)\n",
        "t"
      ],
      "execution_count": null,
      "outputs": [
        {
          "output_type": "execute_result",
          "data": {
            "text/plain": [
              "array([[2, 0, 0, 2, 0, 0, 1, 0],\n",
              "       [1, 0, 2, 0, 0, 0, 1, 1],\n",
              "       [2, 1, 0, 0, 1, 0, 1, 0],\n",
              "       [1, 0, 0, 0, 0, 2, 1, 1]])"
            ]
          },
          "metadata": {
            "tags": []
          },
          "execution_count": 13
        }
      ]
    },
    {
      "cell_type": "code",
      "metadata": {
        "colab": {
          "base_uri": "https://localhost:8080/",
          "height": 173
        },
        "id": "W9E3wdKLo6OJ",
        "outputId": "cb05dc39-1766-435b-ba6d-45475c4b191e"
      },
      "source": [
        "import pandas as pd # data를 표로 보기 위해\n",
        "t1 = pd.DataFrame(t, columns=vec2.get_feature_names())\n",
        "t1"
      ],
      "execution_count": null,
      "outputs": [
        {
          "output_type": "execute_result",
          "data": {
            "text/html": [
              "<div>\n",
              "<style scoped>\n",
              "    .dataframe tbody tr th:only-of-type {\n",
              "        vertical-align: middle;\n",
              "    }\n",
              "\n",
              "    .dataframe tbody tr th {\n",
              "        vertical-align: top;\n",
              "    }\n",
              "\n",
              "    .dataframe thead th {\n",
              "        text-align: right;\n",
              "    }\n",
              "</style>\n",
              "<table border=\"1\" class=\"dataframe\">\n",
              "  <thead>\n",
              "    <tr style=\"text-align: right;\">\n",
              "      <th></th>\n",
              "      <th>날아라</th>\n",
              "      <th>내가</th>\n",
              "      <th>높이</th>\n",
              "      <th>떴다</th>\n",
              "      <th>만든</th>\n",
              "      <th>멀리</th>\n",
              "      <th>비행기</th>\n",
              "      <th>우리</th>\n",
              "    </tr>\n",
              "  </thead>\n",
              "  <tbody>\n",
              "    <tr>\n",
              "      <th>0</th>\n",
              "      <td>2</td>\n",
              "      <td>0</td>\n",
              "      <td>0</td>\n",
              "      <td>2</td>\n",
              "      <td>0</td>\n",
              "      <td>0</td>\n",
              "      <td>1</td>\n",
              "      <td>0</td>\n",
              "    </tr>\n",
              "    <tr>\n",
              "      <th>1</th>\n",
              "      <td>1</td>\n",
              "      <td>0</td>\n",
              "      <td>2</td>\n",
              "      <td>0</td>\n",
              "      <td>0</td>\n",
              "      <td>0</td>\n",
              "      <td>1</td>\n",
              "      <td>1</td>\n",
              "    </tr>\n",
              "    <tr>\n",
              "      <th>2</th>\n",
              "      <td>2</td>\n",
              "      <td>1</td>\n",
              "      <td>0</td>\n",
              "      <td>0</td>\n",
              "      <td>1</td>\n",
              "      <td>0</td>\n",
              "      <td>1</td>\n",
              "      <td>0</td>\n",
              "    </tr>\n",
              "    <tr>\n",
              "      <th>3</th>\n",
              "      <td>1</td>\n",
              "      <td>0</td>\n",
              "      <td>0</td>\n",
              "      <td>0</td>\n",
              "      <td>0</td>\n",
              "      <td>2</td>\n",
              "      <td>1</td>\n",
              "      <td>1</td>\n",
              "    </tr>\n",
              "  </tbody>\n",
              "</table>\n",
              "</div>"
            ],
            "text/plain": [
              "   날아라  내가  높이  떴다  만든  멀리  비행기  우리\n",
              "0    2   0   0   2   0   0    1   0\n",
              "1    1   0   2   0   0   0    1   1\n",
              "2    2   1   0   0   1   0    1   0\n",
              "3    1   0   0   0   0   2    1   1"
            ]
          },
          "metadata": {
            "tags": []
          },
          "execution_count": 14
        }
      ]
    },
    {
      "cell_type": "code",
      "metadata": {
        "colab": {
          "base_uri": "https://localhost:8080/"
        },
        "id": "WyqCUfQ7pevx",
        "outputId": "ecf534eb-a6a2-4797-ca4b-f49b324100fb"
      },
      "source": [
        "vec2.get_feature_names()"
      ],
      "execution_count": null,
      "outputs": [
        {
          "output_type": "execute_result",
          "data": {
            "text/plain": [
              "['날아라', '내가', '높이', '떴다', '만든', '멀리', '비행기', '우리']"
            ]
          },
          "metadata": {
            "tags": []
          },
          "execution_count": 15
        }
      ]
    },
    {
      "cell_type": "markdown",
      "metadata": {
        "id": "lwRXQGzGf0DX"
      },
      "source": [
        "- TF-IDF(Term Frequency Inverse Document Frequency) 기법\n",
        "  - 가중치를 재계산 하는 방법\n",
        "  - a, the와 같은 관사처럼 자주 등장하여 분석에 의미를 갖지 못하는 단어의 중요도를 낮추는 기법\n",
        "  - from sklearn.feature_extraction.text import TfidfVectorizer"
      ]
    },
    {
      "cell_type": "code",
      "metadata": {
        "colab": {
          "base_uri": "https://localhost:8080/",
          "height": 173
        },
        "id": "nwmi5Uh1p0Dq",
        "outputId": "35bbb3f2-d645-4f15-acc1-85afe3598082"
      },
      "source": [
        "from sklearn.feature_extraction.text import TfidfVectorizer\n",
        "tfid = TfidfVectorizer()\n",
        "x2 = tfid.fit_transform(text).toarray() # 가중치 재계산\n",
        "x3 = pd.DataFrame(x2, columns=tfid.get_feature_names())\n",
        "x3"
      ],
      "execution_count": null,
      "outputs": [
        {
          "output_type": "execute_result",
          "data": {
            "text/html": [
              "<div>\n",
              "<style scoped>\n",
              "    .dataframe tbody tr th:only-of-type {\n",
              "        vertical-align: middle;\n",
              "    }\n",
              "\n",
              "    .dataframe tbody tr th {\n",
              "        vertical-align: top;\n",
              "    }\n",
              "\n",
              "    .dataframe thead th {\n",
              "        text-align: right;\n",
              "    }\n",
              "</style>\n",
              "<table border=\"1\" class=\"dataframe\">\n",
              "  <thead>\n",
              "    <tr style=\"text-align: right;\">\n",
              "      <th></th>\n",
              "      <th>날아라</th>\n",
              "      <th>내가</th>\n",
              "      <th>높이</th>\n",
              "      <th>떴다</th>\n",
              "      <th>만든</th>\n",
              "      <th>멀리</th>\n",
              "      <th>비행기</th>\n",
              "      <th>우리</th>\n",
              "    </tr>\n",
              "  </thead>\n",
              "  <tbody>\n",
              "    <tr>\n",
              "      <th>0</th>\n",
              "      <td>0.450735</td>\n",
              "      <td>0.000000</td>\n",
              "      <td>0.00000</td>\n",
              "      <td>0.86374</td>\n",
              "      <td>0.000000</td>\n",
              "      <td>0.00000</td>\n",
              "      <td>0.225368</td>\n",
              "      <td>0.000000</td>\n",
              "    </tr>\n",
              "    <tr>\n",
              "      <th>1</th>\n",
              "      <td>0.229589</td>\n",
              "      <td>0.000000</td>\n",
              "      <td>0.87992</td>\n",
              "      <td>0.00000</td>\n",
              "      <td>0.000000</td>\n",
              "      <td>0.00000</td>\n",
              "      <td>0.229589</td>\n",
              "      <td>0.346869</td>\n",
              "    </tr>\n",
              "    <tr>\n",
              "      <th>2</th>\n",
              "      <td>0.569241</td>\n",
              "      <td>0.545415</td>\n",
              "      <td>0.00000</td>\n",
              "      <td>0.00000</td>\n",
              "      <td>0.545415</td>\n",
              "      <td>0.00000</td>\n",
              "      <td>0.284620</td>\n",
              "      <td>0.000000</td>\n",
              "    </tr>\n",
              "    <tr>\n",
              "      <th>3</th>\n",
              "      <td>0.229589</td>\n",
              "      <td>0.000000</td>\n",
              "      <td>0.00000</td>\n",
              "      <td>0.00000</td>\n",
              "      <td>0.000000</td>\n",
              "      <td>0.87992</td>\n",
              "      <td>0.229589</td>\n",
              "      <td>0.346869</td>\n",
              "    </tr>\n",
              "  </tbody>\n",
              "</table>\n",
              "</div>"
            ],
            "text/plain": [
              "        날아라        내가       높이       떴다        만든       멀리       비행기        우리\n",
              "0  0.450735  0.000000  0.00000  0.86374  0.000000  0.00000  0.225368  0.000000\n",
              "1  0.229589  0.000000  0.87992  0.00000  0.000000  0.00000  0.229589  0.346869\n",
              "2  0.569241  0.545415  0.00000  0.00000  0.545415  0.00000  0.284620  0.000000\n",
              "3  0.229589  0.000000  0.00000  0.00000  0.000000  0.87992  0.229589  0.346869"
            ]
          },
          "metadata": {
            "tags": []
          },
          "execution_count": 15
        }
      ]
    },
    {
      "cell_type": "markdown",
      "metadata": {
        "id": "mrj9OJwwrhtB"
      },
      "source": [
        "### 데이터 변환(Data Transformation)\n",
        "- 데이터가 가진 특성간 크기 편차를 줄이기 위해\n",
        "- 변환법(2) : 0~1 사이의 값을 가지게 됨\n",
        "  - 표준화 : bell-shape / 이상치가 존재할 때 유용\n",
        "    - x_std = (x-mean(x))/sd(x)\n",
        "  - 정규화 : 일반적으로 표준화보다 유용\n",
        "    - x_nor = (x-min(x))/(max(x)-min(x))"
      ]
    },
    {
      "cell_type": "markdown",
      "metadata": {
        "id": "whMZUnJNrxKB"
      },
      "source": [
        "### 데이터 정제(Data Cleaning)\n",
        "  - 결측 데이터 채우기(Empty Values)\n",
        "    - 결측 데이터 : np, nan, npNaN, None\n",
        "    - 평균(mean) / 중위수(median) / 최빈수(most frequent value) 로 대체\n",
        "    - 사용가능 함수\n",
        "      - sklearn의 Imputer() : 평균, 중위수, 최빈수 선택\n",
        "      - sklearn의 dropna(), filna() : 결측 데이터를 0으로\n",
        "    - from sklearn.impute import SimpleImputer"
      ]
    },
    {
      "cell_type": "code",
      "metadata": {
        "colab": {
          "base_uri": "https://localhost:8080/"
        },
        "id": "jjSzk5fvp91q",
        "outputId": "64a1431a-f17f-4894-d2de-d29e0229007f"
      },
      "source": [
        "  import numpy as np\n",
        "  x_miss=np.array([[1,2,3,None],\n",
        "                   [5, np.NAN, 7, 8],\n",
        "                   [None, 10, 11, 12],\n",
        "                   [13, np.nan, 15, 16]])\n",
        "  x_miss"
      ],
      "execution_count": null,
      "outputs": [
        {
          "output_type": "execute_result",
          "data": {
            "text/plain": [
              "array([[1, 2, 3, None],\n",
              "       [5, nan, 7, 8],\n",
              "       [None, 10, 11, 12],\n",
              "       [13, nan, 15, 16]], dtype=object)"
            ]
          },
          "metadata": {
            "tags": []
          },
          "execution_count": 16
        }
      ]
    },
    {
      "cell_type": "code",
      "metadata": {
        "colab": {
          "base_uri": "https://localhost:8080/"
        },
        "id": "-DHdz-HIslR0",
        "outputId": "d5098455-8138-4878-8c0b-6a71abce42ba"
      },
      "source": [
        "from sklearn.impute import SimpleImputer\n",
        "im = SimpleImputer(missing_values = np.nan, strategy='mean') # median : 중위값\n",
        "im.fit(x_miss)"
      ],
      "execution_count": null,
      "outputs": [
        {
          "output_type": "execute_result",
          "data": {
            "text/plain": [
              "SimpleImputer(add_indicator=False, copy=True, fill_value=None,\n",
              "              missing_values=nan, strategy='mean', verbose=0)"
            ]
          },
          "metadata": {
            "tags": []
          },
          "execution_count": 17
        }
      ]
    },
    {
      "cell_type": "markdown",
      "metadata": {
        "id": "L7OECBwbuiW4"
      },
      "source": [
        "### 데이터 통합(Data Integration)\n",
        "- 여러 개의 파일을 하나로 합침\n",
        "    - pandas의 merge()함수 사용\n",
        "    - pandas의 df.dtypes로 변수의 자료 타입 확인"
      ]
    },
    {
      "cell_type": "code",
      "metadata": {
        "id": "spBa7mrLs3-r"
      },
      "source": [
        "# [1]\n",
        "# www.kaggle.com 에서 www.kaggle.com/c/rossmann-store-sales/data 에서 자료 다운로드\n",
        "# zip 풀어서 파일 colab에 업로드\n",
        "\n",
        "# [2]\n",
        "# 제공되는 파일 업로드\n",
        "\n",
        "# import pandas as pd\n",
        "# df1 = pd.read_csv('train.csv', engine='python') -> 파일경로 왜 안되냐..??? 어????!?!?!?!?!?\n",
        "# print(df1.shape)\n",
        "# type(df1)\n",
        "# df1.head()\n",
        "\n",
        "# df2=pd.read_csv('store.csv', engine='python')\n",
        "# df2.shape\n",
        "#df2.head()\n",
        "\n",
        "# df= pd.merge(df1, df2, on='Store')\n",
        "# df.shape\n",
        "# df.dtypes"
      ],
      "execution_count": null,
      "outputs": []
    },
    {
      "cell_type": "markdown",
      "metadata": {
        "id": "aJ_7PXfzxNgT"
      },
      "source": [
        "### 데이터 불균형(Data Imbalance)\n",
        "  - 머신러닝의 목적이 '분류'일 때, 특정 클래스의 관측치가 다른 클래스에 비해 매우 낮게 나타날 때\n",
        "  - 불균형 데이터 해소 기법(2) : undersampling, oversampling\n",
        "    - undersampling : 다수클래스의 표본을 임의로 학습데이터로부터 제거하는 것\n",
        "      - from imblearn.under_sampling import NearMiss\n",
        "    - oversampling : 소수 클래스의 표본을 복제하여 학습데이터에 추가하는 것\n",
        "      - SMOTE : from imblearn.over_sampling import SMOTE\n",
        "      - ADASYN : from imblearn.over_sampling import ADASYN\n",
        "  - 의사결정나무와 앙상블은 상대적으로 불균형자료에 강인한 특성을 보임\n",
        "  - .fit.resample() : 다시 sampling"
      ]
    },
    {
      "cell_type": "markdown",
      "metadata": {
        "id": "NVyBsz4nz7rw"
      },
      "source": [
        "- 불균형 데이터 생성"
      ]
    },
    {
      "cell_type": "code",
      "metadata": {
        "colab": {
          "base_uri": "https://localhost:8080/"
        },
        "id": "kgiPLo1TuuYT",
        "outputId": "dc06df53-6d8f-4d3e-9aba-54975fbeb60d"
      },
      "source": [
        "from collections import Counter\n",
        "from sklearn.datasets import make_classification \n",
        "\n",
        "# 불균형 데이터 생성\n",
        "X, y = make_classification(n_classes = 3, weights = [0.03, 0.07, 0.9],\n",
        "                           n_features = 2, n_informative = 2, n_redundant = 0,\n",
        "                           n_clusters_per_class = 1, n_samples = 200, random_state = 10\n",
        "                           )\n",
        "\n",
        "print('Original dataset shape %s'% Counter(y))"
      ],
      "execution_count": null,
      "outputs": [
        {
          "output_type": "stream",
          "text": [
            "Original dataset shape Counter({2: 180, 1: 14, 0: 6})\n"
          ],
          "name": "stdout"
        }
      ]
    },
    {
      "cell_type": "markdown",
      "metadata": {
        "id": "rvTXoVBuz-jq"
      },
      "source": [
        "- 데이터 시각화"
      ]
    },
    {
      "cell_type": "code",
      "metadata": {
        "colab": {
          "base_uri": "https://localhost:8080/",
          "height": 283
        },
        "id": "aTJYIBmuyTC1",
        "outputId": "817b2509-9b99-4b6d-bc4f-75951fe61304"
      },
      "source": [
        "# 데이터 시각화 (matplot.pyplot)\n",
        "import matplotlib.pyplot as plt\n",
        "\n",
        "plt.scatter(X[:, 0], X[:, 1], marker='o', c = y,\n",
        "            s = 100, edgecolor = 'k', linewidth = 2)\n",
        "\n",
        "plt.xlabel(\"$X_1$\")\n",
        "plt.ylabel(\"$X_2$\")\n",
        "plt.show()"
      ],
      "execution_count": null,
      "outputs": [
        {
          "output_type": "display_data",
          "data": {
            "image/png": "[encoded data removed]",
            "text/plain": [
              "<Figure size 432x288 with 1 Axes>"
            ]
          },
          "metadata": {
            "tags": [],
            "needs_background": "light"
          }
        }
      ]
    },
    {
      "cell_type": "markdown",
      "metadata": {
        "id": "dwCeW-qA0Aie"
      },
      "source": [
        "- oversampling(1) : SMOTE\n",
        "  - from imblearn.over_sampling import SMOTE"
      ]
    },
    {
      "cell_type": "code",
      "metadata": {
        "colab": {
          "base_uri": "https://localhost:8080/"
        },
        "id": "hJ7SpB81yo7B",
        "outputId": "9b775018-9eec-4aa1-8a3a-895a79ced8b2"
      },
      "source": [
        "# Oversamling : SMOTE\n",
        "from imblearn.over_sampling import SMOTE, ADASYN # 데이터 불균형 해결\n",
        "\n",
        "sm = SMOTE(random_state=42)\n",
        "X_res, y_res = sm.fit_resample(X, y) # SMOTE의 메쏘드\n",
        "print('Resampled dataset shape from SMOTE %s' %Counter(y_res))"
      ],
      "execution_count": null,
      "outputs": [
        {
          "output_type": "stream",
          "text": [
            "Resampled dataset shape from SMOTE Counter({2: 180, 1: 180, 0: 180})\n"
          ],
          "name": "stdout"
        },
        {
          "output_type": "stream",
          "text": [
            "/usr/local/lib/python3.7/dist-packages/sklearn/externals/six.py:31: FutureWarning: The module is deprecated in version 0.21 and will be removed in version 0.23 since we've dropped support for Python 2.7. Please rely on the official version of six (https://pypi.org/project/six/).\n",
            "  \"(https://pypi.org/project/six/).\", FutureWarning)\n",
            "/usr/local/lib/python3.7/dist-packages/sklearn/utils/deprecation.py:144: FutureWarning: The sklearn.neighbors.base module is  deprecated in version 0.22 and will be removed in version 0.24. The corresponding classes / functions should instead be imported from sklearn.neighbors. Anything that cannot be imported from sklearn.neighbors is now part of the private API.\n",
            "  warnings.warn(message, FutureWarning)\n",
            "/usr/local/lib/python3.7/dist-packages/sklearn/utils/deprecation.py:87: FutureWarning: Function safe_indexing is deprecated; safe_indexing is deprecated in version 0.22 and will be removed in version 0.24.\n",
            "  warnings.warn(msg, category=FutureWarning)\n",
            "/usr/local/lib/python3.7/dist-packages/sklearn/utils/deprecation.py:87: FutureWarning: Function safe_indexing is deprecated; safe_indexing is deprecated in version 0.22 and will be removed in version 0.24.\n",
            "  warnings.warn(msg, category=FutureWarning)\n"
          ],
          "name": "stderr"
        }
      ]
    },
    {
      "cell_type": "code",
      "metadata": {
        "colab": {
          "base_uri": "https://localhost:8080/",
          "height": 283
        },
        "id": "Q_i2_pTyzv0y",
        "outputId": "5ce1cb55-491b-4dcc-e1e9-a39b0cf4fbb7"
      },
      "source": [
        "plt.scatter(X_res[:, 0], X_res[:,1], marker='o', c=y_res,\n",
        "            s=100, edgecolor='k', linewidth=2)\n",
        "plt.xlabel(\"$X_1$\")\n",
        "plt.ylabel(\"$X_2\")\n",
        "plt.show()"
      ],
      "execution_count": null,
      "outputs": [
        {
          "output_type": "display_data",
          "data": {
            "image/png": "[encoded data removed]",
            "text/plain": [
              "<Figure size 432x288 with 1 Axes>"
            ]
          },
          "metadata": {
            "tags": [],
            "needs_background": "light"
          }
        }
      ]
    },
    {
      "cell_type": "markdown",
      "metadata": {
        "id": "glSaCclP0EAT"
      },
      "source": [
        "- oversampling(2) : ADASYN\n",
        "  - from imblearn.over_sampling import ADASYN"
      ]
    },
    {
      "cell_type": "code",
      "metadata": {
        "colab": {
          "base_uri": "https://localhost:8080/"
        },
        "id": "xy3CKiQmy5pl",
        "outputId": "4267c0cf-335c-4356-9c6f-1891f1a17d47"
      },
      "source": [
        "# Oversamling : ADASYN\n",
        "ada = ADASYN(random_state=0)\n",
        "X_syn, y_syn = ada.fit_resample(X, y)\n",
        "print('Resampled dataset shape from ADASYN %s'%Counter(y_syn))"
      ],
      "execution_count": null,
      "outputs": [
        {
          "output_type": "stream",
          "text": [
            "Resampled dataset shape from ADASYN Counter({2: 180, 1: 179, 0: 178})\n"
          ],
          "name": "stdout"
        },
        {
          "output_type": "stream",
          "text": [
            "/usr/local/lib/python3.7/dist-packages/sklearn/utils/deprecation.py:87: FutureWarning: Function safe_indexing is deprecated; safe_indexing is deprecated in version 0.22 and will be removed in version 0.24.\n",
            "  warnings.warn(msg, category=FutureWarning)\n",
            "/usr/local/lib/python3.7/dist-packages/sklearn/utils/deprecation.py:87: FutureWarning: Function safe_indexing is deprecated; safe_indexing is deprecated in version 0.22 and will be removed in version 0.24.\n",
            "  warnings.warn(msg, category=FutureWarning)\n"
          ],
          "name": "stderr"
        }
      ]
    },
    {
      "cell_type": "code",
      "metadata": {
        "colab": {
          "base_uri": "https://localhost:8080/",
          "height": 283
        },
        "id": "J-_DFQNtzTKW",
        "outputId": "b166d152-1f87-4411-ce56-e402d8c0ba2a"
      },
      "source": [
        "plt.scatter(X_syn[:, 0], X_syn[:,1], marker='o', c=y_syn,\n",
        "            s=100, edgecolor='k', linewidth=2)\n",
        "plt.xlabel(\"$X_1$\")\n",
        "plt.ylabel(\"$X_2\")\n",
        "plt.show()"
      ],
      "execution_count": null,
      "outputs": [
        {
          "output_type": "display_data",
          "data": {
            "image/png": "[encoded data removed]",
            "text/plain": [
              "<Figure size 432x288 with 1 Axes>"
            ]
          },
          "metadata": {
            "tags": [],
            "needs_background": "light"
          }
        }
      ]
    },
    {
      "cell_type": "markdown",
      "metadata": {
        "id": "bRvJd6F80Gvo"
      },
      "source": [
        "- undersampling : NearMiss\n",
        "  - from imblearn.under_sampling import NearMiss"
      ]
    },
    {
      "cell_type": "code",
      "metadata": {
        "colab": {
          "base_uri": "https://localhost:8080/"
        },
        "id": "IX2fEvEizlhY",
        "outputId": "b88f6c11-06dc-4090-c8d7-cf92bb438fa7"
      },
      "source": [
        "# undersampling : NearMiss\n",
        "from imblearn.under_sampling import NearMiss\n",
        "\n",
        "# undersample이라는 undersampling method 정의\n",
        "undersample = NearMiss(version = 3, n_neighbors_ver3 = 3)\n",
        "\n",
        "X_Under, y_Under = undersample.fit_resample(X, y)"
      ],
      "execution_count": null,
      "outputs": [
        {
          "output_type": "stream",
          "text": [
            "/usr/local/lib/python3.7/dist-packages/sklearn/utils/deprecation.py:87: FutureWarning: Function safe_indexing is deprecated; safe_indexing is deprecated in version 0.22 and will be removed in version 0.24.\n",
            "  warnings.warn(msg, category=FutureWarning)\n",
            "/usr/local/lib/python3.7/dist-packages/sklearn/utils/deprecation.py:87: FutureWarning: Function safe_indexing is deprecated; safe_indexing is deprecated in version 0.22 and will be removed in version 0.24.\n",
            "  warnings.warn(msg, category=FutureWarning)\n",
            "/usr/local/lib/python3.7/dist-packages/sklearn/utils/deprecation.py:87: FutureWarning: Function safe_indexing is deprecated; safe_indexing is deprecated in version 0.22 and will be removed in version 0.24.\n",
            "  warnings.warn(msg, category=FutureWarning)\n",
            "/usr/local/lib/python3.7/dist-packages/sklearn/utils/deprecation.py:87: FutureWarning: Function safe_indexing is deprecated; safe_indexing is deprecated in version 0.22 and will be removed in version 0.24.\n",
            "  warnings.warn(msg, category=FutureWarning)\n",
            "/usr/local/lib/python3.7/dist-packages/sklearn/utils/deprecation.py:87: FutureWarning: Function safe_indexing is deprecated; safe_indexing is deprecated in version 0.22 and will be removed in version 0.24.\n",
            "  warnings.warn(msg, category=FutureWarning)\n",
            "/usr/local/lib/python3.7/dist-packages/sklearn/utils/deprecation.py:87: FutureWarning: Function safe_indexing is deprecated; safe_indexing is deprecated in version 0.22 and will be removed in version 0.24.\n",
            "  warnings.warn(msg, category=FutureWarning)\n",
            "/usr/local/lib/python3.7/dist-packages/sklearn/utils/deprecation.py:87: FutureWarning: Function safe_indexing is deprecated; safe_indexing is deprecated in version 0.22 and will be removed in version 0.24.\n",
            "  warnings.warn(msg, category=FutureWarning)\n",
            "/usr/local/lib/python3.7/dist-packages/sklearn/utils/deprecation.py:87: FutureWarning: Function safe_indexing is deprecated; safe_indexing is deprecated in version 0.22 and will be removed in version 0.24.\n",
            "  warnings.warn(msg, category=FutureWarning)\n"
          ],
          "name": "stderr"
        }
      ]
    },
    {
      "cell_type": "code",
      "metadata": {
        "colab": {
          "base_uri": "https://localhost:8080/",
          "height": 283
        },
        "id": "w7m_M9LL0XhM",
        "outputId": "fde48df3-3d01-451d-8e84-1b63c806c942"
      },
      "source": [
        "plt.scatter(X_Under[:, 0], X_Under[:, 1], marker='o', c=y_Under,\n",
        "            s = 100, edgecolor='k', linewidth=2)\n",
        "\n",
        "plt.xlabel(\"$X_1$\")\n",
        "plt.ylabel(\"$X_2$\")\n",
        "plt.show()"
      ],
      "execution_count": null,
      "outputs": [
        {
          "output_type": "display_data",
          "data": {
            "image/png": "[encoded data removed]",
            "text/plain": [
              "<Figure size 432x288 with 1 Axes>"
            ]
          },
          "metadata": {
            "tags": [],
            "needs_background": "light"
          }
        }
      ]
    },
    {
      "cell_type": "code",
      "metadata": {
        "id": "vmR2frwb0pxk"
      },
      "source": [
        ""
      ],
      "execution_count": null,
      "outputs": []
    }
  ]
}